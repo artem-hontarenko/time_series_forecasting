{
 "cells": [
  {
   "cell_type": "markdown",
   "id": "6faf57d0",
   "metadata": {},
   "source": [
    "## Imports"
   ]
  },
  {
   "cell_type": "code",
   "execution_count": 61,
   "id": "daa062fd",
   "metadata": {},
   "outputs": [],
   "source": [
    "import numpy as np\n",
    "import pandas as pd\n",
    "import yfinance as yf\n",
    "import os\n",
    "import matplotlib.pyplot as plt\n",
    "import seaborn as sns\n",
    "import time\n",
    "\n",
    "from scipy.stats import spearmanr\n",
    "from talib import RSI, BBANDS, MACD, ATR"
   ]
  },
  {
   "cell_type": "code",
   "execution_count": 62,
   "id": "d6e68830",
   "metadata": {},
   "outputs": [
    {
     "name": "stdout",
     "output_type": "stream",
     "text": [
      "Total tickers: 9\n",
      "['AAPL', 'MSFT', 'NVDA', 'GOOGL', 'GOOG', 'AMZN', 'META', 'TSLA', 'AVGO']\n"
     ]
    }
   ],
   "source": [
    "# # Top 50 companies by market cap\n",
    "# tickers = [\n",
    "#     # Technology\n",
    "#     'AAPL', 'MSFT', 'NVDA', 'GOOGL', 'GOOG', 'AMZN', 'META', 'TSLA', 'AVGO', 'ORCL',\n",
    "#     'CRM', 'ADBE', 'NFLX', 'AMD', 'INTC', 'CSCO', 'QCOM', 'TXN', 'INTU', 'IBM',\n",
    "    \n",
    "#     # Financial Services\n",
    "#     'BRK-B', 'JPM', 'V', 'MA', 'BAC', 'WFC', 'GS', 'MS', 'C', 'AXP',\n",
    "    \n",
    "#     # Healthcare & Pharmaceuticals\n",
    "#     'UNH', 'JNJ', 'PFE', 'ABBV', 'MRK', 'TMO', 'ABT', 'DHR', 'BMY', 'LLY',\n",
    "    \n",
    "#     # Consumer & Retail\n",
    "#     'COST', 'PG', 'KO', 'PEP', 'WMT', 'HD', 'MCD', 'DIS', 'NKE', 'SBUX'\n",
    "# ]\n",
    "tickers = ['AAPL', 'MSFT', 'NVDA', 'GOOGL', 'GOOG', 'AMZN', 'META', 'TSLA', 'AVGO']\n",
    "\n",
    "# Clean tickers for yfinance compatibility\n",
    "tickers = [ticker.replace('.', '-') for ticker in tickers]\n",
    "print(f\"Total tickers: {len(tickers)}\")\n",
    "print(tickers)"
   ]
  },
  {
   "cell_type": "code",
   "execution_count": 63,
   "id": "8bc035b0",
   "metadata": {},
   "outputs": [],
   "source": [
    "start_date = '2015-01-01'\n",
    "end_date = '2025-01-01'"
   ]
  },
  {
   "cell_type": "markdown",
   "id": "a0a0b528",
   "metadata": {},
   "source": [
    "The following method is supposed to download data for each ticket."
   ]
  },
  {
   "cell_type": "code",
   "execution_count": 64,
   "id": "8df57d90",
   "metadata": {},
   "outputs": [],
   "source": [
    "def get_data(ticker, start_date, end_date):\n",
    "    data = yf.download(ticker, start_date, end_date)\n",
    "    data[\"Ticker\"] = ticker\n",
    "    return data"
   ]
  },
  {
   "cell_type": "code",
   "execution_count": 65,
   "id": "6e2b982f",
   "metadata": {},
   "outputs": [
    {
     "name": "stderr",
     "output_type": "stream",
     "text": [
      "/tmp/ipykernel_21078/3049716656.py:2: FutureWarning: YF.download() has changed argument auto_adjust default to True\n",
      "  data = yf.download(ticker, start_date, end_date)\n",
      "[*********************100%***********************]  1 of 1 completed"
     ]
    },
    {
     "name": "stdout",
     "output_type": "stream",
     "text": [
      "Processing data for 9 stocks...\n",
      "Processed AAPL data with 2516 rows.\n"
     ]
    },
    {
     "name": "stderr",
     "output_type": "stream",
     "text": [
      "\n",
      "/tmp/ipykernel_21078/3049716656.py:2: FutureWarning: YF.download() has changed argument auto_adjust default to True\n",
      "  data = yf.download(ticker, start_date, end_date)\n",
      "[*********************100%***********************]  1 of 1 completed\n"
     ]
    },
    {
     "name": "stdout",
     "output_type": "stream",
     "text": [
      "Processed MSFT data with 2516 rows.\n"
     ]
    },
    {
     "name": "stderr",
     "output_type": "stream",
     "text": [
      "/tmp/ipykernel_21078/3049716656.py:2: FutureWarning: YF.download() has changed argument auto_adjust default to True\n",
      "  data = yf.download(ticker, start_date, end_date)\n",
      "[*********************100%***********************]  1 of 1 completed\n"
     ]
    },
    {
     "name": "stdout",
     "output_type": "stream",
     "text": [
      "Processed NVDA data with 2516 rows.\n"
     ]
    },
    {
     "name": "stderr",
     "output_type": "stream",
     "text": [
      "/tmp/ipykernel_21078/3049716656.py:2: FutureWarning: YF.download() has changed argument auto_adjust default to True\n",
      "  data = yf.download(ticker, start_date, end_date)\n",
      "[*********************100%***********************]  1 of 1 completed\n"
     ]
    },
    {
     "name": "stdout",
     "output_type": "stream",
     "text": [
      "Processed GOOGL data with 2516 rows.\n"
     ]
    },
    {
     "name": "stderr",
     "output_type": "stream",
     "text": [
      "/tmp/ipykernel_21078/3049716656.py:2: FutureWarning: YF.download() has changed argument auto_adjust default to True\n",
      "  data = yf.download(ticker, start_date, end_date)\n",
      "[*********************100%***********************]  1 of 1 completed\n"
     ]
    },
    {
     "name": "stdout",
     "output_type": "stream",
     "text": [
      "Processed GOOG data with 2516 rows.\n"
     ]
    },
    {
     "name": "stderr",
     "output_type": "stream",
     "text": [
      "/tmp/ipykernel_21078/3049716656.py:2: FutureWarning: YF.download() has changed argument auto_adjust default to True\n",
      "  data = yf.download(ticker, start_date, end_date)\n",
      "[*********************100%***********************]  1 of 1 completed\n"
     ]
    },
    {
     "name": "stdout",
     "output_type": "stream",
     "text": [
      "Processed AMZN data with 2516 rows.\n"
     ]
    },
    {
     "name": "stderr",
     "output_type": "stream",
     "text": [
      "/tmp/ipykernel_21078/3049716656.py:2: FutureWarning: YF.download() has changed argument auto_adjust default to True\n",
      "  data = yf.download(ticker, start_date, end_date)\n",
      "[*********************100%***********************]  1 of 1 completed\n"
     ]
    },
    {
     "name": "stdout",
     "output_type": "stream",
     "text": [
      "Processed META data with 2516 rows.\n"
     ]
    },
    {
     "name": "stderr",
     "output_type": "stream",
     "text": [
      "/tmp/ipykernel_21078/3049716656.py:2: FutureWarning: YF.download() has changed argument auto_adjust default to True\n",
      "  data = yf.download(ticker, start_date, end_date)\n",
      "[*********************100%***********************]  1 of 1 completed\n"
     ]
    },
    {
     "name": "stdout",
     "output_type": "stream",
     "text": [
      "Processed TSLA data with 2516 rows.\n"
     ]
    },
    {
     "name": "stderr",
     "output_type": "stream",
     "text": [
      "/tmp/ipykernel_21078/3049716656.py:2: FutureWarning: YF.download() has changed argument auto_adjust default to True\n",
      "  data = yf.download(ticker, start_date, end_date)\n",
      "[*********************100%***********************]  1 of 1 completed\n"
     ]
    },
    {
     "name": "stdout",
     "output_type": "stream",
     "text": [
      "Processed AVGO data with 2516 rows.\n"
     ]
    }
   ],
   "source": [
    "os.makedirs(\"data\", exist_ok=True)\n",
    "\n",
    "print(f\"Processing data for {len(tickers)} stocks...\")\n",
    "for ticker in tickers:\n",
    "    try:\n",
    "        # Get enhanced data for this stock\n",
    "        stock_data = get_data(ticker, start_date, end_date)\n",
    "        \n",
    "        # Reset index to make Date a column\n",
    "        stock_data = stock_data.reset_index()\n",
    "\n",
    "        print(f\"Processed {ticker} data with {len(stock_data)} rows.\")\n",
    "        \n",
    "        # Save individual stock data\n",
    "        stock_data.to_csv(f\"data/{ticker}.csv\", index=False)\n",
    "        \n",
    "        # Add a small delay to avoid hitting API limits\n",
    "        time.sleep(2)\n",
    "\n",
    "    except Exception as e:\n",
    "        print(f\"Error processing {ticker}: {str(e)}\")"
   ]
  },
  {
   "cell_type": "markdown",
   "id": "957b86e2",
   "metadata": {},
   "source": [
    "Let us analyze how does the dataframe for one stock look like."
   ]
  },
  {
   "cell_type": "code",
   "execution_count": 66,
   "id": "874b67d1",
   "metadata": {},
   "outputs": [
    {
     "data": {
      "text/plain": [
       "['MSFT.csv',\n",
       " 'AVGO.csv',\n",
       " 'AMZN.csv',\n",
       " 'GOOGL.csv',\n",
       " 'NVDA.csv',\n",
       " 'META.csv',\n",
       " 'TSLA.csv',\n",
       " 'GOOG.csv',\n",
       " 'AAPL.csv']"
      ]
     },
     "execution_count": 66,
     "metadata": {},
     "output_type": "execute_result"
    }
   ],
   "source": [
    "files = os.listdir('data') # List of files in the data directory\n",
    "files"
   ]
  },
  {
   "cell_type": "code",
   "execution_count": 67,
   "id": "52962e5f",
   "metadata": {},
   "outputs": [],
   "source": [
    "example_file = 'MSFT.csv'\n",
    "example_file_path = os.path.join('data', example_file)"
   ]
  },
  {
   "cell_type": "code",
   "execution_count": 68,
   "id": "a6cd8341",
   "metadata": {},
   "outputs": [
    {
     "data": {
      "text/html": [
       "<div>\n",
       "<style scoped>\n",
       "    .dataframe tbody tr th:only-of-type {\n",
       "        vertical-align: middle;\n",
       "    }\n",
       "\n",
       "    .dataframe tbody tr th {\n",
       "        vertical-align: top;\n",
       "    }\n",
       "\n",
       "    .dataframe thead th {\n",
       "        text-align: right;\n",
       "    }\n",
       "</style>\n",
       "<table border=\"1\" class=\"dataframe\">\n",
       "  <thead>\n",
       "    <tr style=\"text-align: right;\">\n",
       "      <th></th>\n",
       "      <th>Date</th>\n",
       "      <th>Close</th>\n",
       "      <th>High</th>\n",
       "      <th>Low</th>\n",
       "      <th>Open</th>\n",
       "      <th>Volume</th>\n",
       "      <th>Ticker</th>\n",
       "    </tr>\n",
       "  </thead>\n",
       "  <tbody>\n",
       "    <tr>\n",
       "      <th>0</th>\n",
       "      <td>NaN</td>\n",
       "      <td>MSFT</td>\n",
       "      <td>MSFT</td>\n",
       "      <td>MSFT</td>\n",
       "      <td>MSFT</td>\n",
       "      <td>MSFT</td>\n",
       "      <td>NaN</td>\n",
       "    </tr>\n",
       "    <tr>\n",
       "      <th>1</th>\n",
       "      <td>2015-01-02</td>\n",
       "      <td>39.93305969238281</td>\n",
       "      <td>40.49669986025541</td>\n",
       "      <td>39.74518180826074</td>\n",
       "      <td>39.84766095030489</td>\n",
       "      <td>27913900</td>\n",
       "      <td>MSFT</td>\n",
       "    </tr>\n",
       "    <tr>\n",
       "      <th>2</th>\n",
       "      <td>2015-01-05</td>\n",
       "      <td>39.56582260131836</td>\n",
       "      <td>39.90742065562575</td>\n",
       "      <td>39.497501035805946</td>\n",
       "      <td>39.59998012632301</td>\n",
       "      <td>39673900</td>\n",
       "      <td>MSFT</td>\n",
       "    </tr>\n",
       "    <tr>\n",
       "      <th>3</th>\n",
       "      <td>2015-01-06</td>\n",
       "      <td>38.98511505126953</td>\n",
       "      <td>39.92451407944966</td>\n",
       "      <td>38.891174496900994</td>\n",
       "      <td>39.608534880189445</td>\n",
       "      <td>36447900</td>\n",
       "      <td>MSFT</td>\n",
       "    </tr>\n",
       "    <tr>\n",
       "      <th>4</th>\n",
       "      <td>2015-01-07</td>\n",
       "      <td>39.480430603027344</td>\n",
       "      <td>39.676850266793366</td>\n",
       "      <td>38.84847225138925</td>\n",
       "      <td>39.26693054357484</td>\n",
       "      <td>29114100</td>\n",
       "      <td>MSFT</td>\n",
       "    </tr>\n",
       "  </tbody>\n",
       "</table>\n",
       "</div>"
      ],
      "text/plain": [
       "         Date               Close                High                 Low  \\\n",
       "0         NaN                MSFT                MSFT                MSFT   \n",
       "1  2015-01-02   39.93305969238281   40.49669986025541   39.74518180826074   \n",
       "2  2015-01-05   39.56582260131836   39.90742065562575  39.497501035805946   \n",
       "3  2015-01-06   38.98511505126953   39.92451407944966  38.891174496900994   \n",
       "4  2015-01-07  39.480430603027344  39.676850266793366   38.84847225138925   \n",
       "\n",
       "                 Open    Volume Ticker  \n",
       "0                MSFT      MSFT    NaN  \n",
       "1   39.84766095030489  27913900   MSFT  \n",
       "2   39.59998012632301  39673900   MSFT  \n",
       "3  39.608534880189445  36447900   MSFT  \n",
       "4   39.26693054357484  29114100   MSFT  "
      ]
     },
     "execution_count": 68,
     "metadata": {},
     "output_type": "execute_result"
    }
   ],
   "source": [
    "msft_data = pd.read_csv(example_file_path)\n",
    "msft_data.head()"
   ]
  },
  {
   "cell_type": "markdown",
   "id": "5566d377",
   "metadata": {},
   "source": [
    "As we see, there is a redundant second row(row with index 0), and moreover there is redundant indexes in the dataframe. We want to get rid of them and concatenate dataframes.  "
   ]
  },
  {
   "cell_type": "code",
   "execution_count": 69,
   "id": "917b6e52",
   "metadata": {},
   "outputs": [],
   "source": [
    "dataframes = []\n",
    "for file in files:\n",
    "    file_path = os.path.join('data', file)     \n",
    "    stock_data = pd.read_csv(file_path)\n",
    "    stock_data.drop([0], inplace=True) # Drop row with index 0\n",
    "    dataframes.append(stock_data)\n",
    "if dataframes:\n",
    "    data = pd.concat(dataframes, ignore_index=True)"
   ]
  },
  {
   "cell_type": "code",
   "execution_count": 70,
   "id": "2ed73ad2",
   "metadata": {},
   "outputs": [
    {
     "data": {
      "text/html": [
       "<div>\n",
       "<style scoped>\n",
       "    .dataframe tbody tr th:only-of-type {\n",
       "        vertical-align: middle;\n",
       "    }\n",
       "\n",
       "    .dataframe tbody tr th {\n",
       "        vertical-align: top;\n",
       "    }\n",
       "\n",
       "    .dataframe thead th {\n",
       "        text-align: right;\n",
       "    }\n",
       "</style>\n",
       "<table border=\"1\" class=\"dataframe\">\n",
       "  <thead>\n",
       "    <tr style=\"text-align: right;\">\n",
       "      <th></th>\n",
       "      <th>Date</th>\n",
       "      <th>Close</th>\n",
       "      <th>High</th>\n",
       "      <th>Low</th>\n",
       "      <th>Open</th>\n",
       "      <th>Volume</th>\n",
       "      <th>Ticker</th>\n",
       "    </tr>\n",
       "  </thead>\n",
       "  <tbody>\n",
       "    <tr>\n",
       "      <th>0</th>\n",
       "      <td>2015-01-02</td>\n",
       "      <td>39.93305969238281</td>\n",
       "      <td>40.49669986025541</td>\n",
       "      <td>39.74518180826074</td>\n",
       "      <td>39.84766095030489</td>\n",
       "      <td>27913900</td>\n",
       "      <td>MSFT</td>\n",
       "    </tr>\n",
       "    <tr>\n",
       "      <th>1</th>\n",
       "      <td>2015-01-05</td>\n",
       "      <td>39.56582260131836</td>\n",
       "      <td>39.90742065562575</td>\n",
       "      <td>39.497501035805946</td>\n",
       "      <td>39.59998012632301</td>\n",
       "      <td>39673900</td>\n",
       "      <td>MSFT</td>\n",
       "    </tr>\n",
       "    <tr>\n",
       "      <th>2</th>\n",
       "      <td>2015-01-06</td>\n",
       "      <td>38.98511505126953</td>\n",
       "      <td>39.92451407944966</td>\n",
       "      <td>38.891174496900994</td>\n",
       "      <td>39.608534880189445</td>\n",
       "      <td>36447900</td>\n",
       "      <td>MSFT</td>\n",
       "    </tr>\n",
       "    <tr>\n",
       "      <th>3</th>\n",
       "      <td>2015-01-07</td>\n",
       "      <td>39.480430603027344</td>\n",
       "      <td>39.676850266793366</td>\n",
       "      <td>38.84847225138925</td>\n",
       "      <td>39.26693054357484</td>\n",
       "      <td>29114100</td>\n",
       "      <td>MSFT</td>\n",
       "    </tr>\n",
       "    <tr>\n",
       "      <th>4</th>\n",
       "      <td>2015-01-08</td>\n",
       "      <td>40.64186096191406</td>\n",
       "      <td>40.7785008343999</td>\n",
       "      <td>39.898881858881815</td>\n",
       "      <td>39.92450081692555</td>\n",
       "      <td>29645200</td>\n",
       "      <td>MSFT</td>\n",
       "    </tr>\n",
       "    <tr>\n",
       "      <th>...</th>\n",
       "      <td>...</td>\n",
       "      <td>...</td>\n",
       "      <td>...</td>\n",
       "      <td>...</td>\n",
       "      <td>...</td>\n",
       "      <td>...</td>\n",
       "      <td>...</td>\n",
       "    </tr>\n",
       "    <tr>\n",
       "      <th>22639</th>\n",
       "      <td>2024-12-24</td>\n",
       "      <td>257.2866516113281</td>\n",
       "      <td>257.2965955586333</td>\n",
       "      <td>254.38692663500538</td>\n",
       "      <td>254.58623131585566</td>\n",
       "      <td>23234700</td>\n",
       "      <td>AAPL</td>\n",
       "    </tr>\n",
       "    <tr>\n",
       "      <th>22640</th>\n",
       "      <td>2024-12-26</td>\n",
       "      <td>258.1037292480469</td>\n",
       "      <td>259.1799258751944</td>\n",
       "      <td>256.7186620602343</td>\n",
       "      <td>257.27667867815336</td>\n",
       "      <td>27237100</td>\n",
       "      <td>AAPL</td>\n",
       "    </tr>\n",
       "    <tr>\n",
       "      <th>22641</th>\n",
       "      <td>2024-12-27</td>\n",
       "      <td>254.6858673095703</td>\n",
       "      <td>257.78488174803636</td>\n",
       "      <td>252.16481819720389</td>\n",
       "      <td>256.91793375888693</td>\n",
       "      <td>42355300</td>\n",
       "      <td>AAPL</td>\n",
       "    </tr>\n",
       "    <tr>\n",
       "      <th>22642</th>\n",
       "      <td>2024-12-30</td>\n",
       "      <td>251.307861328125</td>\n",
       "      <td>252.60326573181473</td>\n",
       "      <td>249.86299361835324</td>\n",
       "      <td>251.33775398934142</td>\n",
       "      <td>35557500</td>\n",
       "      <td>AAPL</td>\n",
       "    </tr>\n",
       "    <tr>\n",
       "      <th>22643</th>\n",
       "      <td>2024-12-31</td>\n",
       "      <td>249.5341796875</td>\n",
       "      <td>252.38406352835983</td>\n",
       "      <td>248.54767617168994</td>\n",
       "      <td>251.5470385357527</td>\n",
       "      <td>39480700</td>\n",
       "      <td>AAPL</td>\n",
       "    </tr>\n",
       "  </tbody>\n",
       "</table>\n",
       "<p>22644 rows × 7 columns</p>\n",
       "</div>"
      ],
      "text/plain": [
       "             Date               Close                High                 Low  \\\n",
       "0      2015-01-02   39.93305969238281   40.49669986025541   39.74518180826074   \n",
       "1      2015-01-05   39.56582260131836   39.90742065562575  39.497501035805946   \n",
       "2      2015-01-06   38.98511505126953   39.92451407944966  38.891174496900994   \n",
       "3      2015-01-07  39.480430603027344  39.676850266793366   38.84847225138925   \n",
       "4      2015-01-08   40.64186096191406    40.7785008343999  39.898881858881815   \n",
       "...           ...                 ...                 ...                 ...   \n",
       "22639  2024-12-24   257.2866516113281   257.2965955586333  254.38692663500538   \n",
       "22640  2024-12-26   258.1037292480469   259.1799258751944   256.7186620602343   \n",
       "22641  2024-12-27   254.6858673095703  257.78488174803636  252.16481819720389   \n",
       "22642  2024-12-30    251.307861328125  252.60326573181473  249.86299361835324   \n",
       "22643  2024-12-31      249.5341796875  252.38406352835983  248.54767617168994   \n",
       "\n",
       "                     Open    Volume Ticker  \n",
       "0       39.84766095030489  27913900   MSFT  \n",
       "1       39.59998012632301  39673900   MSFT  \n",
       "2      39.608534880189445  36447900   MSFT  \n",
       "3       39.26693054357484  29114100   MSFT  \n",
       "4       39.92450081692555  29645200   MSFT  \n",
       "...                   ...       ...    ...  \n",
       "22639  254.58623131585566  23234700   AAPL  \n",
       "22640  257.27667867815336  27237100   AAPL  \n",
       "22641  256.91793375888693  42355300   AAPL  \n",
       "22642  251.33775398934142  35557500   AAPL  \n",
       "22643   251.5470385357527  39480700   AAPL  \n",
       "\n",
       "[22644 rows x 7 columns]"
      ]
     },
     "execution_count": 70,
     "metadata": {},
     "output_type": "execute_result"
    }
   ],
   "source": [
    "data"
   ]
  },
  {
   "cell_type": "code",
   "execution_count": 71,
   "id": "14aac889",
   "metadata": {},
   "outputs": [
    {
     "data": {
      "text/plain": [
       "Date      object\n",
       "Close     object\n",
       "High      object\n",
       "Low       object\n",
       "Open      object\n",
       "Volume    object\n",
       "Ticker    object\n",
       "dtype: object"
      ]
     },
     "execution_count": 71,
     "metadata": {},
     "output_type": "execute_result"
    }
   ],
   "source": [
    "data.dtypes"
   ]
  },
  {
   "cell_type": "markdown",
   "id": "07899825",
   "metadata": {},
   "source": [
    "The columns should be converted into appropriate datatype. "
   ]
  },
  {
   "cell_type": "code",
   "execution_count": 72,
   "id": "5f75a1a3",
   "metadata": {},
   "outputs": [],
   "source": [
    "data['Date'] = pd.to_datetime(data['Date'])\n",
    "numeric_columns = ['Close', 'High', 'Low', 'Open', 'Volume']\n",
    "for col in numeric_columns:\n",
    "    data[col] = pd.to_numeric(data[col], errors='coerce')"
   ]
  },
  {
   "cell_type": "code",
   "execution_count": 73,
   "id": "317e05db",
   "metadata": {},
   "outputs": [
    {
     "data": {
      "text/plain": [
       "Date      datetime64[ns]\n",
       "Close            float64\n",
       "High             float64\n",
       "Low              float64\n",
       "Open             float64\n",
       "Volume             int64\n",
       "Ticker            object\n",
       "dtype: object"
      ]
     },
     "execution_count": 73,
     "metadata": {},
     "output_type": "execute_result"
    }
   ],
   "source": [
    "data.dtypes"
   ]
  },
  {
   "cell_type": "code",
   "execution_count": 74,
   "id": "88539f7e",
   "metadata": {},
   "outputs": [],
   "source": [
    "data.columns = data.columns.map(lambda x: x.lower())"
   ]
  },
  {
   "cell_type": "markdown",
   "id": "3baece59",
   "metadata": {},
   "source": [
    "#### Compute Rolling Average Dollar Volume"
   ]
  },
  {
   "cell_type": "code",
   "execution_count": 75,
   "id": "a4d193db",
   "metadata": {},
   "outputs": [],
   "source": [
    "data['dollar_vol'] = data[['close', 'volume']].prod(axis=1)"
   ]
  },
  {
   "cell_type": "code",
   "execution_count": 76,
   "id": "d9826605",
   "metadata": {},
   "outputs": [
    {
     "data": {
      "text/html": [
       "<div>\n",
       "<style scoped>\n",
       "    .dataframe tbody tr th:only-of-type {\n",
       "        vertical-align: middle;\n",
       "    }\n",
       "\n",
       "    .dataframe tbody tr th {\n",
       "        vertical-align: top;\n",
       "    }\n",
       "\n",
       "    .dataframe thead th {\n",
       "        text-align: right;\n",
       "    }\n",
       "</style>\n",
       "<table border=\"1\" class=\"dataframe\">\n",
       "  <thead>\n",
       "    <tr style=\"text-align: right;\">\n",
       "      <th></th>\n",
       "      <th>date</th>\n",
       "      <th>close</th>\n",
       "      <th>high</th>\n",
       "      <th>low</th>\n",
       "      <th>open</th>\n",
       "      <th>volume</th>\n",
       "      <th>ticker</th>\n",
       "      <th>dollar_vol</th>\n",
       "    </tr>\n",
       "  </thead>\n",
       "  <tbody>\n",
       "    <tr>\n",
       "      <th>0</th>\n",
       "      <td>2015-01-02</td>\n",
       "      <td>39.933060</td>\n",
       "      <td>40.496700</td>\n",
       "      <td>39.745182</td>\n",
       "      <td>39.847661</td>\n",
       "      <td>27913900</td>\n",
       "      <td>MSFT</td>\n",
       "      <td>1.114687e+09</td>\n",
       "    </tr>\n",
       "    <tr>\n",
       "      <th>1</th>\n",
       "      <td>2015-01-05</td>\n",
       "      <td>39.565823</td>\n",
       "      <td>39.907421</td>\n",
       "      <td>39.497501</td>\n",
       "      <td>39.599980</td>\n",
       "      <td>39673900</td>\n",
       "      <td>MSFT</td>\n",
       "      <td>1.569730e+09</td>\n",
       "    </tr>\n",
       "    <tr>\n",
       "      <th>2</th>\n",
       "      <td>2015-01-06</td>\n",
       "      <td>38.985115</td>\n",
       "      <td>39.924514</td>\n",
       "      <td>38.891174</td>\n",
       "      <td>39.608535</td>\n",
       "      <td>36447900</td>\n",
       "      <td>MSFT</td>\n",
       "      <td>1.420926e+09</td>\n",
       "    </tr>\n",
       "    <tr>\n",
       "      <th>3</th>\n",
       "      <td>2015-01-07</td>\n",
       "      <td>39.480431</td>\n",
       "      <td>39.676850</td>\n",
       "      <td>38.848472</td>\n",
       "      <td>39.266931</td>\n",
       "      <td>29114100</td>\n",
       "      <td>MSFT</td>\n",
       "      <td>1.149437e+09</td>\n",
       "    </tr>\n",
       "    <tr>\n",
       "      <th>4</th>\n",
       "      <td>2015-01-08</td>\n",
       "      <td>40.641861</td>\n",
       "      <td>40.778501</td>\n",
       "      <td>39.898882</td>\n",
       "      <td>39.924501</td>\n",
       "      <td>29645200</td>\n",
       "      <td>MSFT</td>\n",
       "      <td>1.204836e+09</td>\n",
       "    </tr>\n",
       "    <tr>\n",
       "      <th>...</th>\n",
       "      <td>...</td>\n",
       "      <td>...</td>\n",
       "      <td>...</td>\n",
       "      <td>...</td>\n",
       "      <td>...</td>\n",
       "      <td>...</td>\n",
       "      <td>...</td>\n",
       "      <td>...</td>\n",
       "    </tr>\n",
       "    <tr>\n",
       "      <th>22639</th>\n",
       "      <td>2024-12-24</td>\n",
       "      <td>257.286652</td>\n",
       "      <td>257.296596</td>\n",
       "      <td>254.386927</td>\n",
       "      <td>254.586231</td>\n",
       "      <td>23234700</td>\n",
       "      <td>AAPL</td>\n",
       "      <td>5.977978e+09</td>\n",
       "    </tr>\n",
       "    <tr>\n",
       "      <th>22640</th>\n",
       "      <td>2024-12-26</td>\n",
       "      <td>258.103729</td>\n",
       "      <td>259.179926</td>\n",
       "      <td>256.718662</td>\n",
       "      <td>257.276679</td>\n",
       "      <td>27237100</td>\n",
       "      <td>AAPL</td>\n",
       "      <td>7.029997e+09</td>\n",
       "    </tr>\n",
       "    <tr>\n",
       "      <th>22641</th>\n",
       "      <td>2024-12-27</td>\n",
       "      <td>254.685867</td>\n",
       "      <td>257.784882</td>\n",
       "      <td>252.164818</td>\n",
       "      <td>256.917934</td>\n",
       "      <td>42355300</td>\n",
       "      <td>AAPL</td>\n",
       "      <td>1.078730e+10</td>\n",
       "    </tr>\n",
       "    <tr>\n",
       "      <th>22642</th>\n",
       "      <td>2024-12-30</td>\n",
       "      <td>251.307861</td>\n",
       "      <td>252.603266</td>\n",
       "      <td>249.862994</td>\n",
       "      <td>251.337754</td>\n",
       "      <td>35557500</td>\n",
       "      <td>AAPL</td>\n",
       "      <td>8.935879e+09</td>\n",
       "    </tr>\n",
       "    <tr>\n",
       "      <th>22643</th>\n",
       "      <td>2024-12-31</td>\n",
       "      <td>249.534180</td>\n",
       "      <td>252.384064</td>\n",
       "      <td>248.547676</td>\n",
       "      <td>251.547039</td>\n",
       "      <td>39480700</td>\n",
       "      <td>AAPL</td>\n",
       "      <td>9.851784e+09</td>\n",
       "    </tr>\n",
       "  </tbody>\n",
       "</table>\n",
       "<p>22644 rows × 8 columns</p>\n",
       "</div>"
      ],
      "text/plain": [
       "            date       close        high         low        open    volume  \\\n",
       "0     2015-01-02   39.933060   40.496700   39.745182   39.847661  27913900   \n",
       "1     2015-01-05   39.565823   39.907421   39.497501   39.599980  39673900   \n",
       "2     2015-01-06   38.985115   39.924514   38.891174   39.608535  36447900   \n",
       "3     2015-01-07   39.480431   39.676850   38.848472   39.266931  29114100   \n",
       "4     2015-01-08   40.641861   40.778501   39.898882   39.924501  29645200   \n",
       "...          ...         ...         ...         ...         ...       ...   \n",
       "22639 2024-12-24  257.286652  257.296596  254.386927  254.586231  23234700   \n",
       "22640 2024-12-26  258.103729  259.179926  256.718662  257.276679  27237100   \n",
       "22641 2024-12-27  254.685867  257.784882  252.164818  256.917934  42355300   \n",
       "22642 2024-12-30  251.307861  252.603266  249.862994  251.337754  35557500   \n",
       "22643 2024-12-31  249.534180  252.384064  248.547676  251.547039  39480700   \n",
       "\n",
       "      ticker    dollar_vol  \n",
       "0       MSFT  1.114687e+09  \n",
       "1       MSFT  1.569730e+09  \n",
       "2       MSFT  1.420926e+09  \n",
       "3       MSFT  1.149437e+09  \n",
       "4       MSFT  1.204836e+09  \n",
       "...      ...           ...  \n",
       "22639   AAPL  5.977978e+09  \n",
       "22640   AAPL  7.029997e+09  \n",
       "22641   AAPL  1.078730e+10  \n",
       "22642   AAPL  8.935879e+09  \n",
       "22643   AAPL  9.851784e+09  \n",
       "\n",
       "[22644 rows x 8 columns]"
      ]
     },
     "execution_count": 76,
     "metadata": {},
     "output_type": "execute_result"
    }
   ],
   "source": [
    "data"
   ]
  },
  {
   "cell_type": "code",
   "execution_count": 77,
   "id": "87a72792",
   "metadata": {},
   "outputs": [],
   "source": [
    "data['dollar_vol_1m'] = (data.groupby('ticker')['dollar_vol']\n",
    "                           .rolling(window=21)\n",
    "                           .mean()).values"
   ]
  },
  {
   "cell_type": "code",
   "execution_count": 78,
   "id": "f64578e1",
   "metadata": {},
   "outputs": [
    {
     "name": "stdout",
     "output_type": "stream",
     "text": [
      "<class 'pandas.core.frame.DataFrame'>\n",
      "RangeIndex: 22644 entries, 0 to 22643\n",
      "Data columns (total 9 columns):\n",
      " #   Column         Non-Null Count  Dtype         \n",
      "---  ------         --------------  -----         \n",
      " 0   date           22644 non-null  datetime64[ns]\n",
      " 1   close          22644 non-null  float64       \n",
      " 2   high           22644 non-null  float64       \n",
      " 3   low            22644 non-null  float64       \n",
      " 4   open           22644 non-null  float64       \n",
      " 5   volume         22644 non-null  int64         \n",
      " 6   ticker         22644 non-null  object        \n",
      " 7   dollar_vol     22644 non-null  float64       \n",
      " 8   dollar_vol_1m  22464 non-null  float64       \n",
      "dtypes: datetime64[ns](1), float64(6), int64(1), object(1)\n",
      "memory usage: 1.6+ MB\n"
     ]
    }
   ],
   "source": [
    "data.info(show_counts=True)"
   ]
  },
  {
   "cell_type": "code",
   "execution_count": 79,
   "id": "2c53e856",
   "metadata": {},
   "outputs": [],
   "source": [
    "data['dollar_vol_rank'] = (data.groupby('date')\n",
    "                             .dollar_vol_1m\n",
    "                             .rank(ascending=False))"
   ]
  },
  {
   "cell_type": "code",
   "execution_count": 80,
   "id": "f931f9c5",
   "metadata": {},
   "outputs": [
    {
     "name": "stdout",
     "output_type": "stream",
     "text": [
      "<class 'pandas.core.frame.DataFrame'>\n",
      "RangeIndex: 22644 entries, 0 to 22643\n",
      "Data columns (total 10 columns):\n",
      " #   Column           Non-Null Count  Dtype         \n",
      "---  ------           --------------  -----         \n",
      " 0   date             22644 non-null  datetime64[ns]\n",
      " 1   close            22644 non-null  float64       \n",
      " 2   high             22644 non-null  float64       \n",
      " 3   low              22644 non-null  float64       \n",
      " 4   open             22644 non-null  float64       \n",
      " 5   volume           22644 non-null  int64         \n",
      " 6   ticker           22644 non-null  object        \n",
      " 7   dollar_vol       22644 non-null  float64       \n",
      " 8   dollar_vol_1m    22464 non-null  float64       \n",
      " 9   dollar_vol_rank  22464 non-null  float64       \n",
      "dtypes: datetime64[ns](1), float64(7), int64(1), object(1)\n",
      "memory usage: 1.7+ MB\n"
     ]
    }
   ],
   "source": [
    "data.info(show_counts=True)"
   ]
  },
  {
   "cell_type": "markdown",
   "id": "56ac9611",
   "metadata": {},
   "source": [
    "### Add some Basic Factors"
   ]
  },
  {
   "cell_type": "markdown",
   "id": "7b55f5d5",
   "metadata": {},
   "source": [
    "### Compute the Relative Strength Index"
   ]
  },
  {
   "cell_type": "code",
   "execution_count": 81,
   "id": "f118a2d1",
   "metadata": {},
   "outputs": [],
   "source": [
    "data['rsi'] = data.groupby('ticker')['close'].transform(RSI)"
   ]
  },
  {
   "cell_type": "markdown",
   "id": "d835f4d6",
   "metadata": {},
   "source": [
    "### Compute Bollinger Bands"
   ]
  },
  {
   "cell_type": "code",
   "execution_count": 82,
   "id": "17a02728",
   "metadata": {},
   "outputs": [],
   "source": [
    "def compute_bb(close_prices):\n",
    "    \"\"\"\n",
    "    Compute Bollinger Bands for a single ticker's close prices\n",
    "    Returns a DataFrame with bb_high and bb_low columns\n",
    "    \"\"\"\n",
    "    high, mid, low = BBANDS(close_prices, timeperiod=20)\n",
    "    return pd.DataFrame({\n",
    "        'bb_high': high, \n",
    "        'bb_low': low\n",
    "    }, index=close_prices.index)"
   ]
  },
  {
   "cell_type": "code",
   "execution_count": 83,
   "id": "1175e91d",
   "metadata": {},
   "outputs": [],
   "source": [
    "bb_results = data.groupby('ticker')['close'].apply(compute_bb)\n",
    "bb_results = bb_results.reset_index(level=0, drop=True) # Reset index to align with original data\n",
    "data = data.join(bb_results)"
   ]
  },
  {
   "cell_type": "code",
   "execution_count": 84,
   "id": "0c7f2245",
   "metadata": {},
   "outputs": [],
   "source": [
    "data['bb_high'] = data['bb_high'].sub(data['close']).div(data['bb_high']).apply(np.log1p)\n",
    "data['bb_low'] = data['close'].sub(data['bb_low']).div(data['close']).apply(np.log1p)"
   ]
  },
  {
   "cell_type": "markdown",
   "id": "9c494468",
   "metadata": {},
   "source": [
    "### Compute Average True Range"
   ]
  },
  {
   "cell_type": "code",
   "execution_count": 85,
   "id": "9f797dd1",
   "metadata": {},
   "outputs": [],
   "source": [
    "def compute_atr(stock_data):\n",
    "    \"\"\"\n",
    "    Compute normalized ATR for a single ticker\n",
    "    \"\"\"\n",
    "    try:\n",
    "        df = ATR(stock_data['high'], stock_data['low'], \n",
    "                 stock_data['close'], timeperiod=14)\n",
    "        return df.sub(df.mean()).div(df.std())\n",
    "    except:\n",
    "        return pd.Series(np.nan, index=stock_data.index)\n"
   ]
  },
  {
   "cell_type": "code",
   "execution_count": 86,
   "id": "4c694c26",
   "metadata": {},
   "outputs": [],
   "source": [
    "data['atr'] = data.groupby('ticker', group_keys=False).apply(compute_atr, include_groups=False)"
   ]
  },
  {
   "cell_type": "markdown",
   "id": "36f2707e",
   "metadata": {},
   "source": [
    "### Compute Moving Average\n",
    "### Convergance/Divergance"
   ]
  },
  {
   "cell_type": "code",
   "execution_count": 87,
   "id": "ebc1d52c",
   "metadata": {},
   "outputs": [],
   "source": [
    "def compute_macd(close_prices):\n",
    "    \"\"\"\n",
    "    Compute normalized MACD for a single ticker\n",
    "    \"\"\"\n",
    "    try:\n",
    "        macd = MACD(close_prices)[0]  # Get only the MACD line\n",
    "        return (macd - np.mean(macd)) / np.std(macd)\n",
    "    except:\n",
    "        return pd.Series(np.nan, index=close_prices.index)\n"
   ]
  },
  {
   "cell_type": "code",
   "execution_count": 88,
   "id": "ca696fa5",
   "metadata": {},
   "outputs": [],
   "source": [
    "data['macd'] = data.groupby('ticker')['close'].apply(compute_macd).reset_index(level=0, drop=True)"
   ]
  },
  {
   "cell_type": "markdown",
   "id": "9d56d973",
   "metadata": {},
   "source": [
    "### Compute Lagged Returns"
   ]
  },
  {
   "cell_type": "code",
   "execution_count": 89,
   "id": "8604be53",
   "metadata": {},
   "outputs": [],
   "source": [
    "lags = [1, 5, 10, 21, 42, 63]"
   ]
  },
  {
   "cell_type": "code",
   "execution_count": 90,
   "id": "b78c48c9",
   "metadata": {},
   "outputs": [
    {
     "data": {
      "text/html": [
       "<style type=\"text/css\">\n",
       "</style>\n",
       "<table id=\"T_e5011\">\n",
       "  <thead>\n",
       "    <tr>\n",
       "      <th class=\"blank level0\" >&nbsp;</th>\n",
       "      <th id=\"T_e5011_level0_col0\" class=\"col_heading level0 col0\" >percentiles</th>\n",
       "    </tr>\n",
       "  </thead>\n",
       "  <tbody>\n",
       "    <tr>\n",
       "      <th id=\"T_e5011_level0_row0\" class=\"row_heading level0 row0\" >std</th>\n",
       "      <td id=\"T_e5011_row0_col0\" class=\"data row0 col0\" >2.36%</td>\n",
       "    </tr>\n",
       "    <tr>\n",
       "      <th id=\"T_e5011_level0_row1\" class=\"row_heading level0 row1\" >min</th>\n",
       "      <td id=\"T_e5011_row1_col0\" class=\"data row1 col0\" >-26.39%</td>\n",
       "    </tr>\n",
       "    <tr>\n",
       "      <th id=\"T_e5011_level0_row2\" class=\"row_heading level0 row2\" >0.01%</th>\n",
       "      <td id=\"T_e5011_row2_col0\" class=\"data row2 col0\" >-20.76%</td>\n",
       "    </tr>\n",
       "    <tr>\n",
       "      <th id=\"T_e5011_level0_row3\" class=\"row_heading level0 row3\" >0.1%</th>\n",
       "      <td id=\"T_e5011_row3_col0\" class=\"data row3 col0\" >-12.28%</td>\n",
       "    </tr>\n",
       "    <tr>\n",
       "      <th id=\"T_e5011_level0_row4\" class=\"row_heading level0 row4\" >1%</th>\n",
       "      <td id=\"T_e5011_row4_col0\" class=\"data row4 col0\" >-6.31%</td>\n",
       "    </tr>\n",
       "    <tr>\n",
       "      <th id=\"T_e5011_level0_row5\" class=\"row_heading level0 row5\" >50%</th>\n",
       "      <td id=\"T_e5011_row5_col0\" class=\"data row5 col0\" >0.12%</td>\n",
       "    </tr>\n",
       "    <tr>\n",
       "      <th id=\"T_e5011_level0_row6\" class=\"row_heading level0 row6\" >99%</th>\n",
       "      <td id=\"T_e5011_row6_col0\" class=\"data row6 col0\" >7.12%</td>\n",
       "    </tr>\n",
       "    <tr>\n",
       "      <th id=\"T_e5011_level0_row7\" class=\"row_heading level0 row7\" >99.9%</th>\n",
       "      <td id=\"T_e5011_row7_col0\" class=\"data row7 col0\" >14.92%</td>\n",
       "    </tr>\n",
       "    <tr>\n",
       "      <th id=\"T_e5011_level0_row8\" class=\"row_heading level0 row8\" >99.99%</th>\n",
       "      <td id=\"T_e5011_row8_col0\" class=\"data row8 col0\" >24.08%</td>\n",
       "    </tr>\n",
       "    <tr>\n",
       "      <th id=\"T_e5011_level0_row9\" class=\"row_heading level0 row9\" >max</th>\n",
       "      <td id=\"T_e5011_row9_col0\" class=\"data row9 col0\" >29.81%</td>\n",
       "    </tr>\n",
       "  </tbody>\n",
       "</table>\n"
      ],
      "text/plain": [
       "<pandas.io.formats.style.Styler at 0x70b6dcc06db0>"
      ]
     },
     "execution_count": 90,
     "metadata": {},
     "output_type": "execute_result"
    }
   ],
   "source": [
    "returns = data.groupby('ticker')['close'].pct_change()\n",
    "percentiles=[.0001, .001, .01]\n",
    "percentiles+= [1-p for p in percentiles]\n",
    "returns.describe(percentiles=percentiles).iloc[2:].to_frame('percentiles').style.format(lambda x: f'{x:,.2%}')"
   ]
  },
  {
   "cell_type": "code",
   "execution_count": 91,
   "id": "3818e5a0",
   "metadata": {},
   "outputs": [],
   "source": [
    "q = 0.0001"
   ]
  },
  {
   "cell_type": "markdown",
   "id": "004ec531",
   "metadata": {},
   "source": [
    "### Winsorize outliers"
   ]
  },
  {
   "cell_type": "code",
   "execution_count": 92,
   "id": "6726da15",
   "metadata": {},
   "outputs": [],
   "source": [
    "for lag in lags:\n",
    "    data[f'return_{lag}d'] = (data.groupby('ticker')['close']\n",
    "                                .pct_change(lag)\n",
    "                                .pipe(lambda x: x.clip(lower=x.quantile(q),\n",
    "                                                       upper=x.quantile(1 - q)))\n",
    "                                .add(1)\n",
    "                                .pow(1 / lag)\n",
    "                                .sub(1)\n",
    "                                )"
   ]
  },
  {
   "cell_type": "markdown",
   "id": "3c57d226",
   "metadata": {},
   "source": [
    "### Shift lagged outliers"
   ]
  },
  {
   "cell_type": "code",
   "execution_count": 93,
   "id": "dc8840a6",
   "metadata": {},
   "outputs": [],
   "source": [
    "for t in [1, 2, 3, 4, 5]:\n",
    "    for lag in [1, 5, 10, 21]:\n",
    "        data[f'lag_return_{lag}d'] = (data.groupby('ticker')\n",
    "                                           [f'return_{lag}d'].shift(t * lag))"
   ]
  },
  {
   "cell_type": "markdown",
   "id": "25f9c252",
   "metadata": {},
   "source": [
    "### Compute forward returns"
   ]
  },
  {
   "cell_type": "code",
   "execution_count": 94,
   "id": "6baafb13",
   "metadata": {},
   "outputs": [],
   "source": [
    "for t in [1, 5, 10, 21]:\n",
    "    data[f'target_{t}d'] = data.groupby('ticker')[f'return_{t}d'].shift(-t)"
   ]
  },
  {
   "cell_type": "markdown",
   "id": "06d97b18",
   "metadata": {},
   "source": [
    "### Create year and month columns"
   ]
  },
  {
   "cell_type": "code",
   "execution_count": 95,
   "id": "343166bd",
   "metadata": {},
   "outputs": [],
   "source": [
    "data['year'] = data['date'].dt.year\n",
    "data['month'] = data['date'].dt.month"
   ]
  },
  {
   "cell_type": "code",
   "execution_count": 96,
   "id": "daeb8c45",
   "metadata": {},
   "outputs": [],
   "source": [
    "data = pd.get_dummies(data,\n",
    "                      columns=['year', 'month'],\n",
    "                      prefix=['year', 'month'],\n",
    "                      prefix_sep=['_', '_'],\n",
    "                      drop_first=True)"
   ]
  },
  {
   "cell_type": "code",
   "execution_count": 97,
   "id": "0a1436af",
   "metadata": {},
   "outputs": [
    {
     "data": {
      "text/html": [
       "<div>\n",
       "<style scoped>\n",
       "    .dataframe tbody tr th:only-of-type {\n",
       "        vertical-align: middle;\n",
       "    }\n",
       "\n",
       "    .dataframe tbody tr th {\n",
       "        vertical-align: top;\n",
       "    }\n",
       "\n",
       "    .dataframe thead th {\n",
       "        text-align: right;\n",
       "    }\n",
       "</style>\n",
       "<table border=\"1\" class=\"dataframe\">\n",
       "  <thead>\n",
       "    <tr style=\"text-align: right;\">\n",
       "      <th></th>\n",
       "      <th>date</th>\n",
       "      <th>close</th>\n",
       "      <th>high</th>\n",
       "      <th>low</th>\n",
       "      <th>open</th>\n",
       "      <th>volume</th>\n",
       "      <th>ticker</th>\n",
       "      <th>dollar_vol</th>\n",
       "      <th>dollar_vol_1m</th>\n",
       "      <th>dollar_vol_rank</th>\n",
       "      <th>...</th>\n",
       "      <th>month_3</th>\n",
       "      <th>month_4</th>\n",
       "      <th>month_5</th>\n",
       "      <th>month_6</th>\n",
       "      <th>month_7</th>\n",
       "      <th>month_8</th>\n",
       "      <th>month_9</th>\n",
       "      <th>month_10</th>\n",
       "      <th>month_11</th>\n",
       "      <th>month_12</th>\n",
       "    </tr>\n",
       "  </thead>\n",
       "  <tbody>\n",
       "    <tr>\n",
       "      <th>0</th>\n",
       "      <td>2015-01-02</td>\n",
       "      <td>39.933060</td>\n",
       "      <td>40.496700</td>\n",
       "      <td>39.745182</td>\n",
       "      <td>39.847661</td>\n",
       "      <td>27913900</td>\n",
       "      <td>MSFT</td>\n",
       "      <td>1.114687e+09</td>\n",
       "      <td>NaN</td>\n",
       "      <td>NaN</td>\n",
       "      <td>...</td>\n",
       "      <td>False</td>\n",
       "      <td>False</td>\n",
       "      <td>False</td>\n",
       "      <td>False</td>\n",
       "      <td>False</td>\n",
       "      <td>False</td>\n",
       "      <td>False</td>\n",
       "      <td>False</td>\n",
       "      <td>False</td>\n",
       "      <td>False</td>\n",
       "    </tr>\n",
       "    <tr>\n",
       "      <th>1</th>\n",
       "      <td>2015-01-05</td>\n",
       "      <td>39.565823</td>\n",
       "      <td>39.907421</td>\n",
       "      <td>39.497501</td>\n",
       "      <td>39.599980</td>\n",
       "      <td>39673900</td>\n",
       "      <td>MSFT</td>\n",
       "      <td>1.569730e+09</td>\n",
       "      <td>NaN</td>\n",
       "      <td>NaN</td>\n",
       "      <td>...</td>\n",
       "      <td>False</td>\n",
       "      <td>False</td>\n",
       "      <td>False</td>\n",
       "      <td>False</td>\n",
       "      <td>False</td>\n",
       "      <td>False</td>\n",
       "      <td>False</td>\n",
       "      <td>False</td>\n",
       "      <td>False</td>\n",
       "      <td>False</td>\n",
       "    </tr>\n",
       "    <tr>\n",
       "      <th>2</th>\n",
       "      <td>2015-01-06</td>\n",
       "      <td>38.985115</td>\n",
       "      <td>39.924514</td>\n",
       "      <td>38.891174</td>\n",
       "      <td>39.608535</td>\n",
       "      <td>36447900</td>\n",
       "      <td>MSFT</td>\n",
       "      <td>1.420926e+09</td>\n",
       "      <td>NaN</td>\n",
       "      <td>NaN</td>\n",
       "      <td>...</td>\n",
       "      <td>False</td>\n",
       "      <td>False</td>\n",
       "      <td>False</td>\n",
       "      <td>False</td>\n",
       "      <td>False</td>\n",
       "      <td>False</td>\n",
       "      <td>False</td>\n",
       "      <td>False</td>\n",
       "      <td>False</td>\n",
       "      <td>False</td>\n",
       "    </tr>\n",
       "    <tr>\n",
       "      <th>3</th>\n",
       "      <td>2015-01-07</td>\n",
       "      <td>39.480431</td>\n",
       "      <td>39.676850</td>\n",
       "      <td>38.848472</td>\n",
       "      <td>39.266931</td>\n",
       "      <td>29114100</td>\n",
       "      <td>MSFT</td>\n",
       "      <td>1.149437e+09</td>\n",
       "      <td>NaN</td>\n",
       "      <td>NaN</td>\n",
       "      <td>...</td>\n",
       "      <td>False</td>\n",
       "      <td>False</td>\n",
       "      <td>False</td>\n",
       "      <td>False</td>\n",
       "      <td>False</td>\n",
       "      <td>False</td>\n",
       "      <td>False</td>\n",
       "      <td>False</td>\n",
       "      <td>False</td>\n",
       "      <td>False</td>\n",
       "    </tr>\n",
       "    <tr>\n",
       "      <th>4</th>\n",
       "      <td>2015-01-08</td>\n",
       "      <td>40.641861</td>\n",
       "      <td>40.778501</td>\n",
       "      <td>39.898882</td>\n",
       "      <td>39.924501</td>\n",
       "      <td>29645200</td>\n",
       "      <td>MSFT</td>\n",
       "      <td>1.204836e+09</td>\n",
       "      <td>NaN</td>\n",
       "      <td>NaN</td>\n",
       "      <td>...</td>\n",
       "      <td>False</td>\n",
       "      <td>False</td>\n",
       "      <td>False</td>\n",
       "      <td>False</td>\n",
       "      <td>False</td>\n",
       "      <td>False</td>\n",
       "      <td>False</td>\n",
       "      <td>False</td>\n",
       "      <td>False</td>\n",
       "      <td>False</td>\n",
       "    </tr>\n",
       "    <tr>\n",
       "      <th>...</th>\n",
       "      <td>...</td>\n",
       "      <td>...</td>\n",
       "      <td>...</td>\n",
       "      <td>...</td>\n",
       "      <td>...</td>\n",
       "      <td>...</td>\n",
       "      <td>...</td>\n",
       "      <td>...</td>\n",
       "      <td>...</td>\n",
       "      <td>...</td>\n",
       "      <td>...</td>\n",
       "      <td>...</td>\n",
       "      <td>...</td>\n",
       "      <td>...</td>\n",
       "      <td>...</td>\n",
       "      <td>...</td>\n",
       "      <td>...</td>\n",
       "      <td>...</td>\n",
       "      <td>...</td>\n",
       "      <td>...</td>\n",
       "      <td>...</td>\n",
       "    </tr>\n",
       "    <tr>\n",
       "      <th>22639</th>\n",
       "      <td>2024-12-24</td>\n",
       "      <td>257.286652</td>\n",
       "      <td>257.296596</td>\n",
       "      <td>254.386927</td>\n",
       "      <td>254.586231</td>\n",
       "      <td>23234700</td>\n",
       "      <td>AAPL</td>\n",
       "      <td>5.977978e+09</td>\n",
       "      <td>3.610322e+10</td>\n",
       "      <td>1.0</td>\n",
       "      <td>...</td>\n",
       "      <td>False</td>\n",
       "      <td>False</td>\n",
       "      <td>False</td>\n",
       "      <td>False</td>\n",
       "      <td>False</td>\n",
       "      <td>False</td>\n",
       "      <td>False</td>\n",
       "      <td>False</td>\n",
       "      <td>False</td>\n",
       "      <td>True</td>\n",
       "    </tr>\n",
       "    <tr>\n",
       "      <th>22640</th>\n",
       "      <td>2024-12-26</td>\n",
       "      <td>258.103729</td>\n",
       "      <td>259.179926</td>\n",
       "      <td>256.718662</td>\n",
       "      <td>257.276679</td>\n",
       "      <td>27237100</td>\n",
       "      <td>AAPL</td>\n",
       "      <td>7.029997e+09</td>\n",
       "      <td>3.620858e+10</td>\n",
       "      <td>1.0</td>\n",
       "      <td>...</td>\n",
       "      <td>False</td>\n",
       "      <td>False</td>\n",
       "      <td>False</td>\n",
       "      <td>False</td>\n",
       "      <td>False</td>\n",
       "      <td>False</td>\n",
       "      <td>False</td>\n",
       "      <td>False</td>\n",
       "      <td>False</td>\n",
       "      <td>True</td>\n",
       "    </tr>\n",
       "    <tr>\n",
       "      <th>22641</th>\n",
       "      <td>2024-12-27</td>\n",
       "      <td>254.685867</td>\n",
       "      <td>257.784882</td>\n",
       "      <td>252.164818</td>\n",
       "      <td>256.917934</td>\n",
       "      <td>42355300</td>\n",
       "      <td>AAPL</td>\n",
       "      <td>1.078730e+10</td>\n",
       "      <td>3.690446e+10</td>\n",
       "      <td>1.0</td>\n",
       "      <td>...</td>\n",
       "      <td>False</td>\n",
       "      <td>False</td>\n",
       "      <td>False</td>\n",
       "      <td>False</td>\n",
       "      <td>False</td>\n",
       "      <td>False</td>\n",
       "      <td>False</td>\n",
       "      <td>False</td>\n",
       "      <td>False</td>\n",
       "      <td>True</td>\n",
       "    </tr>\n",
       "    <tr>\n",
       "      <th>22642</th>\n",
       "      <td>2024-12-30</td>\n",
       "      <td>251.307861</td>\n",
       "      <td>252.603266</td>\n",
       "      <td>249.862994</td>\n",
       "      <td>251.337754</td>\n",
       "      <td>35557500</td>\n",
       "      <td>AAPL</td>\n",
       "      <td>8.935879e+09</td>\n",
       "      <td>3.727750e+10</td>\n",
       "      <td>1.0</td>\n",
       "      <td>...</td>\n",
       "      <td>False</td>\n",
       "      <td>False</td>\n",
       "      <td>False</td>\n",
       "      <td>False</td>\n",
       "      <td>False</td>\n",
       "      <td>False</td>\n",
       "      <td>False</td>\n",
       "      <td>False</td>\n",
       "      <td>False</td>\n",
       "      <td>True</td>\n",
       "    </tr>\n",
       "    <tr>\n",
       "      <th>22643</th>\n",
       "      <td>2024-12-31</td>\n",
       "      <td>249.534180</td>\n",
       "      <td>252.384064</td>\n",
       "      <td>248.547676</td>\n",
       "      <td>251.547039</td>\n",
       "      <td>39480700</td>\n",
       "      <td>AAPL</td>\n",
       "      <td>9.851784e+09</td>\n",
       "      <td>3.814399e+10</td>\n",
       "      <td>1.0</td>\n",
       "      <td>...</td>\n",
       "      <td>False</td>\n",
       "      <td>False</td>\n",
       "      <td>False</td>\n",
       "      <td>False</td>\n",
       "      <td>False</td>\n",
       "      <td>False</td>\n",
       "      <td>False</td>\n",
       "      <td>False</td>\n",
       "      <td>False</td>\n",
       "      <td>True</td>\n",
       "    </tr>\n",
       "  </tbody>\n",
       "</table>\n",
       "<p>22644 rows × 49 columns</p>\n",
       "</div>"
      ],
      "text/plain": [
       "            date       close        high         low        open    volume  \\\n",
       "0     2015-01-02   39.933060   40.496700   39.745182   39.847661  27913900   \n",
       "1     2015-01-05   39.565823   39.907421   39.497501   39.599980  39673900   \n",
       "2     2015-01-06   38.985115   39.924514   38.891174   39.608535  36447900   \n",
       "3     2015-01-07   39.480431   39.676850   38.848472   39.266931  29114100   \n",
       "4     2015-01-08   40.641861   40.778501   39.898882   39.924501  29645200   \n",
       "...          ...         ...         ...         ...         ...       ...   \n",
       "22639 2024-12-24  257.286652  257.296596  254.386927  254.586231  23234700   \n",
       "22640 2024-12-26  258.103729  259.179926  256.718662  257.276679  27237100   \n",
       "22641 2024-12-27  254.685867  257.784882  252.164818  256.917934  42355300   \n",
       "22642 2024-12-30  251.307861  252.603266  249.862994  251.337754  35557500   \n",
       "22643 2024-12-31  249.534180  252.384064  248.547676  251.547039  39480700   \n",
       "\n",
       "      ticker    dollar_vol  dollar_vol_1m  dollar_vol_rank  ...  month_3  \\\n",
       "0       MSFT  1.114687e+09            NaN              NaN  ...    False   \n",
       "1       MSFT  1.569730e+09            NaN              NaN  ...    False   \n",
       "2       MSFT  1.420926e+09            NaN              NaN  ...    False   \n",
       "3       MSFT  1.149437e+09            NaN              NaN  ...    False   \n",
       "4       MSFT  1.204836e+09            NaN              NaN  ...    False   \n",
       "...      ...           ...            ...              ...  ...      ...   \n",
       "22639   AAPL  5.977978e+09   3.610322e+10              1.0  ...    False   \n",
       "22640   AAPL  7.029997e+09   3.620858e+10              1.0  ...    False   \n",
       "22641   AAPL  1.078730e+10   3.690446e+10              1.0  ...    False   \n",
       "22642   AAPL  8.935879e+09   3.727750e+10              1.0  ...    False   \n",
       "22643   AAPL  9.851784e+09   3.814399e+10              1.0  ...    False   \n",
       "\n",
       "       month_4  month_5  month_6  month_7  month_8  month_9  month_10  \\\n",
       "0        False    False    False    False    False    False     False   \n",
       "1        False    False    False    False    False    False     False   \n",
       "2        False    False    False    False    False    False     False   \n",
       "3        False    False    False    False    False    False     False   \n",
       "4        False    False    False    False    False    False     False   \n",
       "...        ...      ...      ...      ...      ...      ...       ...   \n",
       "22639    False    False    False    False    False    False     False   \n",
       "22640    False    False    False    False    False    False     False   \n",
       "22641    False    False    False    False    False    False     False   \n",
       "22642    False    False    False    False    False    False     False   \n",
       "22643    False    False    False    False    False    False     False   \n",
       "\n",
       "       month_11  month_12  \n",
       "0         False     False  \n",
       "1         False     False  \n",
       "2         False     False  \n",
       "3         False     False  \n",
       "4         False     False  \n",
       "...         ...       ...  \n",
       "22639     False      True  \n",
       "22640     False      True  \n",
       "22641     False      True  \n",
       "22642     False      True  \n",
       "22643     False      True  \n",
       "\n",
       "[22644 rows x 49 columns]"
      ]
     },
     "execution_count": 97,
     "metadata": {},
     "output_type": "execute_result"
    }
   ],
   "source": [
    "data"
   ]
  },
  {
   "cell_type": "code",
   "execution_count": 98,
   "id": "53c898b6",
   "metadata": {},
   "outputs": [
    {
     "data": {
      "text/plain": [
       "(22644, 49)"
      ]
     },
     "execution_count": 98,
     "metadata": {},
     "output_type": "execute_result"
    }
   ],
   "source": [
    "data.shape"
   ]
  },
  {
   "cell_type": "code",
   "execution_count": 99,
   "id": "3726313d",
   "metadata": {},
   "outputs": [
    {
     "data": {
      "text/plain": [
       "date                  0\n",
       "close                 0\n",
       "high                  0\n",
       "low                   0\n",
       "open                  0\n",
       "volume                0\n",
       "ticker                0\n",
       "dollar_vol            0\n",
       "dollar_vol_1m       180\n",
       "dollar_vol_rank     180\n",
       "rsi                 126\n",
       "bb_high             171\n",
       "bb_low              171\n",
       "atr                 126\n",
       "macd                297\n",
       "return_1d             9\n",
       "return_5d            45\n",
       "return_10d           90\n",
       "return_21d          189\n",
       "return_42d          378\n",
       "return_63d          567\n",
       "lag_return_1d        54\n",
       "lag_return_5d       270\n",
       "lag_return_10d      540\n",
       "lag_return_21d     1134\n",
       "target_1d             9\n",
       "target_5d            45\n",
       "target_10d           90\n",
       "target_21d          189\n",
       "year_2016             0\n",
       "year_2017             0\n",
       "year_2018             0\n",
       "year_2019             0\n",
       "year_2020             0\n",
       "year_2021             0\n",
       "year_2022             0\n",
       "year_2023             0\n",
       "year_2024             0\n",
       "month_2               0\n",
       "month_3               0\n",
       "month_4               0\n",
       "month_5               0\n",
       "month_6               0\n",
       "month_7               0\n",
       "month_8               0\n",
       "month_9               0\n",
       "month_10              0\n",
       "month_11              0\n",
       "month_12              0\n",
       "dtype: int64"
      ]
     },
     "execution_count": 99,
     "metadata": {},
     "output_type": "execute_result"
    }
   ],
   "source": [
    "data.isna().sum()"
   ]
  },
  {
   "cell_type": "code",
   "execution_count": 100,
   "id": "f7b8f7ef",
   "metadata": {},
   "outputs": [],
   "source": [
    "data.dropna(inplace=True)"
   ]
  },
  {
   "cell_type": "code",
   "execution_count": 101,
   "id": "874f153c",
   "metadata": {},
   "outputs": [
    {
     "data": {
      "text/plain": [
       "date               0\n",
       "close              0\n",
       "high               0\n",
       "low                0\n",
       "open               0\n",
       "volume             0\n",
       "ticker             0\n",
       "dollar_vol         0\n",
       "dollar_vol_1m      0\n",
       "dollar_vol_rank    0\n",
       "rsi                0\n",
       "bb_high            0\n",
       "bb_low             0\n",
       "atr                0\n",
       "macd               0\n",
       "return_1d          0\n",
       "return_5d          0\n",
       "return_10d         0\n",
       "return_21d         0\n",
       "return_42d         0\n",
       "return_63d         0\n",
       "lag_return_1d      0\n",
       "lag_return_5d      0\n",
       "lag_return_10d     0\n",
       "lag_return_21d     0\n",
       "target_1d          0\n",
       "target_5d          0\n",
       "target_10d         0\n",
       "target_21d         0\n",
       "year_2016          0\n",
       "year_2017          0\n",
       "year_2018          0\n",
       "year_2019          0\n",
       "year_2020          0\n",
       "year_2021          0\n",
       "year_2022          0\n",
       "year_2023          0\n",
       "year_2024          0\n",
       "month_2            0\n",
       "month_3            0\n",
       "month_4            0\n",
       "month_5            0\n",
       "month_6            0\n",
       "month_7            0\n",
       "month_8            0\n",
       "month_9            0\n",
       "month_10           0\n",
       "month_11           0\n",
       "month_12           0\n",
       "dtype: int64"
      ]
     },
     "execution_count": 101,
     "metadata": {},
     "output_type": "execute_result"
    }
   ],
   "source": [
    "data.isna().sum()"
   ]
  },
  {
   "cell_type": "code",
   "execution_count": 102,
   "id": "29220092",
   "metadata": {},
   "outputs": [],
   "source": [
    "data.to_csv('data/stocks.csv', index=False)"
   ]
  }
 ],
 "metadata": {
  "kernelspec": {
   "display_name": "venv",
   "language": "python",
   "name": "python3"
  },
  "language_info": {
   "codemirror_mode": {
    "name": "ipython",
    "version": 3
   },
   "file_extension": ".py",
   "mimetype": "text/x-python",
   "name": "python",
   "nbconvert_exporter": "python",
   "pygments_lexer": "ipython3",
   "version": "3.12.3"
  }
 },
 "nbformat": 4,
 "nbformat_minor": 5
}
