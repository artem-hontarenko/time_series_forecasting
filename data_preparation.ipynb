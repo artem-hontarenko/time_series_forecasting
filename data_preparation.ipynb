{
 "cells": [
  {
   "cell_type": "markdown",
   "id": "6faf57d0",
   "metadata": {},
   "source": [
    "## Imports"
   ]
  },
  {
   "cell_type": "code",
   "execution_count": 41,
   "id": "daa062fd",
   "metadata": {},
   "outputs": [],
   "source": [
    "import numpy as np\n",
    "import pandas as pd\n",
    "import yfinance as yf\n",
    "import os\n",
    "import matplotlib.pyplot as plt\n",
    "import seaborn as sns\n",
    "import time\n",
    "\n",
    "from scipy.stats import spearmanr\n",
    "from talib import RSI, BBANDS, MACD, ATR"
   ]
  },
  {
   "cell_type": "code",
   "execution_count": 42,
   "id": "d6e68830",
   "metadata": {},
   "outputs": [
    {
     "name": "stdout",
     "output_type": "stream",
     "text": [
      "['AAPL', 'MSFT', 'NVDA', 'AMZN', 'GOOGL', 'META']\n"
     ]
    }
   ],
   "source": [
    "tickers = ['AAPL', 'MSFT', 'NVDA', 'AMZN', 'GOOGL', 'META']\n",
    "tickers = [ticker.replace('.', '-') for ticker in tickers]  # Replace dots with hyphens for yfinance compatibility\n",
    "print(tickers)"
   ]
  },
  {
   "cell_type": "code",
   "execution_count": 43,
   "id": "8bc035b0",
   "metadata": {},
   "outputs": [],
   "source": [
    "start_date = '2015-01-01'\n",
    "end_date = '2025-01-01'"
   ]
  },
  {
   "cell_type": "markdown",
   "id": "a0a0b528",
   "metadata": {},
   "source": [
    "The following method is supposed to download data for each ticket."
   ]
  },
  {
   "cell_type": "code",
   "execution_count": 44,
   "id": "8df57d90",
   "metadata": {},
   "outputs": [],
   "source": [
    "def get_data(ticker, start_date, end_date):\n",
    "    data = yf.download(ticker, start_date, end_date)\n",
    "    data[\"Ticker\"] = ticker\n",
    "    return data"
   ]
  },
  {
   "cell_type": "code",
   "execution_count": 45,
   "id": "6e2b982f",
   "metadata": {},
   "outputs": [
    {
     "name": "stderr",
     "output_type": "stream",
     "text": [
      "/tmp/ipykernel_5779/3049716656.py:2: FutureWarning: YF.download() has changed argument auto_adjust default to True\n",
      "  data = yf.download(ticker, start_date, end_date)\n",
      "[*********************100%***********************]  1 of 1 completed"
     ]
    },
    {
     "name": "stdout",
     "output_type": "stream",
     "text": [
      "Processing data for 6 stocks...\n",
      "Processed AAPL data with 2516 rows.\n"
     ]
    },
    {
     "name": "stderr",
     "output_type": "stream",
     "text": [
      "\n",
      "/tmp/ipykernel_5779/3049716656.py:2: FutureWarning: YF.download() has changed argument auto_adjust default to True\n",
      "  data = yf.download(ticker, start_date, end_date)\n",
      "[*********************100%***********************]  1 of 1 completed\n"
     ]
    },
    {
     "name": "stdout",
     "output_type": "stream",
     "text": [
      "Processed MSFT data with 2516 rows.\n"
     ]
    },
    {
     "name": "stderr",
     "output_type": "stream",
     "text": [
      "/tmp/ipykernel_5779/3049716656.py:2: FutureWarning: YF.download() has changed argument auto_adjust default to True\n",
      "  data = yf.download(ticker, start_date, end_date)\n",
      "[*********************100%***********************]  1 of 1 completed\n"
     ]
    },
    {
     "name": "stdout",
     "output_type": "stream",
     "text": [
      "Processed NVDA data with 2516 rows.\n"
     ]
    },
    {
     "name": "stderr",
     "output_type": "stream",
     "text": [
      "/tmp/ipykernel_5779/3049716656.py:2: FutureWarning: YF.download() has changed argument auto_adjust default to True\n",
      "  data = yf.download(ticker, start_date, end_date)\n",
      "[*********************100%***********************]  1 of 1 completed\n"
     ]
    },
    {
     "name": "stdout",
     "output_type": "stream",
     "text": [
      "Processed AMZN data with 2516 rows.\n"
     ]
    },
    {
     "name": "stderr",
     "output_type": "stream",
     "text": [
      "/tmp/ipykernel_5779/3049716656.py:2: FutureWarning: YF.download() has changed argument auto_adjust default to True\n",
      "  data = yf.download(ticker, start_date, end_date)\n",
      "[*********************100%***********************]  1 of 1 completed\n"
     ]
    },
    {
     "name": "stdout",
     "output_type": "stream",
     "text": [
      "Processed GOOGL data with 2516 rows.\n"
     ]
    },
    {
     "name": "stderr",
     "output_type": "stream",
     "text": [
      "/tmp/ipykernel_5779/3049716656.py:2: FutureWarning: YF.download() has changed argument auto_adjust default to True\n",
      "  data = yf.download(ticker, start_date, end_date)\n",
      "[*********************100%***********************]  1 of 1 completed\n"
     ]
    },
    {
     "name": "stdout",
     "output_type": "stream",
     "text": [
      "Processed META data with 2516 rows.\n"
     ]
    }
   ],
   "source": [
    "os.makedirs(\"data\", exist_ok=True)\n",
    "\n",
    "print(f\"Processing data for {len(tickers)} stocks...\")\n",
    "for ticker in tickers:\n",
    "    try:\n",
    "        # Get enhanced data for this stock\n",
    "        stock_data = get_data(ticker, start_date, end_date)\n",
    "        \n",
    "        # Reset index to make Date a column\n",
    "        stock_data = stock_data.reset_index()\n",
    "\n",
    "        print(f\"Processed {ticker} data with {len(stock_data)} rows.\")\n",
    "        \n",
    "        # Save individual stock data\n",
    "        stock_data.to_csv(f\"data/{ticker}.csv\", index=False)\n",
    "        \n",
    "        # Add a small delay to avoid hitting API limits\n",
    "        time.sleep(2)\n",
    "\n",
    "    except Exception as e:\n",
    "        print(f\"Error processing {ticker}: {str(e)}\")"
   ]
  },
  {
   "cell_type": "markdown",
   "id": "957b86e2",
   "metadata": {},
   "source": [
    "Let us analyze how does the dataframe for one stock look like."
   ]
  },
  {
   "cell_type": "code",
   "execution_count": 46,
   "id": "874b67d1",
   "metadata": {},
   "outputs": [
    {
     "data": {
      "text/plain": [
       "['MSFT.csv', 'AMZN.csv', 'GOOGL.csv', 'NVDA.csv', 'META.csv', 'AAPL.csv']"
      ]
     },
     "execution_count": 46,
     "metadata": {},
     "output_type": "execute_result"
    }
   ],
   "source": [
    "files = os.listdir('data') # List of files in the data directory\n",
    "files"
   ]
  },
  {
   "cell_type": "code",
   "execution_count": 47,
   "id": "52962e5f",
   "metadata": {},
   "outputs": [],
   "source": [
    "example_file = 'MSFT.csv'\n",
    "example_file_path = os.path.join('data', example_file)"
   ]
  },
  {
   "cell_type": "code",
   "execution_count": 48,
   "id": "a6cd8341",
   "metadata": {},
   "outputs": [
    {
     "data": {
      "text/html": [
       "<div>\n",
       "<style scoped>\n",
       "    .dataframe tbody tr th:only-of-type {\n",
       "        vertical-align: middle;\n",
       "    }\n",
       "\n",
       "    .dataframe tbody tr th {\n",
       "        vertical-align: top;\n",
       "    }\n",
       "\n",
       "    .dataframe thead th {\n",
       "        text-align: right;\n",
       "    }\n",
       "</style>\n",
       "<table border=\"1\" class=\"dataframe\">\n",
       "  <thead>\n",
       "    <tr style=\"text-align: right;\">\n",
       "      <th></th>\n",
       "      <th>Date</th>\n",
       "      <th>Close</th>\n",
       "      <th>High</th>\n",
       "      <th>Low</th>\n",
       "      <th>Open</th>\n",
       "      <th>Volume</th>\n",
       "      <th>Ticker</th>\n",
       "    </tr>\n",
       "  </thead>\n",
       "  <tbody>\n",
       "    <tr>\n",
       "      <th>0</th>\n",
       "      <td>NaN</td>\n",
       "      <td>MSFT</td>\n",
       "      <td>MSFT</td>\n",
       "      <td>MSFT</td>\n",
       "      <td>MSFT</td>\n",
       "      <td>MSFT</td>\n",
       "      <td>NaN</td>\n",
       "    </tr>\n",
       "    <tr>\n",
       "      <th>1</th>\n",
       "      <td>2015-01-02</td>\n",
       "      <td>39.99869918823242</td>\n",
       "      <td>40.56326583298269</td>\n",
       "      <td>39.810512482054385</td>\n",
       "      <td>39.9131600729795</td>\n",
       "      <td>27913900</td>\n",
       "      <td>MSFT</td>\n",
       "    </tr>\n",
       "    <tr>\n",
       "      <th>2</th>\n",
       "      <td>2015-01-05</td>\n",
       "      <td>39.6308708190918</td>\n",
       "      <td>39.97303047791457</td>\n",
       "      <td>39.56243692946277</td>\n",
       "      <td>39.665084500798855</td>\n",
       "      <td>39673900</td>\n",
       "      <td>MSFT</td>\n",
       "    </tr>\n",
       "    <tr>\n",
       "      <th>3</th>\n",
       "      <td>2015-01-06</td>\n",
       "      <td>39.04920196533203</td>\n",
       "      <td>39.99014525430785</td>\n",
       "      <td>38.955106983812854</td>\n",
       "      <td>39.67364662264987</td>\n",
       "      <td>36447900</td>\n",
       "      <td>MSFT</td>\n",
       "    </tr>\n",
       "    <tr>\n",
       "      <th>4</th>\n",
       "      <td>2015-01-07</td>\n",
       "      <td>39.54533004760742</td>\n",
       "      <td>39.74207259354287</td>\n",
       "      <td>38.91233285861642</td>\n",
       "      <td>39.331479028576595</td>\n",
       "      <td>29114100</td>\n",
       "      <td>MSFT</td>\n",
       "    </tr>\n",
       "  </tbody>\n",
       "</table>\n",
       "</div>"
      ],
      "text/plain": [
       "         Date              Close               High                 Low  \\\n",
       "0         NaN               MSFT               MSFT                MSFT   \n",
       "1  2015-01-02  39.99869918823242  40.56326583298269  39.810512482054385   \n",
       "2  2015-01-05   39.6308708190918  39.97303047791457   39.56243692946277   \n",
       "3  2015-01-06  39.04920196533203  39.99014525430785  38.955106983812854   \n",
       "4  2015-01-07  39.54533004760742  39.74207259354287   38.91233285861642   \n",
       "\n",
       "                 Open    Volume Ticker  \n",
       "0                MSFT      MSFT    NaN  \n",
       "1    39.9131600729795  27913900   MSFT  \n",
       "2  39.665084500798855  39673900   MSFT  \n",
       "3   39.67364662264987  36447900   MSFT  \n",
       "4  39.331479028576595  29114100   MSFT  "
      ]
     },
     "execution_count": 48,
     "metadata": {},
     "output_type": "execute_result"
    }
   ],
   "source": [
    "msft_data = pd.read_csv(example_file_path)\n",
    "msft_data.head()"
   ]
  },
  {
   "cell_type": "markdown",
   "id": "5566d377",
   "metadata": {},
   "source": [
    "As we see, there is a redundant second row(row with index 0), and moreover there is redundant indexes in the dataframe. We want to get rid of them and concatenate dataframes.  "
   ]
  },
  {
   "cell_type": "code",
   "execution_count": 49,
   "id": "917b6e52",
   "metadata": {},
   "outputs": [],
   "source": [
    "dataframes = []\n",
    "for file in files:\n",
    "    file_path = os.path.join('data', file)     \n",
    "    stock_data = pd.read_csv(file_path)\n",
    "    stock_data.drop([0], inplace=True) # Drop row with index 0\n",
    "    dataframes.append(stock_data)\n",
    "if dataframes:\n",
    "    data = pd.concat(dataframes, ignore_index=True)"
   ]
  },
  {
   "cell_type": "code",
   "execution_count": 50,
   "id": "2ed73ad2",
   "metadata": {},
   "outputs": [
    {
     "data": {
      "text/html": [
       "<div>\n",
       "<style scoped>\n",
       "    .dataframe tbody tr th:only-of-type {\n",
       "        vertical-align: middle;\n",
       "    }\n",
       "\n",
       "    .dataframe tbody tr th {\n",
       "        vertical-align: top;\n",
       "    }\n",
       "\n",
       "    .dataframe thead th {\n",
       "        text-align: right;\n",
       "    }\n",
       "</style>\n",
       "<table border=\"1\" class=\"dataframe\">\n",
       "  <thead>\n",
       "    <tr style=\"text-align: right;\">\n",
       "      <th></th>\n",
       "      <th>Date</th>\n",
       "      <th>Close</th>\n",
       "      <th>High</th>\n",
       "      <th>Low</th>\n",
       "      <th>Open</th>\n",
       "      <th>Volume</th>\n",
       "      <th>Ticker</th>\n",
       "    </tr>\n",
       "  </thead>\n",
       "  <tbody>\n",
       "    <tr>\n",
       "      <th>0</th>\n",
       "      <td>2015-01-02</td>\n",
       "      <td>39.99869918823242</td>\n",
       "      <td>40.56326583298269</td>\n",
       "      <td>39.810512482054385</td>\n",
       "      <td>39.9131600729795</td>\n",
       "      <td>27913900</td>\n",
       "      <td>MSFT</td>\n",
       "    </tr>\n",
       "    <tr>\n",
       "      <th>1</th>\n",
       "      <td>2015-01-05</td>\n",
       "      <td>39.6308708190918</td>\n",
       "      <td>39.97303047791457</td>\n",
       "      <td>39.56243692946277</td>\n",
       "      <td>39.665084500798855</td>\n",
       "      <td>39673900</td>\n",
       "      <td>MSFT</td>\n",
       "    </tr>\n",
       "    <tr>\n",
       "      <th>2</th>\n",
       "      <td>2015-01-06</td>\n",
       "      <td>39.04920196533203</td>\n",
       "      <td>39.99014525430785</td>\n",
       "      <td>38.955106983812854</td>\n",
       "      <td>39.67364662264987</td>\n",
       "      <td>36447900</td>\n",
       "      <td>MSFT</td>\n",
       "    </tr>\n",
       "    <tr>\n",
       "      <th>3</th>\n",
       "      <td>2015-01-07</td>\n",
       "      <td>39.54533004760742</td>\n",
       "      <td>39.74207259354287</td>\n",
       "      <td>38.91233285861642</td>\n",
       "      <td>39.331479028576595</td>\n",
       "      <td>29114100</td>\n",
       "      <td>MSFT</td>\n",
       "    </tr>\n",
       "    <tr>\n",
       "      <th>4</th>\n",
       "      <td>2015-01-08</td>\n",
       "      <td>40.70869064331055</td>\n",
       "      <td>40.8455552003686</td>\n",
       "      <td>39.964489818251685</td>\n",
       "      <td>39.990150902978684</td>\n",
       "      <td>29645200</td>\n",
       "      <td>MSFT</td>\n",
       "    </tr>\n",
       "    <tr>\n",
       "      <th>...</th>\n",
       "      <td>...</td>\n",
       "      <td>...</td>\n",
       "      <td>...</td>\n",
       "      <td>...</td>\n",
       "      <td>...</td>\n",
       "      <td>...</td>\n",
       "      <td>...</td>\n",
       "    </tr>\n",
       "    <tr>\n",
       "      <th>15091</th>\n",
       "      <td>2024-12-24</td>\n",
       "      <td>257.57867431640625</td>\n",
       "      <td>257.58862955018265</td>\n",
       "      <td>254.67565812568793</td>\n",
       "      <td>254.87518901917565</td>\n",
       "      <td>23234700</td>\n",
       "      <td>AAPL</td>\n",
       "    </tr>\n",
       "    <tr>\n",
       "      <th>15092</th>\n",
       "      <td>2024-12-26</td>\n",
       "      <td>258.39666748046875</td>\n",
       "      <td>259.47408555117545</td>\n",
       "      <td>257.0100282923795</td>\n",
       "      <td>257.56867823862046</td>\n",
       "      <td>27237100</td>\n",
       "      <td>AAPL</td>\n",
       "    </tr>\n",
       "    <tr>\n",
       "      <th>15093</th>\n",
       "      <td>2024-12-27</td>\n",
       "      <td>254.9749298095703</td>\n",
       "      <td>258.0774615569102</td>\n",
       "      <td>252.4510193654514</td>\n",
       "      <td>257.20952960207876</td>\n",
       "      <td>42355300</td>\n",
       "      <td>AAPL</td>\n",
       "    </tr>\n",
       "    <tr>\n",
       "      <th>15094</th>\n",
       "      <td>2024-12-30</td>\n",
       "      <td>251.59307861328125</td>\n",
       "      <td>252.88995321263158</td>\n",
       "      <td>250.14657107718884</td>\n",
       "      <td>251.62300520062965</td>\n",
       "      <td>35557500</td>\n",
       "      <td>AAPL</td>\n",
       "    </tr>\n",
       "    <tr>\n",
       "      <th>15095</th>\n",
       "      <td>2024-12-31</td>\n",
       "      <td>249.81736755371094</td>\n",
       "      <td>252.67048563095815</td>\n",
       "      <td>248.82974448856297</td>\n",
       "      <td>251.83251072711272</td>\n",
       "      <td>39480700</td>\n",
       "      <td>AAPL</td>\n",
       "    </tr>\n",
       "  </tbody>\n",
       "</table>\n",
       "<p>15096 rows × 7 columns</p>\n",
       "</div>"
      ],
      "text/plain": [
       "             Date               Close                High                 Low  \\\n",
       "0      2015-01-02   39.99869918823242   40.56326583298269  39.810512482054385   \n",
       "1      2015-01-05    39.6308708190918   39.97303047791457   39.56243692946277   \n",
       "2      2015-01-06   39.04920196533203   39.99014525430785  38.955106983812854   \n",
       "3      2015-01-07   39.54533004760742   39.74207259354287   38.91233285861642   \n",
       "4      2015-01-08   40.70869064331055    40.8455552003686  39.964489818251685   \n",
       "...           ...                 ...                 ...                 ...   \n",
       "15091  2024-12-24  257.57867431640625  257.58862955018265  254.67565812568793   \n",
       "15092  2024-12-26  258.39666748046875  259.47408555117545   257.0100282923795   \n",
       "15093  2024-12-27   254.9749298095703   258.0774615569102   252.4510193654514   \n",
       "15094  2024-12-30  251.59307861328125  252.88995321263158  250.14657107718884   \n",
       "15095  2024-12-31  249.81736755371094  252.67048563095815  248.82974448856297   \n",
       "\n",
       "                     Open    Volume Ticker  \n",
       "0        39.9131600729795  27913900   MSFT  \n",
       "1      39.665084500798855  39673900   MSFT  \n",
       "2       39.67364662264987  36447900   MSFT  \n",
       "3      39.331479028576595  29114100   MSFT  \n",
       "4      39.990150902978684  29645200   MSFT  \n",
       "...                   ...       ...    ...  \n",
       "15091  254.87518901917565  23234700   AAPL  \n",
       "15092  257.56867823862046  27237100   AAPL  \n",
       "15093  257.20952960207876  42355300   AAPL  \n",
       "15094  251.62300520062965  35557500   AAPL  \n",
       "15095  251.83251072711272  39480700   AAPL  \n",
       "\n",
       "[15096 rows x 7 columns]"
      ]
     },
     "execution_count": 50,
     "metadata": {},
     "output_type": "execute_result"
    }
   ],
   "source": [
    "data"
   ]
  },
  {
   "cell_type": "code",
   "execution_count": 51,
   "id": "14aac889",
   "metadata": {},
   "outputs": [
    {
     "data": {
      "text/plain": [
       "Date      object\n",
       "Close     object\n",
       "High      object\n",
       "Low       object\n",
       "Open      object\n",
       "Volume    object\n",
       "Ticker    object\n",
       "dtype: object"
      ]
     },
     "execution_count": 51,
     "metadata": {},
     "output_type": "execute_result"
    }
   ],
   "source": [
    "data.dtypes"
   ]
  },
  {
   "cell_type": "markdown",
   "id": "07899825",
   "metadata": {},
   "source": [
    "The columns should be converted into appropriate datatype. "
   ]
  },
  {
   "cell_type": "code",
   "execution_count": 52,
   "id": "5f75a1a3",
   "metadata": {},
   "outputs": [],
   "source": [
    "data['Date'] = pd.to_datetime(data['Date'])\n",
    "numeric_columns = ['Close', 'High', 'Low', 'Open', 'Volume']\n",
    "for col in numeric_columns:\n",
    "    data[col] = pd.to_numeric(data[col], errors='coerce')"
   ]
  },
  {
   "cell_type": "code",
   "execution_count": 53,
   "id": "317e05db",
   "metadata": {},
   "outputs": [
    {
     "data": {
      "text/plain": [
       "Date      datetime64[ns]\n",
       "Close            float64\n",
       "High             float64\n",
       "Low              float64\n",
       "Open             float64\n",
       "Volume             int64\n",
       "Ticker            object\n",
       "dtype: object"
      ]
     },
     "execution_count": 53,
     "metadata": {},
     "output_type": "execute_result"
    }
   ],
   "source": [
    "data.dtypes"
   ]
  },
  {
   "cell_type": "code",
   "execution_count": 54,
   "id": "88539f7e",
   "metadata": {},
   "outputs": [],
   "source": [
    "data.columns = data.columns.map(lambda x: x.lower())"
   ]
  },
  {
   "cell_type": "markdown",
   "id": "3baece59",
   "metadata": {},
   "source": [
    "#### Compute Rolling Average Dollar Volume"
   ]
  },
  {
   "cell_type": "code",
   "execution_count": 55,
   "id": "a4d193db",
   "metadata": {},
   "outputs": [],
   "source": [
    "data['dollar_vol'] = data[['close', 'volume']].prod(axis=1)"
   ]
  },
  {
   "cell_type": "code",
   "execution_count": 56,
   "id": "d9826605",
   "metadata": {},
   "outputs": [
    {
     "data": {
      "text/html": [
       "<div>\n",
       "<style scoped>\n",
       "    .dataframe tbody tr th:only-of-type {\n",
       "        vertical-align: middle;\n",
       "    }\n",
       "\n",
       "    .dataframe tbody tr th {\n",
       "        vertical-align: top;\n",
       "    }\n",
       "\n",
       "    .dataframe thead th {\n",
       "        text-align: right;\n",
       "    }\n",
       "</style>\n",
       "<table border=\"1\" class=\"dataframe\">\n",
       "  <thead>\n",
       "    <tr style=\"text-align: right;\">\n",
       "      <th></th>\n",
       "      <th>date</th>\n",
       "      <th>close</th>\n",
       "      <th>high</th>\n",
       "      <th>low</th>\n",
       "      <th>open</th>\n",
       "      <th>volume</th>\n",
       "      <th>ticker</th>\n",
       "      <th>dollar_vol</th>\n",
       "    </tr>\n",
       "  </thead>\n",
       "  <tbody>\n",
       "    <tr>\n",
       "      <th>0</th>\n",
       "      <td>2015-01-02</td>\n",
       "      <td>39.998699</td>\n",
       "      <td>40.563266</td>\n",
       "      <td>39.810512</td>\n",
       "      <td>39.913160</td>\n",
       "      <td>27913900</td>\n",
       "      <td>MSFT</td>\n",
       "      <td>1.116520e+09</td>\n",
       "    </tr>\n",
       "    <tr>\n",
       "      <th>1</th>\n",
       "      <td>2015-01-05</td>\n",
       "      <td>39.630871</td>\n",
       "      <td>39.973030</td>\n",
       "      <td>39.562437</td>\n",
       "      <td>39.665085</td>\n",
       "      <td>39673900</td>\n",
       "      <td>MSFT</td>\n",
       "      <td>1.572311e+09</td>\n",
       "    </tr>\n",
       "    <tr>\n",
       "      <th>2</th>\n",
       "      <td>2015-01-06</td>\n",
       "      <td>39.049202</td>\n",
       "      <td>39.990145</td>\n",
       "      <td>38.955107</td>\n",
       "      <td>39.673647</td>\n",
       "      <td>36447900</td>\n",
       "      <td>MSFT</td>\n",
       "      <td>1.423261e+09</td>\n",
       "    </tr>\n",
       "    <tr>\n",
       "      <th>3</th>\n",
       "      <td>2015-01-07</td>\n",
       "      <td>39.545330</td>\n",
       "      <td>39.742073</td>\n",
       "      <td>38.912333</td>\n",
       "      <td>39.331479</td>\n",
       "      <td>29114100</td>\n",
       "      <td>MSFT</td>\n",
       "      <td>1.151327e+09</td>\n",
       "    </tr>\n",
       "    <tr>\n",
       "      <th>4</th>\n",
       "      <td>2015-01-08</td>\n",
       "      <td>40.708691</td>\n",
       "      <td>40.845555</td>\n",
       "      <td>39.964490</td>\n",
       "      <td>39.990151</td>\n",
       "      <td>29645200</td>\n",
       "      <td>MSFT</td>\n",
       "      <td>1.206817e+09</td>\n",
       "    </tr>\n",
       "    <tr>\n",
       "      <th>...</th>\n",
       "      <td>...</td>\n",
       "      <td>...</td>\n",
       "      <td>...</td>\n",
       "      <td>...</td>\n",
       "      <td>...</td>\n",
       "      <td>...</td>\n",
       "      <td>...</td>\n",
       "      <td>...</td>\n",
       "    </tr>\n",
       "    <tr>\n",
       "      <th>15091</th>\n",
       "      <td>2024-12-24</td>\n",
       "      <td>257.578674</td>\n",
       "      <td>257.588630</td>\n",
       "      <td>254.675658</td>\n",
       "      <td>254.875189</td>\n",
       "      <td>23234700</td>\n",
       "      <td>AAPL</td>\n",
       "      <td>5.984763e+09</td>\n",
       "    </tr>\n",
       "    <tr>\n",
       "      <th>15092</th>\n",
       "      <td>2024-12-26</td>\n",
       "      <td>258.396667</td>\n",
       "      <td>259.474086</td>\n",
       "      <td>257.010028</td>\n",
       "      <td>257.568678</td>\n",
       "      <td>27237100</td>\n",
       "      <td>AAPL</td>\n",
       "      <td>7.037976e+09</td>\n",
       "    </tr>\n",
       "    <tr>\n",
       "      <th>15093</th>\n",
       "      <td>2024-12-27</td>\n",
       "      <td>254.974930</td>\n",
       "      <td>258.077462</td>\n",
       "      <td>252.451019</td>\n",
       "      <td>257.209530</td>\n",
       "      <td>42355300</td>\n",
       "      <td>AAPL</td>\n",
       "      <td>1.079954e+10</td>\n",
       "    </tr>\n",
       "    <tr>\n",
       "      <th>15094</th>\n",
       "      <td>2024-12-30</td>\n",
       "      <td>251.593079</td>\n",
       "      <td>252.889953</td>\n",
       "      <td>250.146571</td>\n",
       "      <td>251.623005</td>\n",
       "      <td>35557500</td>\n",
       "      <td>AAPL</td>\n",
       "      <td>8.946021e+09</td>\n",
       "    </tr>\n",
       "    <tr>\n",
       "      <th>15095</th>\n",
       "      <td>2024-12-31</td>\n",
       "      <td>249.817368</td>\n",
       "      <td>252.670486</td>\n",
       "      <td>248.829744</td>\n",
       "      <td>251.832511</td>\n",
       "      <td>39480700</td>\n",
       "      <td>AAPL</td>\n",
       "      <td>9.862965e+09</td>\n",
       "    </tr>\n",
       "  </tbody>\n",
       "</table>\n",
       "<p>15096 rows × 8 columns</p>\n",
       "</div>"
      ],
      "text/plain": [
       "            date       close        high         low        open    volume  \\\n",
       "0     2015-01-02   39.998699   40.563266   39.810512   39.913160  27913900   \n",
       "1     2015-01-05   39.630871   39.973030   39.562437   39.665085  39673900   \n",
       "2     2015-01-06   39.049202   39.990145   38.955107   39.673647  36447900   \n",
       "3     2015-01-07   39.545330   39.742073   38.912333   39.331479  29114100   \n",
       "4     2015-01-08   40.708691   40.845555   39.964490   39.990151  29645200   \n",
       "...          ...         ...         ...         ...         ...       ...   \n",
       "15091 2024-12-24  257.578674  257.588630  254.675658  254.875189  23234700   \n",
       "15092 2024-12-26  258.396667  259.474086  257.010028  257.568678  27237100   \n",
       "15093 2024-12-27  254.974930  258.077462  252.451019  257.209530  42355300   \n",
       "15094 2024-12-30  251.593079  252.889953  250.146571  251.623005  35557500   \n",
       "15095 2024-12-31  249.817368  252.670486  248.829744  251.832511  39480700   \n",
       "\n",
       "      ticker    dollar_vol  \n",
       "0       MSFT  1.116520e+09  \n",
       "1       MSFT  1.572311e+09  \n",
       "2       MSFT  1.423261e+09  \n",
       "3       MSFT  1.151327e+09  \n",
       "4       MSFT  1.206817e+09  \n",
       "...      ...           ...  \n",
       "15091   AAPL  5.984763e+09  \n",
       "15092   AAPL  7.037976e+09  \n",
       "15093   AAPL  1.079954e+10  \n",
       "15094   AAPL  8.946021e+09  \n",
       "15095   AAPL  9.862965e+09  \n",
       "\n",
       "[15096 rows x 8 columns]"
      ]
     },
     "execution_count": 56,
     "metadata": {},
     "output_type": "execute_result"
    }
   ],
   "source": [
    "data"
   ]
  },
  {
   "cell_type": "code",
   "execution_count": 57,
   "id": "87a72792",
   "metadata": {},
   "outputs": [],
   "source": [
    "data['dollar_vol_1m'] = (data.groupby('ticker')['dollar_vol']\n",
    "                           .rolling(window=21)\n",
    "                           .mean()).values"
   ]
  },
  {
   "cell_type": "code",
   "execution_count": 58,
   "id": "f64578e1",
   "metadata": {},
   "outputs": [
    {
     "name": "stdout",
     "output_type": "stream",
     "text": [
      "<class 'pandas.core.frame.DataFrame'>\n",
      "RangeIndex: 15096 entries, 0 to 15095\n",
      "Data columns (total 9 columns):\n",
      " #   Column         Non-Null Count  Dtype         \n",
      "---  ------         --------------  -----         \n",
      " 0   date           15096 non-null  datetime64[ns]\n",
      " 1   close          15096 non-null  float64       \n",
      " 2   high           15096 non-null  float64       \n",
      " 3   low            15096 non-null  float64       \n",
      " 4   open           15096 non-null  float64       \n",
      " 5   volume         15096 non-null  int64         \n",
      " 6   ticker         15096 non-null  object        \n",
      " 7   dollar_vol     15096 non-null  float64       \n",
      " 8   dollar_vol_1m  14976 non-null  float64       \n",
      "dtypes: datetime64[ns](1), float64(6), int64(1), object(1)\n",
      "memory usage: 1.0+ MB\n"
     ]
    }
   ],
   "source": [
    "data.info(show_counts=True)"
   ]
  },
  {
   "cell_type": "code",
   "execution_count": 59,
   "id": "2c53e856",
   "metadata": {},
   "outputs": [],
   "source": [
    "data['dollar_vol_rank'] = (data.groupby('date')\n",
    "                             .dollar_vol_1m\n",
    "                             .rank(ascending=False))"
   ]
  },
  {
   "cell_type": "code",
   "execution_count": 60,
   "id": "f931f9c5",
   "metadata": {},
   "outputs": [
    {
     "name": "stdout",
     "output_type": "stream",
     "text": [
      "<class 'pandas.core.frame.DataFrame'>\n",
      "RangeIndex: 15096 entries, 0 to 15095\n",
      "Data columns (total 10 columns):\n",
      " #   Column           Non-Null Count  Dtype         \n",
      "---  ------           --------------  -----         \n",
      " 0   date             15096 non-null  datetime64[ns]\n",
      " 1   close            15096 non-null  float64       \n",
      " 2   high             15096 non-null  float64       \n",
      " 3   low              15096 non-null  float64       \n",
      " 4   open             15096 non-null  float64       \n",
      " 5   volume           15096 non-null  int64         \n",
      " 6   ticker           15096 non-null  object        \n",
      " 7   dollar_vol       15096 non-null  float64       \n",
      " 8   dollar_vol_1m    14976 non-null  float64       \n",
      " 9   dollar_vol_rank  14976 non-null  float64       \n",
      "dtypes: datetime64[ns](1), float64(7), int64(1), object(1)\n",
      "memory usage: 1.2+ MB\n"
     ]
    }
   ],
   "source": [
    "data.info(show_counts=True)"
   ]
  },
  {
   "cell_type": "markdown",
   "id": "56ac9611",
   "metadata": {},
   "source": [
    "### Add some Basic Factors"
   ]
  },
  {
   "cell_type": "markdown",
   "id": "7b55f5d5",
   "metadata": {},
   "source": [
    "### Compute the Relative Strength Index"
   ]
  },
  {
   "cell_type": "code",
   "execution_count": 61,
   "id": "f118a2d1",
   "metadata": {},
   "outputs": [],
   "source": [
    "data['rsi'] = data.groupby('ticker')['close'].transform(RSI)"
   ]
  },
  {
   "cell_type": "markdown",
   "id": "d835f4d6",
   "metadata": {},
   "source": [
    "### Compute Bollinger Bands"
   ]
  },
  {
   "cell_type": "code",
   "execution_count": 62,
   "id": "17a02728",
   "metadata": {},
   "outputs": [],
   "source": [
    "def compute_bb(close_prices):\n",
    "    \"\"\"\n",
    "    Compute Bollinger Bands for a single ticker's close prices\n",
    "    Returns a DataFrame with bb_high and bb_low columns\n",
    "    \"\"\"\n",
    "    high, mid, low = BBANDS(close_prices, timeperiod=20)\n",
    "    return pd.DataFrame({\n",
    "        'bb_high': high, \n",
    "        'bb_low': low\n",
    "    }, index=close_prices.index)"
   ]
  },
  {
   "cell_type": "code",
   "execution_count": 63,
   "id": "1175e91d",
   "metadata": {},
   "outputs": [],
   "source": [
    "bb_results = data.groupby('ticker')['close'].apply(compute_bb)\n",
    "bb_results = bb_results.reset_index(level=0, drop=True) # Reset index to align with original data\n",
    "data = data.join(bb_results)"
   ]
  },
  {
   "cell_type": "code",
   "execution_count": 64,
   "id": "0c7f2245",
   "metadata": {},
   "outputs": [],
   "source": [
    "data['bb_high'] = data['bb_high'].sub(data['close']).div(data['bb_high']).apply(np.log1p)\n",
    "data['bb_low'] = data['close'].sub(data['bb_low']).div(data['close']).apply(np.log1p)"
   ]
  },
  {
   "cell_type": "markdown",
   "id": "9c494468",
   "metadata": {},
   "source": [
    "### Compute Average True Range"
   ]
  },
  {
   "cell_type": "code",
   "execution_count": 65,
   "id": "9f797dd1",
   "metadata": {},
   "outputs": [],
   "source": [
    "def compute_atr(stock_data):\n",
    "    \"\"\"\n",
    "    Compute normalized ATR for a single ticker\n",
    "    \"\"\"\n",
    "    try:\n",
    "        df = ATR(stock_data['high'], stock_data['low'], \n",
    "                 stock_data['close'], timeperiod=14)\n",
    "        return df.sub(df.mean()).div(df.std())\n",
    "    except:\n",
    "        return pd.Series(np.nan, index=stock_data.index)\n"
   ]
  },
  {
   "cell_type": "code",
   "execution_count": 69,
   "id": "4c694c26",
   "metadata": {},
   "outputs": [],
   "source": [
    "data['atr'] = data.groupby('ticker', group_keys=False).apply(compute_atr, include_groups=False)"
   ]
  },
  {
   "cell_type": "markdown",
   "id": "36f2707e",
   "metadata": {},
   "source": [
    "### Compute Moving Average\n",
    "### Convergance/Divergance"
   ]
  },
  {
   "cell_type": "code",
   "execution_count": 71,
   "id": "ebc1d52c",
   "metadata": {},
   "outputs": [],
   "source": [
    "def compute_macd(close_prices):\n",
    "    \"\"\"\n",
    "    Compute normalized MACD for a single ticker\n",
    "    \"\"\"\n",
    "    try:\n",
    "        macd = MACD(close_prices)[0]  # Get only the MACD line\n",
    "        return (macd - np.mean(macd)) / np.std(macd)\n",
    "    except:\n",
    "        return pd.Series(np.nan, index=close_prices.index)\n"
   ]
  },
  {
   "cell_type": "code",
   "execution_count": 72,
   "id": "ca696fa5",
   "metadata": {},
   "outputs": [],
   "source": [
    "data['macd'] = data.groupby('ticker')['close'].apply(compute_macd).reset_index(level=0, drop=True)"
   ]
  },
  {
   "cell_type": "markdown",
   "id": "9d56d973",
   "metadata": {},
   "source": [
    "### Compute Lagged Returns"
   ]
  },
  {
   "cell_type": "code",
   "execution_count": 74,
   "id": "8604be53",
   "metadata": {},
   "outputs": [],
   "source": [
    "lags = [1, 5, 10, 21, 42, 63]"
   ]
  },
  {
   "cell_type": "code",
   "execution_count": 75,
   "id": "b78c48c9",
   "metadata": {},
   "outputs": [
    {
     "data": {
      "text/html": [
       "<style type=\"text/css\">\n",
       "</style>\n",
       "<table id=\"T_967e4\">\n",
       "  <thead>\n",
       "    <tr>\n",
       "      <th class=\"blank level0\" >&nbsp;</th>\n",
       "      <th id=\"T_967e4_level0_col0\" class=\"col_heading level0 col0\" >percentiles</th>\n",
       "    </tr>\n",
       "  </thead>\n",
       "  <tbody>\n",
       "    <tr>\n",
       "      <th id=\"T_967e4_level0_row0\" class=\"row_heading level0 row0\" >std</th>\n",
       "      <td id=\"T_967e4_row0_col0\" class=\"data row0 col0\" >2.18%</td>\n",
       "    </tr>\n",
       "    <tr>\n",
       "      <th id=\"T_967e4_level0_row1\" class=\"row_heading level0 row1\" >min</th>\n",
       "      <td id=\"T_967e4_row1_col0\" class=\"data row1 col0\" >-26.39%</td>\n",
       "    </tr>\n",
       "    <tr>\n",
       "      <th id=\"T_967e4_level0_row2\" class=\"row_heading level0 row2\" >0.01%</th>\n",
       "      <td id=\"T_967e4_row2_col0\" class=\"data row2 col0\" >-21.71%</td>\n",
       "    </tr>\n",
       "    <tr>\n",
       "      <th id=\"T_967e4_level0_row3\" class=\"row_heading level0 row3\" >0.1%</th>\n",
       "      <td id=\"T_967e4_row3_col0\" class=\"data row3 col0\" >-9.95%</td>\n",
       "    </tr>\n",
       "    <tr>\n",
       "      <th id=\"T_967e4_level0_row4\" class=\"row_heading level0 row4\" >1%</th>\n",
       "      <td id=\"T_967e4_row4_col0\" class=\"data row4 col0\" >-5.74%</td>\n",
       "    </tr>\n",
       "    <tr>\n",
       "      <th id=\"T_967e4_level0_row5\" class=\"row_heading level0 row5\" >50%</th>\n",
       "      <td id=\"T_967e4_row5_col0\" class=\"data row5 col0\" >0.12%</td>\n",
       "    </tr>\n",
       "    <tr>\n",
       "      <th id=\"T_967e4_level0_row6\" class=\"row_heading level0 row6\" >99%</th>\n",
       "      <td id=\"T_967e4_row6_col0\" class=\"data row6 col0\" >6.41%</td>\n",
       "    </tr>\n",
       "    <tr>\n",
       "      <th id=\"T_967e4_level0_row7\" class=\"row_heading level0 row7\" >99.9%</th>\n",
       "      <td id=\"T_967e4_row7_col0\" class=\"data row7 col0\" >13.92%</td>\n",
       "    </tr>\n",
       "    <tr>\n",
       "      <th id=\"T_967e4_level0_row8\" class=\"row_heading level0 row8\" >99.99%</th>\n",
       "      <td id=\"T_967e4_row8_col0\" class=\"data row8 col0\" >23.82%</td>\n",
       "    </tr>\n",
       "    <tr>\n",
       "      <th id=\"T_967e4_level0_row9\" class=\"row_heading level0 row9\" >max</th>\n",
       "      <td id=\"T_967e4_row9_col0\" class=\"data row9 col0\" >29.81%</td>\n",
       "    </tr>\n",
       "  </tbody>\n",
       "</table>\n"
      ],
      "text/plain": [
       "<pandas.io.formats.style.Styler at 0x78cd99776ed0>"
      ]
     },
     "execution_count": 75,
     "metadata": {},
     "output_type": "execute_result"
    }
   ],
   "source": [
    "returns = data.groupby('ticker')['close'].pct_change()\n",
    "percentiles=[.0001, .001, .01]\n",
    "percentiles+= [1-p for p in percentiles]\n",
    "returns.describe(percentiles=percentiles).iloc[2:].to_frame('percentiles').style.format(lambda x: f'{x:,.2%}')"
   ]
  },
  {
   "cell_type": "code",
   "execution_count": 76,
   "id": "3818e5a0",
   "metadata": {},
   "outputs": [],
   "source": [
    "q = 0.0001"
   ]
  },
  {
   "cell_type": "markdown",
   "id": "004ec531",
   "metadata": {},
   "source": [
    "### Winsorize outliers"
   ]
  },
  {
   "cell_type": "code",
   "execution_count": 77,
   "id": "6726da15",
   "metadata": {},
   "outputs": [],
   "source": [
    "for lag in lags:\n",
    "    data[f'return_{lag}d'] = (data.groupby('ticker')['close']\n",
    "                                .pct_change(lag)\n",
    "                                .pipe(lambda x: x.clip(lower=x.quantile(q),\n",
    "                                                       upper=x.quantile(1 - q)))\n",
    "                                .add(1)\n",
    "                                .pow(1 / lag)\n",
    "                                .sub(1)\n",
    "                                )"
   ]
  },
  {
   "cell_type": "markdown",
   "id": "3c57d226",
   "metadata": {},
   "source": [
    "### Shift lagged outliers"
   ]
  },
  {
   "cell_type": "code",
   "execution_count": 79,
   "id": "dc8840a6",
   "metadata": {},
   "outputs": [],
   "source": [
    "for t in [1, 2, 3, 4, 5]:\n",
    "    for lag in [1, 5, 10, 21]:\n",
    "        data[f'return_{lag}d_lag{t}'] = (data.groupby('ticker')\n",
    "                                           [f'return_{lag}d'].shift(t * lag))"
   ]
  },
  {
   "cell_type": "markdown",
   "id": "25f9c252",
   "metadata": {},
   "source": [
    "### Compute forward returns"
   ]
  },
  {
   "cell_type": "code",
   "execution_count": 81,
   "id": "6baafb13",
   "metadata": {},
   "outputs": [],
   "source": [
    "for t in [1, 5, 10, 21]:\n",
    "    data[f'target_{t}d'] = data.groupby('ticker')[f'return_{t}d'].shift(-t)"
   ]
  },
  {
   "cell_type": "markdown",
   "id": "06d97b18",
   "metadata": {},
   "source": [
    "### Create year and month columns"
   ]
  },
  {
   "cell_type": "code",
   "execution_count": 84,
   "id": "343166bd",
   "metadata": {},
   "outputs": [],
   "source": [
    "data['year'] = data['date'].dt.year\n",
    "data['month'] = data['date'].dt.month"
   ]
  },
  {
   "cell_type": "code",
   "execution_count": 88,
   "id": "3726313d",
   "metadata": {},
   "outputs": [],
   "source": [
    "data.dropna(inplace=True)"
   ]
  },
  {
   "cell_type": "code",
   "execution_count": 89,
   "id": "3a6f66b1",
   "metadata": {},
   "outputs": [
    {
     "data": {
      "text/html": [
       "<div>\n",
       "<style scoped>\n",
       "    .dataframe tbody tr th:only-of-type {\n",
       "        vertical-align: middle;\n",
       "    }\n",
       "\n",
       "    .dataframe tbody tr th {\n",
       "        vertical-align: top;\n",
       "    }\n",
       "\n",
       "    .dataframe thead th {\n",
       "        text-align: right;\n",
       "    }\n",
       "</style>\n",
       "<table border=\"1\" class=\"dataframe\">\n",
       "  <thead>\n",
       "    <tr style=\"text-align: right;\">\n",
       "      <th></th>\n",
       "      <th>date</th>\n",
       "      <th>close</th>\n",
       "      <th>high</th>\n",
       "      <th>low</th>\n",
       "      <th>open</th>\n",
       "      <th>volume</th>\n",
       "      <th>ticker</th>\n",
       "      <th>dollar_vol</th>\n",
       "      <th>dollar_vol_1m</th>\n",
       "      <th>dollar_vol_rank</th>\n",
       "      <th>...</th>\n",
       "      <th>return_1d_lag5</th>\n",
       "      <th>return_5d_lag5</th>\n",
       "      <th>return_10d_lag5</th>\n",
       "      <th>return_21d_lag5</th>\n",
       "      <th>target_1d</th>\n",
       "      <th>target_5d</th>\n",
       "      <th>target_10d</th>\n",
       "      <th>target_21d</th>\n",
       "      <th>year</th>\n",
       "      <th>month</th>\n",
       "    </tr>\n",
       "  </thead>\n",
       "  <tbody>\n",
       "    <tr>\n",
       "      <th>126</th>\n",
       "      <td>2015-07-06</td>\n",
       "      <td>38.490154</td>\n",
       "      <td>38.568193</td>\n",
       "      <td>38.108636</td>\n",
       "      <td>38.117305</td>\n",
       "      <td>23034000</td>\n",
       "      <td>MSFT</td>\n",
       "      <td>8.865822e+08</td>\n",
       "      <td>4.496708e+09</td>\n",
       "      <td>1.0</td>\n",
       "      <td>...</td>\n",
       "      <td>-0.008543</td>\n",
       "      <td>-0.002373</td>\n",
       "      <td>0.004396</td>\n",
       "      <td>-0.005553</td>\n",
       "      <td>-0.002028</td>\n",
       "      <td>0.005128</td>\n",
       "      <td>0.005558</td>\n",
       "      <td>0.003270</td>\n",
       "      <td>2015</td>\n",
       "      <td>7</td>\n",
       "    </tr>\n",
       "    <tr>\n",
       "      <th>127</th>\n",
       "      <td>2015-07-07</td>\n",
       "      <td>38.412102</td>\n",
       "      <td>38.576851</td>\n",
       "      <td>37.562354</td>\n",
       "      <td>38.446786</td>\n",
       "      <td>36435800</td>\n",
       "      <td>MSFT</td>\n",
       "      <td>1.399576e+09</td>\n",
       "      <td>4.552907e+09</td>\n",
       "      <td>1.0</td>\n",
       "      <td>...</td>\n",
       "      <td>-0.019664</td>\n",
       "      <td>0.001403</td>\n",
       "      <td>0.013846</td>\n",
       "      <td>-0.004842</td>\n",
       "      <td>-0.001354</td>\n",
       "      <td>0.005890</td>\n",
       "      <td>0.006532</td>\n",
       "      <td>0.003407</td>\n",
       "      <td>2015</td>\n",
       "      <td>7</td>\n",
       "    </tr>\n",
       "    <tr>\n",
       "      <th>128</th>\n",
       "      <td>2015-07-08</td>\n",
       "      <td>38.360077</td>\n",
       "      <td>38.932356</td>\n",
       "      <td>38.177985</td>\n",
       "      <td>38.533492</td>\n",
       "      <td>39785900</td>\n",
       "      <td>MSFT</td>\n",
       "      <td>1.526190e+09</td>\n",
       "      <td>4.583439e+09</td>\n",
       "      <td>1.0</td>\n",
       "      <td>...</td>\n",
       "      <td>-0.004958</td>\n",
       "      <td>0.001413</td>\n",
       "      <td>0.014087</td>\n",
       "      <td>-0.003455</td>\n",
       "      <td>0.006330</td>\n",
       "      <td>0.006779</td>\n",
       "      <td>0.002900</td>\n",
       "      <td>0.002498</td>\n",
       "      <td>2015</td>\n",
       "      <td>7</td>\n",
       "    </tr>\n",
       "    <tr>\n",
       "      <th>129</th>\n",
       "      <td>2015-07-09</td>\n",
       "      <td>38.602882</td>\n",
       "      <td>39.209847</td>\n",
       "      <td>38.585540</td>\n",
       "      <td>38.802313</td>\n",
       "      <td>32424700</td>\n",
       "      <td>MSFT</td>\n",
       "      <td>1.251687e+09</td>\n",
       "      <td>4.681207e+09</td>\n",
       "      <td>1.0</td>\n",
       "      <td>...</td>\n",
       "      <td>0.006795</td>\n",
       "      <td>-0.003213</td>\n",
       "      <td>0.016716</td>\n",
       "      <td>-0.004098</td>\n",
       "      <td>0.002021</td>\n",
       "      <td>0.009434</td>\n",
       "      <td>0.003515</td>\n",
       "      <td>0.002320</td>\n",
       "      <td>2015</td>\n",
       "      <td>7</td>\n",
       "    </tr>\n",
       "    <tr>\n",
       "      <th>130</th>\n",
       "      <td>2015-07-10</td>\n",
       "      <td>38.680908</td>\n",
       "      <td>39.140465</td>\n",
       "      <td>38.646224</td>\n",
       "      <td>39.027742</td>\n",
       "      <td>25465800</td>\n",
       "      <td>MSFT</td>\n",
       "      <td>9.850403e+08</td>\n",
       "      <td>4.788976e+09</td>\n",
       "      <td>1.0</td>\n",
       "      <td>...</td>\n",
       "      <td>-0.001125</td>\n",
       "      <td>-0.004637</td>\n",
       "      <td>0.015032</td>\n",
       "      <td>-0.005528</td>\n",
       "      <td>0.020847</td>\n",
       "      <td>0.008853</td>\n",
       "      <td>0.002942</td>\n",
       "      <td>0.002822</td>\n",
       "      <td>2015</td>\n",
       "      <td>7</td>\n",
       "    </tr>\n",
       "    <tr>\n",
       "      <th>...</th>\n",
       "      <td>...</td>\n",
       "      <td>...</td>\n",
       "      <td>...</td>\n",
       "      <td>...</td>\n",
       "      <td>...</td>\n",
       "      <td>...</td>\n",
       "      <td>...</td>\n",
       "      <td>...</td>\n",
       "      <td>...</td>\n",
       "      <td>...</td>\n",
       "      <td>...</td>\n",
       "      <td>...</td>\n",
       "      <td>...</td>\n",
       "      <td>...</td>\n",
       "      <td>...</td>\n",
       "      <td>...</td>\n",
       "      <td>...</td>\n",
       "      <td>...</td>\n",
       "      <td>...</td>\n",
       "      <td>...</td>\n",
       "      <td>...</td>\n",
       "    </tr>\n",
       "    <tr>\n",
       "      <th>15070</th>\n",
       "      <td>2024-11-22</td>\n",
       "      <td>229.316818</td>\n",
       "      <td>230.164779</td>\n",
       "      <td>227.511176</td>\n",
       "      <td>227.511176</td>\n",
       "      <td>38168300</td>\n",
       "      <td>AAPL</td>\n",
       "      <td>8.752633e+09</td>\n",
       "      <td>3.117485e+10</td>\n",
       "      <td>1.0</td>\n",
       "      <td>...</td>\n",
       "      <td>-0.014109</td>\n",
       "      <td>0.006464</td>\n",
       "      <td>-0.003219</td>\n",
       "      <td>0.005517</td>\n",
       "      <td>0.013051</td>\n",
       "      <td>0.008317</td>\n",
       "      <td>0.007111</td>\n",
       "      <td>0.005550</td>\n",
       "      <td>2024</td>\n",
       "      <td>11</td>\n",
       "    </tr>\n",
       "    <tr>\n",
       "      <th>15071</th>\n",
       "      <td>2024-11-25</td>\n",
       "      <td>232.309601</td>\n",
       "      <td>232.688691</td>\n",
       "      <td>229.187143</td>\n",
       "      <td>230.903006</td>\n",
       "      <td>90152800</td>\n",
       "      <td>AAPL</td>\n",
       "      <td>2.094336e+10</td>\n",
       "      <td>3.202636e+10</td>\n",
       "      <td>1.0</td>\n",
       "      <td>...</td>\n",
       "      <td>0.013422</td>\n",
       "      <td>0.004439</td>\n",
       "      <td>-0.005680</td>\n",
       "      <td>0.005705</td>\n",
       "      <td>0.009404</td>\n",
       "      <td>0.008262</td>\n",
       "      <td>0.006221</td>\n",
       "      <td>0.005081</td>\n",
       "      <td>2024</td>\n",
       "      <td>11</td>\n",
       "    </tr>\n",
       "    <tr>\n",
       "      <th>15072</th>\n",
       "      <td>2024-11-26</td>\n",
       "      <td>234.494324</td>\n",
       "      <td>235.003106</td>\n",
       "      <td>232.768491</td>\n",
       "      <td>232.768491</td>\n",
       "      <td>45986200</td>\n",
       "      <td>AAPL</td>\n",
       "      <td>1.078350e+10</td>\n",
       "      <td>3.210548e+10</td>\n",
       "      <td>1.0</td>\n",
       "      <td>...</td>\n",
       "      <td>0.001140</td>\n",
       "      <td>0.001713</td>\n",
       "      <td>-0.002717</td>\n",
       "      <td>0.004845</td>\n",
       "      <td>-0.000553</td>\n",
       "      <td>0.006675</td>\n",
       "      <td>0.004759</td>\n",
       "      <td>0.003995</td>\n",
       "      <td>2024</td>\n",
       "      <td>11</td>\n",
       "    </tr>\n",
       "    <tr>\n",
       "      <th>15073</th>\n",
       "      <td>2024-11-27</td>\n",
       "      <td>234.364639</td>\n",
       "      <td>235.122820</td>\n",
       "      <td>233.247339</td>\n",
       "      <td>233.905755</td>\n",
       "      <td>33498400</td>\n",
       "      <td>AAPL</td>\n",
       "      <td>7.850840e+09</td>\n",
       "      <td>3.250429e+10</td>\n",
       "      <td>1.0</td>\n",
       "      <td>...</td>\n",
       "      <td>0.003154</td>\n",
       "      <td>-0.000882</td>\n",
       "      <td>-0.000072</td>\n",
       "      <td>0.005968</td>\n",
       "      <td>0.010216</td>\n",
       "      <td>0.006811</td>\n",
       "      <td>0.005413</td>\n",
       "      <td>0.003384</td>\n",
       "      <td>2024</td>\n",
       "      <td>11</td>\n",
       "    </tr>\n",
       "    <tr>\n",
       "      <th>15074</th>\n",
       "      <td>2024-11-29</td>\n",
       "      <td>236.758865</td>\n",
       "      <td>237.237706</td>\n",
       "      <td>233.406951</td>\n",
       "      <td>234.244925</td>\n",
       "      <td>28481400</td>\n",
       "      <td>AAPL</td>\n",
       "      <td>6.743224e+09</td>\n",
       "      <td>3.224780e+10</td>\n",
       "      <td>1.0</td>\n",
       "      <td>...</td>\n",
       "      <td>-0.002096</td>\n",
       "      <td>-0.001365</td>\n",
       "      <td>0.002881</td>\n",
       "      <td>0.006500</td>\n",
       "      <td>0.009523</td>\n",
       "      <td>0.004601</td>\n",
       "      <td>0.004460</td>\n",
       "      <td>0.002560</td>\n",
       "      <td>2024</td>\n",
       "      <td>11</td>\n",
       "    </tr>\n",
       "  </tbody>\n",
       "</table>\n",
       "<p>14214 rows × 47 columns</p>\n",
       "</div>"
      ],
      "text/plain": [
       "            date       close        high         low        open    volume  \\\n",
       "126   2015-07-06   38.490154   38.568193   38.108636   38.117305  23034000   \n",
       "127   2015-07-07   38.412102   38.576851   37.562354   38.446786  36435800   \n",
       "128   2015-07-08   38.360077   38.932356   38.177985   38.533492  39785900   \n",
       "129   2015-07-09   38.602882   39.209847   38.585540   38.802313  32424700   \n",
       "130   2015-07-10   38.680908   39.140465   38.646224   39.027742  25465800   \n",
       "...          ...         ...         ...         ...         ...       ...   \n",
       "15070 2024-11-22  229.316818  230.164779  227.511176  227.511176  38168300   \n",
       "15071 2024-11-25  232.309601  232.688691  229.187143  230.903006  90152800   \n",
       "15072 2024-11-26  234.494324  235.003106  232.768491  232.768491  45986200   \n",
       "15073 2024-11-27  234.364639  235.122820  233.247339  233.905755  33498400   \n",
       "15074 2024-11-29  236.758865  237.237706  233.406951  234.244925  28481400   \n",
       "\n",
       "      ticker    dollar_vol  dollar_vol_1m  dollar_vol_rank  ...  \\\n",
       "126     MSFT  8.865822e+08   4.496708e+09              1.0  ...   \n",
       "127     MSFT  1.399576e+09   4.552907e+09              1.0  ...   \n",
       "128     MSFT  1.526190e+09   4.583439e+09              1.0  ...   \n",
       "129     MSFT  1.251687e+09   4.681207e+09              1.0  ...   \n",
       "130     MSFT  9.850403e+08   4.788976e+09              1.0  ...   \n",
       "...      ...           ...            ...              ...  ...   \n",
       "15070   AAPL  8.752633e+09   3.117485e+10              1.0  ...   \n",
       "15071   AAPL  2.094336e+10   3.202636e+10              1.0  ...   \n",
       "15072   AAPL  1.078350e+10   3.210548e+10              1.0  ...   \n",
       "15073   AAPL  7.850840e+09   3.250429e+10              1.0  ...   \n",
       "15074   AAPL  6.743224e+09   3.224780e+10              1.0  ...   \n",
       "\n",
       "       return_1d_lag5  return_5d_lag5  return_10d_lag5  return_21d_lag5  \\\n",
       "126         -0.008543       -0.002373         0.004396        -0.005553   \n",
       "127         -0.019664        0.001403         0.013846        -0.004842   \n",
       "128         -0.004958        0.001413         0.014087        -0.003455   \n",
       "129          0.006795       -0.003213         0.016716        -0.004098   \n",
       "130         -0.001125       -0.004637         0.015032        -0.005528   \n",
       "...               ...             ...              ...              ...   \n",
       "15070       -0.014109        0.006464        -0.003219         0.005517   \n",
       "15071        0.013422        0.004439        -0.005680         0.005705   \n",
       "15072        0.001140        0.001713        -0.002717         0.004845   \n",
       "15073        0.003154       -0.000882        -0.000072         0.005968   \n",
       "15074       -0.002096       -0.001365         0.002881         0.006500   \n",
       "\n",
       "       target_1d  target_5d  target_10d  target_21d  year  month  \n",
       "126    -0.002028   0.005128    0.005558    0.003270  2015      7  \n",
       "127    -0.001354   0.005890    0.006532    0.003407  2015      7  \n",
       "128     0.006330   0.006779    0.002900    0.002498  2015      7  \n",
       "129     0.002021   0.009434    0.003515    0.002320  2015      7  \n",
       "130     0.020847   0.008853    0.002942    0.002822  2015      7  \n",
       "...          ...        ...         ...         ...   ...    ...  \n",
       "15070   0.013051   0.008317    0.007111    0.005550  2024     11  \n",
       "15071   0.009404   0.008262    0.006221    0.005081  2024     11  \n",
       "15072  -0.000553   0.006675    0.004759    0.003995  2024     11  \n",
       "15073   0.010216   0.006811    0.005413    0.003384  2024     11  \n",
       "15074   0.009523   0.004601    0.004460    0.002560  2024     11  \n",
       "\n",
       "[14214 rows x 47 columns]"
      ]
     },
     "execution_count": 89,
     "metadata": {},
     "output_type": "execute_result"
    }
   ],
   "source": [
    "data"
   ]
  },
  {
   "cell_type": "code",
   "execution_count": 90,
   "id": "25abca2f",
   "metadata": {},
   "outputs": [],
   "source": [
    "data.to_csv('data/stocks.csv')"
   ]
  }
 ],
 "metadata": {
  "kernelspec": {
   "display_name": "venv",
   "language": "python",
   "name": "python3"
  },
  "language_info": {
   "codemirror_mode": {
    "name": "ipython",
    "version": 3
   },
   "file_extension": ".py",
   "mimetype": "text/x-python",
   "name": "python",
   "nbconvert_exporter": "python",
   "pygments_lexer": "ipython3",
   "version": "3.12.3"
  }
 },
 "nbformat": 4,
 "nbformat_minor": 5
}
