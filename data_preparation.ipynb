{
 "cells": [
  {
   "cell_type": "markdown",
   "id": "6faf57d0",
   "metadata": {},
   "source": [
    "## Imports"
   ]
  },
  {
   "cell_type": "code",
   "execution_count": 22,
   "id": "daa062fd",
   "metadata": {},
   "outputs": [],
   "source": [
    "import numpy as np\n",
    "import pandas as pd\n",
    "import yfinance as yf\n",
    "import os\n",
    "import matplotlib.pyplot as plt\n",
    "import seaborn as sns\n",
    "import time\n",
    "\n",
    "from scipy.stats import spearmanr\n",
    "from talib import RSI, BBANDS, MACD, ATR"
   ]
  },
  {
   "cell_type": "code",
   "execution_count": 23,
   "id": "d6e68830",
   "metadata": {},
   "outputs": [
    {
     "name": "stdout",
     "output_type": "stream",
     "text": [
      "['AAPL', 'MSFT', 'NVDA', 'AMZN', 'GOOGL', 'META']\n"
     ]
    }
   ],
   "source": [
    "tickers = ['AAPL', 'MSFT', 'NVDA', 'AMZN', 'GOOGL', 'META']\n",
    "tickers = [ticker.replace('.', '-') for ticker in tickers]  # Replace dots with hyphens for yfinance compatibility\n",
    "print(tickers)"
   ]
  },
  {
   "cell_type": "code",
   "execution_count": 24,
   "id": "8bc035b0",
   "metadata": {},
   "outputs": [],
   "source": [
    "start_date = '2015-01-01'\n",
    "end_date = '2025-01-01'"
   ]
  },
  {
   "cell_type": "markdown",
   "id": "a0a0b528",
   "metadata": {},
   "source": [
    "The following method is supposed to download data for each ticket."
   ]
  },
  {
   "cell_type": "code",
   "execution_count": 25,
   "id": "8df57d90",
   "metadata": {},
   "outputs": [],
   "source": [
    "def get_data(ticker, start_date, end_date):\n",
    "    data = yf.download(ticker, start_date, end_date)\n",
    "    data[\"Ticker\"] = ticker\n",
    "    return data"
   ]
  },
  {
   "cell_type": "code",
   "execution_count": 26,
   "id": "6e2b982f",
   "metadata": {},
   "outputs": [
    {
     "name": "stderr",
     "output_type": "stream",
     "text": [
      "/tmp/ipykernel_78938/3049716656.py:2: FutureWarning: YF.download() has changed argument auto_adjust default to True\n",
      "  data = yf.download(ticker, start_date, end_date)\n",
      "[*********************100%***********************]  1 of 1 completed"
     ]
    },
    {
     "name": "stdout",
     "output_type": "stream",
     "text": [
      "Processing data for 6 stocks...\n",
      "Processed AAPL data with 2516 rows.\n"
     ]
    },
    {
     "name": "stderr",
     "output_type": "stream",
     "text": [
      "\n",
      "/tmp/ipykernel_78938/3049716656.py:2: FutureWarning: YF.download() has changed argument auto_adjust default to True\n",
      "  data = yf.download(ticker, start_date, end_date)\n",
      "[*********************100%***********************]  1 of 1 completed\n"
     ]
    },
    {
     "name": "stdout",
     "output_type": "stream",
     "text": [
      "Processed MSFT data with 2516 rows.\n"
     ]
    },
    {
     "name": "stderr",
     "output_type": "stream",
     "text": [
      "/tmp/ipykernel_78938/3049716656.py:2: FutureWarning: YF.download() has changed argument auto_adjust default to True\n",
      "  data = yf.download(ticker, start_date, end_date)\n",
      "[*********************100%***********************]  1 of 1 completed\n"
     ]
    },
    {
     "name": "stdout",
     "output_type": "stream",
     "text": [
      "Processed NVDA data with 2516 rows.\n"
     ]
    },
    {
     "name": "stderr",
     "output_type": "stream",
     "text": [
      "/tmp/ipykernel_78938/3049716656.py:2: FutureWarning: YF.download() has changed argument auto_adjust default to True\n",
      "  data = yf.download(ticker, start_date, end_date)\n",
      "[*********************100%***********************]  1 of 1 completed\n"
     ]
    },
    {
     "name": "stdout",
     "output_type": "stream",
     "text": [
      "Processed AMZN data with 2516 rows.\n"
     ]
    },
    {
     "name": "stderr",
     "output_type": "stream",
     "text": [
      "/tmp/ipykernel_78938/3049716656.py:2: FutureWarning: YF.download() has changed argument auto_adjust default to True\n",
      "  data = yf.download(ticker, start_date, end_date)\n",
      "[*********************100%***********************]  1 of 1 completed\n"
     ]
    },
    {
     "name": "stdout",
     "output_type": "stream",
     "text": [
      "Processed GOOGL data with 2516 rows.\n"
     ]
    },
    {
     "name": "stderr",
     "output_type": "stream",
     "text": [
      "/tmp/ipykernel_78938/3049716656.py:2: FutureWarning: YF.download() has changed argument auto_adjust default to True\n",
      "  data = yf.download(ticker, start_date, end_date)\n",
      "[*********************100%***********************]  1 of 1 completed\n"
     ]
    },
    {
     "name": "stdout",
     "output_type": "stream",
     "text": [
      "Processed META data with 2516 rows.\n"
     ]
    }
   ],
   "source": [
    "os.makedirs(\"data\", exist_ok=True)\n",
    "\n",
    "print(f\"Processing data for {len(tickers)} stocks...\")\n",
    "for ticker in tickers:\n",
    "    try:\n",
    "        # Get enhanced data for this stock\n",
    "        stock_data = get_data(ticker, start_date, end_date)\n",
    "        \n",
    "        # Reset index to make Date a column\n",
    "        stock_data = stock_data.reset_index()\n",
    "\n",
    "        print(f\"Processed {ticker} data with {len(stock_data)} rows.\")\n",
    "        \n",
    "        # Save individual stock data\n",
    "        stock_data.to_csv(f\"data/{ticker}.csv\", index=False)\n",
    "        \n",
    "        # Add a small delay to avoid hitting API limits\n",
    "        time.sleep(2)\n",
    "\n",
    "    except Exception as e:\n",
    "        print(f\"Error processing {ticker}: {str(e)}\")"
   ]
  },
  {
   "cell_type": "markdown",
   "id": "957b86e2",
   "metadata": {},
   "source": [
    "Let us analyze how does the dataframe for one stock look like."
   ]
  },
  {
   "cell_type": "code",
   "execution_count": 27,
   "id": "874b67d1",
   "metadata": {},
   "outputs": [
    {
     "data": {
      "text/plain": [
       "['MSFT.csv', 'AMZN.csv', 'GOOGL.csv', 'NVDA.csv', 'META.csv', 'AAPL.csv']"
      ]
     },
     "execution_count": 27,
     "metadata": {},
     "output_type": "execute_result"
    }
   ],
   "source": [
    "files = os.listdir('data') #list of files in the data directory\n",
    "files"
   ]
  },
  {
   "cell_type": "code",
   "execution_count": 28,
   "id": "52962e5f",
   "metadata": {},
   "outputs": [],
   "source": [
    "example_file = 'MSFT.csv'\n",
    "example_file_path = os.path.join('data', example_file)"
   ]
  },
  {
   "cell_type": "code",
   "execution_count": 29,
   "id": "a6cd8341",
   "metadata": {},
   "outputs": [
    {
     "data": {
      "text/html": [
       "<div>\n",
       "<style scoped>\n",
       "    .dataframe tbody tr th:only-of-type {\n",
       "        vertical-align: middle;\n",
       "    }\n",
       "\n",
       "    .dataframe tbody tr th {\n",
       "        vertical-align: top;\n",
       "    }\n",
       "\n",
       "    .dataframe thead th {\n",
       "        text-align: right;\n",
       "    }\n",
       "</style>\n",
       "<table border=\"1\" class=\"dataframe\">\n",
       "  <thead>\n",
       "    <tr style=\"text-align: right;\">\n",
       "      <th></th>\n",
       "      <th>Date</th>\n",
       "      <th>Close</th>\n",
       "      <th>High</th>\n",
       "      <th>Low</th>\n",
       "      <th>Open</th>\n",
       "      <th>Volume</th>\n",
       "      <th>Ticker</th>\n",
       "    </tr>\n",
       "  </thead>\n",
       "  <tbody>\n",
       "    <tr>\n",
       "      <th>0</th>\n",
       "      <td>NaN</td>\n",
       "      <td>MSFT</td>\n",
       "      <td>MSFT</td>\n",
       "      <td>MSFT</td>\n",
       "      <td>MSFT</td>\n",
       "      <td>MSFT</td>\n",
       "      <td>NaN</td>\n",
       "    </tr>\n",
       "    <tr>\n",
       "      <th>1</th>\n",
       "      <td>2015-01-02</td>\n",
       "      <td>39.998714447021484</td>\n",
       "      <td>40.563281307143846</td>\n",
       "      <td>39.810527669053585</td>\n",
       "      <td>39.913175299136924</td>\n",
       "      <td>27913900</td>\n",
       "      <td>MSFT</td>\n",
       "    </tr>\n",
       "    <tr>\n",
       "      <th>2</th>\n",
       "      <td>2015-01-05</td>\n",
       "      <td>39.63088607788086</td>\n",
       "      <td>39.9730458684429</td>\n",
       "      <td>39.562452161903224</td>\n",
       "      <td>39.66509977276096</td>\n",
       "      <td>39673900</td>\n",
       "      <td>MSFT</td>\n",
       "    </tr>\n",
       "    <tr>\n",
       "      <th>3</th>\n",
       "      <td>2015-01-06</td>\n",
       "      <td>39.0492057800293</td>\n",
       "      <td>39.9901491609254</td>\n",
       "      <td>38.95511078931803</td>\n",
       "      <td>39.67365049834883</td>\n",
       "      <td>36447900</td>\n",
       "      <td>MSFT</td>\n",
       "    </tr>\n",
       "    <tr>\n",
       "      <th>4</th>\n",
       "      <td>2015-01-07</td>\n",
       "      <td>39.54534149169922</td>\n",
       "      <td>39.74208409457034</td>\n",
       "      <td>38.91234411952407</td>\n",
       "      <td>39.331490410781676</td>\n",
       "      <td>29114100</td>\n",
       "      <td>MSFT</td>\n",
       "    </tr>\n",
       "  </tbody>\n",
       "</table>\n",
       "</div>"
      ],
      "text/plain": [
       "         Date               Close                High                 Low  \\\n",
       "0         NaN                MSFT                MSFT                MSFT   \n",
       "1  2015-01-02  39.998714447021484  40.563281307143846  39.810527669053585   \n",
       "2  2015-01-05   39.63088607788086    39.9730458684429  39.562452161903224   \n",
       "3  2015-01-06    39.0492057800293    39.9901491609254   38.95511078931803   \n",
       "4  2015-01-07   39.54534149169922   39.74208409457034   38.91234411952407   \n",
       "\n",
       "                 Open    Volume Ticker  \n",
       "0                MSFT      MSFT    NaN  \n",
       "1  39.913175299136924  27913900   MSFT  \n",
       "2   39.66509977276096  39673900   MSFT  \n",
       "3   39.67365049834883  36447900   MSFT  \n",
       "4  39.331490410781676  29114100   MSFT  "
      ]
     },
     "execution_count": 29,
     "metadata": {},
     "output_type": "execute_result"
    }
   ],
   "source": [
    "msft_data = pd.read_csv(example_file_path)\n",
    "msft_data.head()"
   ]
  },
  {
   "cell_type": "markdown",
   "id": "5566d377",
   "metadata": {},
   "source": [
    "As we see, there is a redundant second row(row with index 0), and moreover there is redundant indexes in the dataframe. We want to get rid of them and concatenate dataframes.  "
   ]
  },
  {
   "cell_type": "code",
   "execution_count": 32,
   "id": "917b6e52",
   "metadata": {},
   "outputs": [],
   "source": [
    "dataframes = []\n",
    "for file in files:\n",
    "    file_path = os.path.join('data', file)     \n",
    "    stock_data = pd.read_csv(file_path)\n",
    "    stock_data.drop([0], inplace=True) # drop row with index 0\n",
    "    dataframes.append(stock_data)\n",
    "if dataframes:\n",
    "    data = pd.concat(dataframes, ignore_index=True)"
   ]
  },
  {
   "cell_type": "code",
   "execution_count": 35,
   "id": "2ed73ad2",
   "metadata": {},
   "outputs": [
    {
     "data": {
      "text/html": [
       "<div>\n",
       "<style scoped>\n",
       "    .dataframe tbody tr th:only-of-type {\n",
       "        vertical-align: middle;\n",
       "    }\n",
       "\n",
       "    .dataframe tbody tr th {\n",
       "        vertical-align: top;\n",
       "    }\n",
       "\n",
       "    .dataframe thead th {\n",
       "        text-align: right;\n",
       "    }\n",
       "</style>\n",
       "<table border=\"1\" class=\"dataframe\">\n",
       "  <thead>\n",
       "    <tr style=\"text-align: right;\">\n",
       "      <th></th>\n",
       "      <th>Date</th>\n",
       "      <th>Close</th>\n",
       "      <th>High</th>\n",
       "      <th>Low</th>\n",
       "      <th>Open</th>\n",
       "      <th>Volume</th>\n",
       "      <th>Ticker</th>\n",
       "    </tr>\n",
       "  </thead>\n",
       "  <tbody>\n",
       "    <tr>\n",
       "      <th>0</th>\n",
       "      <td>2015-01-02</td>\n",
       "      <td>39.998714447021484</td>\n",
       "      <td>40.563281307143846</td>\n",
       "      <td>39.810527669053585</td>\n",
       "      <td>39.913175299136924</td>\n",
       "      <td>27913900</td>\n",
       "      <td>MSFT</td>\n",
       "    </tr>\n",
       "    <tr>\n",
       "      <th>1</th>\n",
       "      <td>2015-01-05</td>\n",
       "      <td>39.63088607788086</td>\n",
       "      <td>39.9730458684429</td>\n",
       "      <td>39.562452161903224</td>\n",
       "      <td>39.66509977276096</td>\n",
       "      <td>39673900</td>\n",
       "      <td>MSFT</td>\n",
       "    </tr>\n",
       "    <tr>\n",
       "      <th>2</th>\n",
       "      <td>2015-01-06</td>\n",
       "      <td>39.0492057800293</td>\n",
       "      <td>39.9901491609254</td>\n",
       "      <td>38.95511078931803</td>\n",
       "      <td>39.67365049834883</td>\n",
       "      <td>36447900</td>\n",
       "      <td>MSFT</td>\n",
       "    </tr>\n",
       "    <tr>\n",
       "      <th>3</th>\n",
       "      <td>2015-01-07</td>\n",
       "      <td>39.54534149169922</td>\n",
       "      <td>39.74208409457034</td>\n",
       "      <td>38.91234411952407</td>\n",
       "      <td>39.331490410781676</td>\n",
       "      <td>29114100</td>\n",
       "      <td>MSFT</td>\n",
       "    </tr>\n",
       "    <tr>\n",
       "      <th>4</th>\n",
       "      <td>2015-01-08</td>\n",
       "      <td>40.708683013916016</td>\n",
       "      <td>40.845547545323676</td>\n",
       "      <td>39.964482328331094</td>\n",
       "      <td>39.990143408248834</td>\n",
       "      <td>29645200</td>\n",
       "      <td>MSFT</td>\n",
       "    </tr>\n",
       "    <tr>\n",
       "      <th>...</th>\n",
       "      <td>...</td>\n",
       "      <td>...</td>\n",
       "      <td>...</td>\n",
       "      <td>...</td>\n",
       "      <td>...</td>\n",
       "      <td>...</td>\n",
       "      <td>...</td>\n",
       "    </tr>\n",
       "    <tr>\n",
       "      <th>15091</th>\n",
       "      <td>2024-12-24</td>\n",
       "      <td>257.57867431640625</td>\n",
       "      <td>257.58862955018265</td>\n",
       "      <td>254.67565812568793</td>\n",
       "      <td>254.87518901917565</td>\n",
       "      <td>23234700</td>\n",
       "      <td>AAPL</td>\n",
       "    </tr>\n",
       "    <tr>\n",
       "      <th>15092</th>\n",
       "      <td>2024-12-26</td>\n",
       "      <td>258.39666748046875</td>\n",
       "      <td>259.47408555117545</td>\n",
       "      <td>257.0100282923795</td>\n",
       "      <td>257.56867823862046</td>\n",
       "      <td>27237100</td>\n",
       "      <td>AAPL</td>\n",
       "    </tr>\n",
       "    <tr>\n",
       "      <th>15093</th>\n",
       "      <td>2024-12-27</td>\n",
       "      <td>254.9749298095703</td>\n",
       "      <td>258.0774615569102</td>\n",
       "      <td>252.4510193654514</td>\n",
       "      <td>257.20952960207876</td>\n",
       "      <td>42355300</td>\n",
       "      <td>AAPL</td>\n",
       "    </tr>\n",
       "    <tr>\n",
       "      <th>15094</th>\n",
       "      <td>2024-12-30</td>\n",
       "      <td>251.5930938720703</td>\n",
       "      <td>252.8899685500744</td>\n",
       "      <td>250.14658624824915</td>\n",
       "      <td>251.62302046123375</td>\n",
       "      <td>35557500</td>\n",
       "      <td>AAPL</td>\n",
       "    </tr>\n",
       "    <tr>\n",
       "      <th>15095</th>\n",
       "      <td>2024-12-31</td>\n",
       "      <td>249.8173828125</td>\n",
       "      <td>252.670501064015</td>\n",
       "      <td>248.82975968702823</td>\n",
       "      <td>251.8325261089863</td>\n",
       "      <td>39480700</td>\n",
       "      <td>AAPL</td>\n",
       "    </tr>\n",
       "  </tbody>\n",
       "</table>\n",
       "<p>15096 rows × 7 columns</p>\n",
       "</div>"
      ],
      "text/plain": [
       "             Date               Close                High                 Low  \\\n",
       "0      2015-01-02  39.998714447021484  40.563281307143846  39.810527669053585   \n",
       "1      2015-01-05   39.63088607788086    39.9730458684429  39.562452161903224   \n",
       "2      2015-01-06    39.0492057800293    39.9901491609254   38.95511078931803   \n",
       "3      2015-01-07   39.54534149169922   39.74208409457034   38.91234411952407   \n",
       "4      2015-01-08  40.708683013916016  40.845547545323676  39.964482328331094   \n",
       "...           ...                 ...                 ...                 ...   \n",
       "15091  2024-12-24  257.57867431640625  257.58862955018265  254.67565812568793   \n",
       "15092  2024-12-26  258.39666748046875  259.47408555117545   257.0100282923795   \n",
       "15093  2024-12-27   254.9749298095703   258.0774615569102   252.4510193654514   \n",
       "15094  2024-12-30   251.5930938720703   252.8899685500744  250.14658624824915   \n",
       "15095  2024-12-31      249.8173828125    252.670501064015  248.82975968702823   \n",
       "\n",
       "                     Open    Volume Ticker  \n",
       "0      39.913175299136924  27913900   MSFT  \n",
       "1       39.66509977276096  39673900   MSFT  \n",
       "2       39.67365049834883  36447900   MSFT  \n",
       "3      39.331490410781676  29114100   MSFT  \n",
       "4      39.990143408248834  29645200   MSFT  \n",
       "...                   ...       ...    ...  \n",
       "15091  254.87518901917565  23234700   AAPL  \n",
       "15092  257.56867823862046  27237100   AAPL  \n",
       "15093  257.20952960207876  42355300   AAPL  \n",
       "15094  251.62302046123375  35557500   AAPL  \n",
       "15095   251.8325261089863  39480700   AAPL  \n",
       "\n",
       "[15096 rows x 7 columns]"
      ]
     },
     "execution_count": 35,
     "metadata": {},
     "output_type": "execute_result"
    }
   ],
   "source": [
    "data"
   ]
  },
  {
   "cell_type": "code",
   "execution_count": 36,
   "id": "14aac889",
   "metadata": {},
   "outputs": [
    {
     "data": {
      "text/plain": [
       "Date      object\n",
       "Close     object\n",
       "High      object\n",
       "Low       object\n",
       "Open      object\n",
       "Volume    object\n",
       "Ticker    object\n",
       "dtype: object"
      ]
     },
     "execution_count": 36,
     "metadata": {},
     "output_type": "execute_result"
    }
   ],
   "source": [
    "data.dtypes"
   ]
  },
  {
   "cell_type": "markdown",
   "id": "07899825",
   "metadata": {},
   "source": [
    "The columns should be converted into appropriate datatype. "
   ]
  },
  {
   "cell_type": "code",
   "execution_count": 38,
   "id": "5f75a1a3",
   "metadata": {},
   "outputs": [],
   "source": [
    "data['Date'] = pd.to_datetime(data['Date'])\n",
    "numeric_columns = ['Close', 'High', 'Low', 'Open', 'Volume']\n",
    "for col in numeric_columns:\n",
    "    data[col] = pd.to_numeric(data[col], errors='coerce')"
   ]
  },
  {
   "cell_type": "code",
   "execution_count": 45,
   "id": "317e05db",
   "metadata": {},
   "outputs": [
    {
     "data": {
      "text/plain": [
       "date          datetime64[ns]\n",
       "close                float64\n",
       "high                 float64\n",
       "low                  float64\n",
       "open                 float64\n",
       "volume                 int64\n",
       "ticker                object\n",
       "dollar_vol           float64\n",
       "dtype: object"
      ]
     },
     "execution_count": 45,
     "metadata": {},
     "output_type": "execute_result"
    }
   ],
   "source": [
    "data.dtypes"
   ]
  },
  {
   "cell_type": "code",
   "execution_count": 46,
   "id": "88539f7e",
   "metadata": {},
   "outputs": [],
   "source": [
    "data.columns = data.columns.map(lambda x: x.lower())"
   ]
  },
  {
   "cell_type": "markdown",
   "id": "3baece59",
   "metadata": {},
   "source": [
    "#### Compute Rolling Average Dollar Volume"
   ]
  },
  {
   "cell_type": "code",
   "execution_count": 47,
   "id": "a4d193db",
   "metadata": {},
   "outputs": [],
   "source": [
    "data['dollar_vol'] = data[['close', 'volume']].prod(axis=1)"
   ]
  },
  {
   "cell_type": "code",
   "execution_count": 48,
   "id": "d9826605",
   "metadata": {},
   "outputs": [
    {
     "data": {
      "text/html": [
       "<div>\n",
       "<style scoped>\n",
       "    .dataframe tbody tr th:only-of-type {\n",
       "        vertical-align: middle;\n",
       "    }\n",
       "\n",
       "    .dataframe tbody tr th {\n",
       "        vertical-align: top;\n",
       "    }\n",
       "\n",
       "    .dataframe thead th {\n",
       "        text-align: right;\n",
       "    }\n",
       "</style>\n",
       "<table border=\"1\" class=\"dataframe\">\n",
       "  <thead>\n",
       "    <tr style=\"text-align: right;\">\n",
       "      <th></th>\n",
       "      <th>date</th>\n",
       "      <th>close</th>\n",
       "      <th>high</th>\n",
       "      <th>low</th>\n",
       "      <th>open</th>\n",
       "      <th>volume</th>\n",
       "      <th>ticker</th>\n",
       "      <th>dollar_vol</th>\n",
       "    </tr>\n",
       "  </thead>\n",
       "  <tbody>\n",
       "    <tr>\n",
       "      <th>0</th>\n",
       "      <td>2015-01-02</td>\n",
       "      <td>39.998714</td>\n",
       "      <td>40.563281</td>\n",
       "      <td>39.810528</td>\n",
       "      <td>39.913175</td>\n",
       "      <td>27913900</td>\n",
       "      <td>MSFT</td>\n",
       "      <td>1.116520e+09</td>\n",
       "    </tr>\n",
       "    <tr>\n",
       "      <th>1</th>\n",
       "      <td>2015-01-05</td>\n",
       "      <td>39.630886</td>\n",
       "      <td>39.973046</td>\n",
       "      <td>39.562452</td>\n",
       "      <td>39.665100</td>\n",
       "      <td>39673900</td>\n",
       "      <td>MSFT</td>\n",
       "      <td>1.572312e+09</td>\n",
       "    </tr>\n",
       "    <tr>\n",
       "      <th>2</th>\n",
       "      <td>2015-01-06</td>\n",
       "      <td>39.049206</td>\n",
       "      <td>39.990149</td>\n",
       "      <td>38.955111</td>\n",
       "      <td>39.673650</td>\n",
       "      <td>36447900</td>\n",
       "      <td>MSFT</td>\n",
       "      <td>1.423262e+09</td>\n",
       "    </tr>\n",
       "    <tr>\n",
       "      <th>3</th>\n",
       "      <td>2015-01-07</td>\n",
       "      <td>39.545341</td>\n",
       "      <td>39.742084</td>\n",
       "      <td>38.912344</td>\n",
       "      <td>39.331490</td>\n",
       "      <td>29114100</td>\n",
       "      <td>MSFT</td>\n",
       "      <td>1.151327e+09</td>\n",
       "    </tr>\n",
       "    <tr>\n",
       "      <th>4</th>\n",
       "      <td>2015-01-08</td>\n",
       "      <td>40.708683</td>\n",
       "      <td>40.845548</td>\n",
       "      <td>39.964482</td>\n",
       "      <td>39.990143</td>\n",
       "      <td>29645200</td>\n",
       "      <td>MSFT</td>\n",
       "      <td>1.206817e+09</td>\n",
       "    </tr>\n",
       "    <tr>\n",
       "      <th>...</th>\n",
       "      <td>...</td>\n",
       "      <td>...</td>\n",
       "      <td>...</td>\n",
       "      <td>...</td>\n",
       "      <td>...</td>\n",
       "      <td>...</td>\n",
       "      <td>...</td>\n",
       "      <td>...</td>\n",
       "    </tr>\n",
       "    <tr>\n",
       "      <th>15091</th>\n",
       "      <td>2024-12-24</td>\n",
       "      <td>257.578674</td>\n",
       "      <td>257.588630</td>\n",
       "      <td>254.675658</td>\n",
       "      <td>254.875189</td>\n",
       "      <td>23234700</td>\n",
       "      <td>AAPL</td>\n",
       "      <td>5.984763e+09</td>\n",
       "    </tr>\n",
       "    <tr>\n",
       "      <th>15092</th>\n",
       "      <td>2024-12-26</td>\n",
       "      <td>258.396667</td>\n",
       "      <td>259.474086</td>\n",
       "      <td>257.010028</td>\n",
       "      <td>257.568678</td>\n",
       "      <td>27237100</td>\n",
       "      <td>AAPL</td>\n",
       "      <td>7.037976e+09</td>\n",
       "    </tr>\n",
       "    <tr>\n",
       "      <th>15093</th>\n",
       "      <td>2024-12-27</td>\n",
       "      <td>254.974930</td>\n",
       "      <td>258.077462</td>\n",
       "      <td>252.451019</td>\n",
       "      <td>257.209530</td>\n",
       "      <td>42355300</td>\n",
       "      <td>AAPL</td>\n",
       "      <td>1.079954e+10</td>\n",
       "    </tr>\n",
       "    <tr>\n",
       "      <th>15094</th>\n",
       "      <td>2024-12-30</td>\n",
       "      <td>251.593094</td>\n",
       "      <td>252.889969</td>\n",
       "      <td>250.146586</td>\n",
       "      <td>251.623020</td>\n",
       "      <td>35557500</td>\n",
       "      <td>AAPL</td>\n",
       "      <td>8.946021e+09</td>\n",
       "    </tr>\n",
       "    <tr>\n",
       "      <th>15095</th>\n",
       "      <td>2024-12-31</td>\n",
       "      <td>249.817383</td>\n",
       "      <td>252.670501</td>\n",
       "      <td>248.829760</td>\n",
       "      <td>251.832526</td>\n",
       "      <td>39480700</td>\n",
       "      <td>AAPL</td>\n",
       "      <td>9.862965e+09</td>\n",
       "    </tr>\n",
       "  </tbody>\n",
       "</table>\n",
       "<p>15096 rows × 8 columns</p>\n",
       "</div>"
      ],
      "text/plain": [
       "            date       close        high         low        open    volume  \\\n",
       "0     2015-01-02   39.998714   40.563281   39.810528   39.913175  27913900   \n",
       "1     2015-01-05   39.630886   39.973046   39.562452   39.665100  39673900   \n",
       "2     2015-01-06   39.049206   39.990149   38.955111   39.673650  36447900   \n",
       "3     2015-01-07   39.545341   39.742084   38.912344   39.331490  29114100   \n",
       "4     2015-01-08   40.708683   40.845548   39.964482   39.990143  29645200   \n",
       "...          ...         ...         ...         ...         ...       ...   \n",
       "15091 2024-12-24  257.578674  257.588630  254.675658  254.875189  23234700   \n",
       "15092 2024-12-26  258.396667  259.474086  257.010028  257.568678  27237100   \n",
       "15093 2024-12-27  254.974930  258.077462  252.451019  257.209530  42355300   \n",
       "15094 2024-12-30  251.593094  252.889969  250.146586  251.623020  35557500   \n",
       "15095 2024-12-31  249.817383  252.670501  248.829760  251.832526  39480700   \n",
       "\n",
       "      ticker    dollar_vol  \n",
       "0       MSFT  1.116520e+09  \n",
       "1       MSFT  1.572312e+09  \n",
       "2       MSFT  1.423262e+09  \n",
       "3       MSFT  1.151327e+09  \n",
       "4       MSFT  1.206817e+09  \n",
       "...      ...           ...  \n",
       "15091   AAPL  5.984763e+09  \n",
       "15092   AAPL  7.037976e+09  \n",
       "15093   AAPL  1.079954e+10  \n",
       "15094   AAPL  8.946021e+09  \n",
       "15095   AAPL  9.862965e+09  \n",
       "\n",
       "[15096 rows x 8 columns]"
      ]
     },
     "execution_count": 48,
     "metadata": {},
     "output_type": "execute_result"
    }
   ],
   "source": [
    "data"
   ]
  },
  {
   "cell_type": "code",
   "execution_count": null,
   "id": "ec7a9f93",
   "metadata": {},
   "outputs": [
    {
     "ename": "KeyError",
     "evalue": "'ticker'",
     "output_type": "error",
     "traceback": [
      "\u001b[31m---------------------------------------------------------------------------\u001b[39m",
      "\u001b[31mKeyError\u001b[39m                                  Traceback (most recent call last)",
      "\u001b[36mCell\u001b[39m\u001b[36m \u001b[39m\u001b[32mIn[51]\u001b[39m\u001b[32m, line 1\u001b[39m\n\u001b[32m----> \u001b[39m\u001b[32m1\u001b[39m data[\u001b[33m'\u001b[39m\u001b[33mdollar_vol_1m\u001b[39m\u001b[33m'\u001b[39m] = (\u001b[43mdata\u001b[49m\u001b[43m.\u001b[49m\u001b[43mdollar_vol\u001b[49m\u001b[43m.\u001b[49m\u001b[43mgroupby\u001b[49m\u001b[43m(\u001b[49m\u001b[33;43m'\u001b[39;49m\u001b[33;43mticker\u001b[39;49m\u001b[33;43m'\u001b[39;49m\u001b[43m)\u001b[49m.rolling(window=\u001b[32m21\u001b[39m, level=\u001b[33m'\u001b[39m\u001b[33mdate\u001b[39m\u001b[33m'\u001b[39m).mean()).values\n",
      "\u001b[36mFile \u001b[39m\u001b[32m~/Desktop/Study/data_science/code/venv/lib/python3.12/site-packages/pandas/core/series.py:2256\u001b[39m, in \u001b[36mSeries.groupby\u001b[39m\u001b[34m(self, by, axis, level, as_index, sort, group_keys, observed, dropna)\u001b[39m\n\u001b[32m   2253\u001b[39m     \u001b[38;5;28;01mraise\u001b[39;00m \u001b[38;5;167;01mTypeError\u001b[39;00m(\u001b[33m\"\u001b[39m\u001b[33mas_index=False only valid with DataFrame\u001b[39m\u001b[33m\"\u001b[39m)\n\u001b[32m   2254\u001b[39m axis = \u001b[38;5;28mself\u001b[39m._get_axis_number(axis)\n\u001b[32m-> \u001b[39m\u001b[32m2256\u001b[39m \u001b[38;5;28;01mreturn\u001b[39;00m \u001b[43mSeriesGroupBy\u001b[49m\u001b[43m(\u001b[49m\n\u001b[32m   2257\u001b[39m \u001b[43m    \u001b[49m\u001b[43mobj\u001b[49m\u001b[43m=\u001b[49m\u001b[38;5;28;43mself\u001b[39;49m\u001b[43m,\u001b[49m\n\u001b[32m   2258\u001b[39m \u001b[43m    \u001b[49m\u001b[43mkeys\u001b[49m\u001b[43m=\u001b[49m\u001b[43mby\u001b[49m\u001b[43m,\u001b[49m\n\u001b[32m   2259\u001b[39m \u001b[43m    \u001b[49m\u001b[43maxis\u001b[49m\u001b[43m=\u001b[49m\u001b[43maxis\u001b[49m\u001b[43m,\u001b[49m\n\u001b[32m   2260\u001b[39m \u001b[43m    \u001b[49m\u001b[43mlevel\u001b[49m\u001b[43m=\u001b[49m\u001b[43mlevel\u001b[49m\u001b[43m,\u001b[49m\n\u001b[32m   2261\u001b[39m \u001b[43m    \u001b[49m\u001b[43mas_index\u001b[49m\u001b[43m=\u001b[49m\u001b[43mas_index\u001b[49m\u001b[43m,\u001b[49m\n\u001b[32m   2262\u001b[39m \u001b[43m    \u001b[49m\u001b[43msort\u001b[49m\u001b[43m=\u001b[49m\u001b[43msort\u001b[49m\u001b[43m,\u001b[49m\n\u001b[32m   2263\u001b[39m \u001b[43m    \u001b[49m\u001b[43mgroup_keys\u001b[49m\u001b[43m=\u001b[49m\u001b[43mgroup_keys\u001b[49m\u001b[43m,\u001b[49m\n\u001b[32m   2264\u001b[39m \u001b[43m    \u001b[49m\u001b[43mobserved\u001b[49m\u001b[43m=\u001b[49m\u001b[43mobserved\u001b[49m\u001b[43m,\u001b[49m\n\u001b[32m   2265\u001b[39m \u001b[43m    \u001b[49m\u001b[43mdropna\u001b[49m\u001b[43m=\u001b[49m\u001b[43mdropna\u001b[49m\u001b[43m,\u001b[49m\n\u001b[32m   2266\u001b[39m \u001b[43m\u001b[49m\u001b[43m)\u001b[49m\n",
      "\u001b[36mFile \u001b[39m\u001b[32m~/Desktop/Study/data_science/code/venv/lib/python3.12/site-packages/pandas/core/groupby/groupby.py:1330\u001b[39m, in \u001b[36mGroupBy.__init__\u001b[39m\u001b[34m(self, obj, keys, axis, level, grouper, exclusions, selection, as_index, sort, group_keys, observed, dropna)\u001b[39m\n\u001b[32m   1327\u001b[39m \u001b[38;5;28mself\u001b[39m.dropna = dropna\n\u001b[32m   1329\u001b[39m \u001b[38;5;28;01mif\u001b[39;00m grouper \u001b[38;5;129;01mis\u001b[39;00m \u001b[38;5;28;01mNone\u001b[39;00m:\n\u001b[32m-> \u001b[39m\u001b[32m1330\u001b[39m     grouper, exclusions, obj = \u001b[43mget_grouper\u001b[49m\u001b[43m(\u001b[49m\n\u001b[32m   1331\u001b[39m \u001b[43m        \u001b[49m\u001b[43mobj\u001b[49m\u001b[43m,\u001b[49m\n\u001b[32m   1332\u001b[39m \u001b[43m        \u001b[49m\u001b[43mkeys\u001b[49m\u001b[43m,\u001b[49m\n\u001b[32m   1333\u001b[39m \u001b[43m        \u001b[49m\u001b[43maxis\u001b[49m\u001b[43m=\u001b[49m\u001b[43maxis\u001b[49m\u001b[43m,\u001b[49m\n\u001b[32m   1334\u001b[39m \u001b[43m        \u001b[49m\u001b[43mlevel\u001b[49m\u001b[43m=\u001b[49m\u001b[43mlevel\u001b[49m\u001b[43m,\u001b[49m\n\u001b[32m   1335\u001b[39m \u001b[43m        \u001b[49m\u001b[43msort\u001b[49m\u001b[43m=\u001b[49m\u001b[43msort\u001b[49m\u001b[43m,\u001b[49m\n\u001b[32m   1336\u001b[39m \u001b[43m        \u001b[49m\u001b[43mobserved\u001b[49m\u001b[43m=\u001b[49m\u001b[38;5;28;43;01mFalse\u001b[39;49;00m\u001b[43m \u001b[49m\u001b[38;5;28;43;01mif\u001b[39;49;00m\u001b[43m \u001b[49m\u001b[43mobserved\u001b[49m\u001b[43m \u001b[49m\u001b[38;5;129;43;01mis\u001b[39;49;00m\u001b[43m \u001b[49m\u001b[43mlib\u001b[49m\u001b[43m.\u001b[49m\u001b[43mno_default\u001b[49m\u001b[43m \u001b[49m\u001b[38;5;28;43;01melse\u001b[39;49;00m\u001b[43m \u001b[49m\u001b[43mobserved\u001b[49m\u001b[43m,\u001b[49m\n\u001b[32m   1337\u001b[39m \u001b[43m        \u001b[49m\u001b[43mdropna\u001b[49m\u001b[43m=\u001b[49m\u001b[38;5;28;43mself\u001b[39;49m\u001b[43m.\u001b[49m\u001b[43mdropna\u001b[49m\u001b[43m,\u001b[49m\n\u001b[32m   1338\u001b[39m \u001b[43m    \u001b[49m\u001b[43m)\u001b[49m\n\u001b[32m   1340\u001b[39m \u001b[38;5;28;01mif\u001b[39;00m observed \u001b[38;5;129;01mis\u001b[39;00m lib.no_default:\n\u001b[32m   1341\u001b[39m     \u001b[38;5;28;01mif\u001b[39;00m \u001b[38;5;28many\u001b[39m(ping._passed_categorical \u001b[38;5;28;01mfor\u001b[39;00m ping \u001b[38;5;129;01min\u001b[39;00m grouper.groupings):\n",
      "\u001b[36mFile \u001b[39m\u001b[32m~/Desktop/Study/data_science/code/venv/lib/python3.12/site-packages/pandas/core/groupby/grouper.py:1043\u001b[39m, in \u001b[36mget_grouper\u001b[39m\u001b[34m(obj, key, axis, level, sort, observed, validate, dropna)\u001b[39m\n\u001b[32m   1041\u001b[39m         in_axis, level, gpr = \u001b[38;5;28;01mFalse\u001b[39;00m, gpr, \u001b[38;5;28;01mNone\u001b[39;00m\n\u001b[32m   1042\u001b[39m     \u001b[38;5;28;01melse\u001b[39;00m:\n\u001b[32m-> \u001b[39m\u001b[32m1043\u001b[39m         \u001b[38;5;28;01mraise\u001b[39;00m \u001b[38;5;167;01mKeyError\u001b[39;00m(gpr)\n\u001b[32m   1044\u001b[39m \u001b[38;5;28;01melif\u001b[39;00m \u001b[38;5;28misinstance\u001b[39m(gpr, Grouper) \u001b[38;5;129;01mand\u001b[39;00m gpr.key \u001b[38;5;129;01mis\u001b[39;00m \u001b[38;5;129;01mnot\u001b[39;00m \u001b[38;5;28;01mNone\u001b[39;00m:\n\u001b[32m   1045\u001b[39m     \u001b[38;5;66;03m# Add key to exclusions\u001b[39;00m\n\u001b[32m   1046\u001b[39m     exclusions.add(gpr.key)\n",
      "\u001b[31mKeyError\u001b[39m: 'ticker'"
     ]
    }
   ],
   "source": []
  }
 ],
 "metadata": {
  "kernelspec": {
   "display_name": "venv",
   "language": "python",
   "name": "python3"
  },
  "language_info": {
   "codemirror_mode": {
    "name": "ipython",
    "version": 3
   },
   "file_extension": ".py",
   "mimetype": "text/x-python",
   "name": "python",
   "nbconvert_exporter": "python",
   "pygments_lexer": "ipython3",
   "version": "3.12.3"
  }
 },
 "nbformat": 4,
 "nbformat_minor": 5
}
