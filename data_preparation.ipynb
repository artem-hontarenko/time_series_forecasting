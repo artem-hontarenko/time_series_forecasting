{
 "cells": [
  {
   "cell_type": "markdown",
   "id": "6faf57d0",
   "metadata": {},
   "source": [
    "## Imports"
   ]
  },
  {
   "cell_type": "code",
   "execution_count": 1,
   "id": "daa062fd",
   "metadata": {},
   "outputs": [],
   "source": [
    "import numpy as np\n",
    "import pandas as pd\n",
    "import yfinance as yf\n",
    "import os\n",
    "import matplotlib.pyplot as plt\n",
    "import seaborn as sns\n",
    "import time\n",
    "\n",
    "from scipy.stats import spearmanr\n",
    "from talib import RSI, BBANDS, MACD, ATR"
   ]
  },
  {
   "cell_type": "code",
   "execution_count": 2,
   "id": "d6e68830",
   "metadata": {},
   "outputs": [
    {
     "name": "stdout",
     "output_type": "stream",
     "text": [
      "Total tickers: 50\n",
      "['AAPL', 'MSFT', 'NVDA', 'GOOGL', 'GOOG', 'AMZN', 'META', 'TSLA', 'AVGO', 'ORCL', 'CRM', 'ADBE', 'NFLX', 'AMD', 'INTC', 'CSCO', 'QCOM', 'TXN', 'INTU', 'IBM', 'BRK-B', 'JPM', 'V', 'MA', 'BAC', 'WFC', 'GS', 'MS', 'C', 'AXP', 'UNH', 'JNJ', 'PFE', 'ABBV', 'MRK', 'TMO', 'ABT', 'DHR', 'BMY', 'LLY', 'COST', 'PG', 'KO', 'PEP', 'WMT', 'HD', 'MCD', 'DIS', 'NKE', 'SBUX']\n"
     ]
    }
   ],
   "source": [
    "# Top 50 companies by market cap\n",
    "tickers = [\n",
    "    # Technology\n",
    "    'AAPL', 'MSFT', 'NVDA', 'GOOGL', 'GOOG', 'AMZN', 'META', 'TSLA', 'AVGO', 'ORCL',\n",
    "    'CRM', 'ADBE', 'NFLX', 'AMD', 'INTC', 'CSCO', 'QCOM', 'TXN', 'INTU', 'IBM',\n",
    "    \n",
    "    # Financial Services\n",
    "    'BRK-B', 'JPM', 'V', 'MA', 'BAC', 'WFC', 'GS', 'MS', 'C', 'AXP',\n",
    "    \n",
    "    # Healthcare & Pharmaceuticals\n",
    "    'UNH', 'JNJ', 'PFE', 'ABBV', 'MRK', 'TMO', 'ABT', 'DHR', 'BMY', 'LLY',\n",
    "    \n",
    "    # Consumer & Retail\n",
    "    'COST', 'PG', 'KO', 'PEP', 'WMT', 'HD', 'MCD', 'DIS', 'NKE', 'SBUX'\n",
    "]\n",
    "\n",
    "# Clean tickers for yfinance compatibility\n",
    "tickers = [ticker.replace('.', '-') for ticker in tickers]\n",
    "print(f\"Total tickers: {len(tickers)}\")\n",
    "print(tickers)"
   ]
  },
  {
   "cell_type": "code",
   "execution_count": 3,
   "id": "8bc035b0",
   "metadata": {},
   "outputs": [],
   "source": [
    "start_date = '2015-01-01'\n",
    "end_date = '2025-01-01'"
   ]
  },
  {
   "cell_type": "markdown",
   "id": "a0a0b528",
   "metadata": {},
   "source": [
    "The following method is supposed to download data for each ticket."
   ]
  },
  {
   "cell_type": "code",
   "execution_count": 4,
   "id": "8df57d90",
   "metadata": {},
   "outputs": [],
   "source": [
    "def get_data(ticker, start_date, end_date):\n",
    "    data = yf.download(ticker, start_date, end_date)\n",
    "    data[\"Ticker\"] = ticker\n",
    "    return data"
   ]
  },
  {
   "cell_type": "code",
   "execution_count": 5,
   "id": "6e2b982f",
   "metadata": {},
   "outputs": [
    {
     "name": "stdout",
     "output_type": "stream",
     "text": [
      "Processing data for 50 stocks...\n"
     ]
    },
    {
     "name": "stderr",
     "output_type": "stream",
     "text": [
      "/tmp/ipykernel_9373/3049716656.py:2: FutureWarning: YF.download() has changed argument auto_adjust default to True\n",
      "  data = yf.download(ticker, start_date, end_date)\n",
      "[*********************100%***********************]  1 of 1 completed\n"
     ]
    },
    {
     "name": "stdout",
     "output_type": "stream",
     "text": [
      "Processed AAPL data with 2516 rows.\n"
     ]
    },
    {
     "name": "stderr",
     "output_type": "stream",
     "text": [
      "/tmp/ipykernel_9373/3049716656.py:2: FutureWarning: YF.download() has changed argument auto_adjust default to True\n",
      "  data = yf.download(ticker, start_date, end_date)\n",
      "[*********************100%***********************]  1 of 1 completed\n"
     ]
    },
    {
     "name": "stdout",
     "output_type": "stream",
     "text": [
      "Processed MSFT data with 2516 rows.\n"
     ]
    },
    {
     "name": "stderr",
     "output_type": "stream",
     "text": [
      "/tmp/ipykernel_9373/3049716656.py:2: FutureWarning: YF.download() has changed argument auto_adjust default to True\n",
      "  data = yf.download(ticker, start_date, end_date)\n",
      "[*********************100%***********************]  1 of 1 completed\n"
     ]
    },
    {
     "name": "stdout",
     "output_type": "stream",
     "text": [
      "Processed NVDA data with 2516 rows.\n"
     ]
    },
    {
     "name": "stderr",
     "output_type": "stream",
     "text": [
      "/tmp/ipykernel_9373/3049716656.py:2: FutureWarning: YF.download() has changed argument auto_adjust default to True\n",
      "  data = yf.download(ticker, start_date, end_date)\n",
      "[*********************100%***********************]  1 of 1 completed\n"
     ]
    },
    {
     "name": "stdout",
     "output_type": "stream",
     "text": [
      "Processed GOOGL data with 2516 rows.\n"
     ]
    },
    {
     "name": "stderr",
     "output_type": "stream",
     "text": [
      "/tmp/ipykernel_9373/3049716656.py:2: FutureWarning: YF.download() has changed argument auto_adjust default to True\n",
      "  data = yf.download(ticker, start_date, end_date)\n",
      "[*********************100%***********************]  1 of 1 completed\n"
     ]
    },
    {
     "name": "stdout",
     "output_type": "stream",
     "text": [
      "Processed GOOG data with 2516 rows.\n"
     ]
    },
    {
     "name": "stderr",
     "output_type": "stream",
     "text": [
      "/tmp/ipykernel_9373/3049716656.py:2: FutureWarning: YF.download() has changed argument auto_adjust default to True\n",
      "  data = yf.download(ticker, start_date, end_date)\n",
      "[*********************100%***********************]  1 of 1 completed\n"
     ]
    },
    {
     "name": "stdout",
     "output_type": "stream",
     "text": [
      "Processed AMZN data with 2516 rows.\n"
     ]
    },
    {
     "name": "stderr",
     "output_type": "stream",
     "text": [
      "/tmp/ipykernel_9373/3049716656.py:2: FutureWarning: YF.download() has changed argument auto_adjust default to True\n",
      "  data = yf.download(ticker, start_date, end_date)\n",
      "[*********************100%***********************]  1 of 1 completed\n"
     ]
    },
    {
     "name": "stdout",
     "output_type": "stream",
     "text": [
      "Processed META data with 2516 rows.\n"
     ]
    },
    {
     "name": "stderr",
     "output_type": "stream",
     "text": [
      "/tmp/ipykernel_9373/3049716656.py:2: FutureWarning: YF.download() has changed argument auto_adjust default to True\n",
      "  data = yf.download(ticker, start_date, end_date)\n",
      "[*********************100%***********************]  1 of 1 completed\n"
     ]
    },
    {
     "name": "stdout",
     "output_type": "stream",
     "text": [
      "Processed TSLA data with 2516 rows.\n"
     ]
    },
    {
     "name": "stderr",
     "output_type": "stream",
     "text": [
      "/tmp/ipykernel_9373/3049716656.py:2: FutureWarning: YF.download() has changed argument auto_adjust default to True\n",
      "  data = yf.download(ticker, start_date, end_date)\n",
      "[*********************100%***********************]  1 of 1 completed\n"
     ]
    },
    {
     "name": "stdout",
     "output_type": "stream",
     "text": [
      "Processed AVGO data with 2516 rows.\n"
     ]
    },
    {
     "name": "stderr",
     "output_type": "stream",
     "text": [
      "/tmp/ipykernel_9373/3049716656.py:2: FutureWarning: YF.download() has changed argument auto_adjust default to True\n",
      "  data = yf.download(ticker, start_date, end_date)\n",
      "[*********************100%***********************]  1 of 1 completed\n"
     ]
    },
    {
     "name": "stdout",
     "output_type": "stream",
     "text": [
      "Processed ORCL data with 2516 rows.\n"
     ]
    },
    {
     "name": "stderr",
     "output_type": "stream",
     "text": [
      "/tmp/ipykernel_9373/3049716656.py:2: FutureWarning: YF.download() has changed argument auto_adjust default to True\n",
      "  data = yf.download(ticker, start_date, end_date)\n",
      "[*********************100%***********************]  1 of 1 completed\n"
     ]
    },
    {
     "name": "stdout",
     "output_type": "stream",
     "text": [
      "Processed CRM data with 2516 rows.\n"
     ]
    },
    {
     "name": "stderr",
     "output_type": "stream",
     "text": [
      "/tmp/ipykernel_9373/3049716656.py:2: FutureWarning: YF.download() has changed argument auto_adjust default to True\n",
      "  data = yf.download(ticker, start_date, end_date)\n",
      "[*********************100%***********************]  1 of 1 completed\n"
     ]
    },
    {
     "name": "stdout",
     "output_type": "stream",
     "text": [
      "Processed ADBE data with 2516 rows.\n"
     ]
    },
    {
     "name": "stderr",
     "output_type": "stream",
     "text": [
      "/tmp/ipykernel_9373/3049716656.py:2: FutureWarning: YF.download() has changed argument auto_adjust default to True\n",
      "  data = yf.download(ticker, start_date, end_date)\n",
      "[*********************100%***********************]  1 of 1 completed\n"
     ]
    },
    {
     "name": "stdout",
     "output_type": "stream",
     "text": [
      "Processed NFLX data with 2516 rows.\n"
     ]
    },
    {
     "name": "stderr",
     "output_type": "stream",
     "text": [
      "/tmp/ipykernel_9373/3049716656.py:2: FutureWarning: YF.download() has changed argument auto_adjust default to True\n",
      "  data = yf.download(ticker, start_date, end_date)\n",
      "[*********************100%***********************]  1 of 1 completed\n"
     ]
    },
    {
     "name": "stdout",
     "output_type": "stream",
     "text": [
      "Processed AMD data with 2516 rows.\n"
     ]
    },
    {
     "name": "stderr",
     "output_type": "stream",
     "text": [
      "/tmp/ipykernel_9373/3049716656.py:2: FutureWarning: YF.download() has changed argument auto_adjust default to True\n",
      "  data = yf.download(ticker, start_date, end_date)\n",
      "[*********************100%***********************]  1 of 1 completed\n"
     ]
    },
    {
     "name": "stdout",
     "output_type": "stream",
     "text": [
      "Processed INTC data with 2516 rows.\n"
     ]
    },
    {
     "name": "stderr",
     "output_type": "stream",
     "text": [
      "/tmp/ipykernel_9373/3049716656.py:2: FutureWarning: YF.download() has changed argument auto_adjust default to True\n",
      "  data = yf.download(ticker, start_date, end_date)\n",
      "[*********************100%***********************]  1 of 1 completed\n"
     ]
    },
    {
     "name": "stdout",
     "output_type": "stream",
     "text": [
      "Processed CSCO data with 2516 rows.\n"
     ]
    },
    {
     "name": "stderr",
     "output_type": "stream",
     "text": [
      "/tmp/ipykernel_9373/3049716656.py:2: FutureWarning: YF.download() has changed argument auto_adjust default to True\n",
      "  data = yf.download(ticker, start_date, end_date)\n",
      "[*********************100%***********************]  1 of 1 completed\n"
     ]
    },
    {
     "name": "stdout",
     "output_type": "stream",
     "text": [
      "Processed QCOM data with 2516 rows.\n"
     ]
    },
    {
     "name": "stderr",
     "output_type": "stream",
     "text": [
      "/tmp/ipykernel_9373/3049716656.py:2: FutureWarning: YF.download() has changed argument auto_adjust default to True\n",
      "  data = yf.download(ticker, start_date, end_date)\n",
      "[*********************100%***********************]  1 of 1 completed\n"
     ]
    },
    {
     "name": "stdout",
     "output_type": "stream",
     "text": [
      "Processed TXN data with 2516 rows.\n"
     ]
    },
    {
     "name": "stderr",
     "output_type": "stream",
     "text": [
      "/tmp/ipykernel_9373/3049716656.py:2: FutureWarning: YF.download() has changed argument auto_adjust default to True\n",
      "  data = yf.download(ticker, start_date, end_date)\n",
      "[*********************100%***********************]  1 of 1 completed\n"
     ]
    },
    {
     "name": "stdout",
     "output_type": "stream",
     "text": [
      "Processed INTU data with 2516 rows.\n"
     ]
    },
    {
     "name": "stderr",
     "output_type": "stream",
     "text": [
      "/tmp/ipykernel_9373/3049716656.py:2: FutureWarning: YF.download() has changed argument auto_adjust default to True\n",
      "  data = yf.download(ticker, start_date, end_date)\n",
      "[*********************100%***********************]  1 of 1 completed\n"
     ]
    },
    {
     "name": "stdout",
     "output_type": "stream",
     "text": [
      "Processed IBM data with 2516 rows.\n"
     ]
    },
    {
     "name": "stderr",
     "output_type": "stream",
     "text": [
      "/tmp/ipykernel_9373/3049716656.py:2: FutureWarning: YF.download() has changed argument auto_adjust default to True\n",
      "  data = yf.download(ticker, start_date, end_date)\n",
      "[*********************100%***********************]  1 of 1 completed\n"
     ]
    },
    {
     "name": "stdout",
     "output_type": "stream",
     "text": [
      "Processed BRK-B data with 2516 rows.\n"
     ]
    },
    {
     "name": "stderr",
     "output_type": "stream",
     "text": [
      "/tmp/ipykernel_9373/3049716656.py:2: FutureWarning: YF.download() has changed argument auto_adjust default to True\n",
      "  data = yf.download(ticker, start_date, end_date)\n",
      "[*********************100%***********************]  1 of 1 completed\n"
     ]
    },
    {
     "name": "stdout",
     "output_type": "stream",
     "text": [
      "Processed JPM data with 2516 rows.\n"
     ]
    },
    {
     "name": "stderr",
     "output_type": "stream",
     "text": [
      "/tmp/ipykernel_9373/3049716656.py:2: FutureWarning: YF.download() has changed argument auto_adjust default to True\n",
      "  data = yf.download(ticker, start_date, end_date)\n",
      "[*********************100%***********************]  1 of 1 completed\n"
     ]
    },
    {
     "name": "stdout",
     "output_type": "stream",
     "text": [
      "Processed V data with 2516 rows.\n"
     ]
    },
    {
     "name": "stderr",
     "output_type": "stream",
     "text": [
      "/tmp/ipykernel_9373/3049716656.py:2: FutureWarning: YF.download() has changed argument auto_adjust default to True\n",
      "  data = yf.download(ticker, start_date, end_date)\n",
      "[*********************100%***********************]  1 of 1 completed\n"
     ]
    },
    {
     "name": "stdout",
     "output_type": "stream",
     "text": [
      "Processed MA data with 2516 rows.\n"
     ]
    },
    {
     "name": "stderr",
     "output_type": "stream",
     "text": [
      "/tmp/ipykernel_9373/3049716656.py:2: FutureWarning: YF.download() has changed argument auto_adjust default to True\n",
      "  data = yf.download(ticker, start_date, end_date)\n",
      "[*********************100%***********************]  1 of 1 completed\n"
     ]
    },
    {
     "name": "stdout",
     "output_type": "stream",
     "text": [
      "Processed BAC data with 2516 rows.\n"
     ]
    },
    {
     "name": "stderr",
     "output_type": "stream",
     "text": [
      "/tmp/ipykernel_9373/3049716656.py:2: FutureWarning: YF.download() has changed argument auto_adjust default to True\n",
      "  data = yf.download(ticker, start_date, end_date)\n",
      "[*********************100%***********************]  1 of 1 completed\n"
     ]
    },
    {
     "name": "stdout",
     "output_type": "stream",
     "text": [
      "Processed WFC data with 2516 rows.\n"
     ]
    },
    {
     "name": "stderr",
     "output_type": "stream",
     "text": [
      "/tmp/ipykernel_9373/3049716656.py:2: FutureWarning: YF.download() has changed argument auto_adjust default to True\n",
      "  data = yf.download(ticker, start_date, end_date)\n",
      "[*********************100%***********************]  1 of 1 completed\n"
     ]
    },
    {
     "name": "stdout",
     "output_type": "stream",
     "text": [
      "Processed GS data with 2516 rows.\n"
     ]
    },
    {
     "name": "stderr",
     "output_type": "stream",
     "text": [
      "/tmp/ipykernel_9373/3049716656.py:2: FutureWarning: YF.download() has changed argument auto_adjust default to True\n",
      "  data = yf.download(ticker, start_date, end_date)\n",
      "[*********************100%***********************]  1 of 1 completed\n"
     ]
    },
    {
     "name": "stdout",
     "output_type": "stream",
     "text": [
      "Processed MS data with 2516 rows.\n"
     ]
    },
    {
     "name": "stderr",
     "output_type": "stream",
     "text": [
      "/tmp/ipykernel_9373/3049716656.py:2: FutureWarning: YF.download() has changed argument auto_adjust default to True\n",
      "  data = yf.download(ticker, start_date, end_date)\n",
      "[*********************100%***********************]  1 of 1 completed\n"
     ]
    },
    {
     "name": "stdout",
     "output_type": "stream",
     "text": [
      "Processed C data with 2516 rows.\n"
     ]
    },
    {
     "name": "stderr",
     "output_type": "stream",
     "text": [
      "/tmp/ipykernel_9373/3049716656.py:2: FutureWarning: YF.download() has changed argument auto_adjust default to True\n",
      "  data = yf.download(ticker, start_date, end_date)\n",
      "[*********************100%***********************]  1 of 1 completed\n"
     ]
    },
    {
     "name": "stdout",
     "output_type": "stream",
     "text": [
      "Processed AXP data with 2516 rows.\n"
     ]
    },
    {
     "name": "stderr",
     "output_type": "stream",
     "text": [
      "/tmp/ipykernel_9373/3049716656.py:2: FutureWarning: YF.download() has changed argument auto_adjust default to True\n",
      "  data = yf.download(ticker, start_date, end_date)\n",
      "[*********************100%***********************]  1 of 1 completed\n"
     ]
    },
    {
     "name": "stdout",
     "output_type": "stream",
     "text": [
      "Processed UNH data with 2516 rows.\n"
     ]
    },
    {
     "name": "stderr",
     "output_type": "stream",
     "text": [
      "/tmp/ipykernel_9373/3049716656.py:2: FutureWarning: YF.download() has changed argument auto_adjust default to True\n",
      "  data = yf.download(ticker, start_date, end_date)\n",
      "[*********************100%***********************]  1 of 1 completed\n"
     ]
    },
    {
     "name": "stdout",
     "output_type": "stream",
     "text": [
      "Processed JNJ data with 2516 rows.\n"
     ]
    },
    {
     "name": "stderr",
     "output_type": "stream",
     "text": [
      "/tmp/ipykernel_9373/3049716656.py:2: FutureWarning: YF.download() has changed argument auto_adjust default to True\n",
      "  data = yf.download(ticker, start_date, end_date)\n",
      "[*********************100%***********************]  1 of 1 completed\n"
     ]
    },
    {
     "name": "stdout",
     "output_type": "stream",
     "text": [
      "Processed PFE data with 2516 rows.\n"
     ]
    },
    {
     "name": "stderr",
     "output_type": "stream",
     "text": [
      "/tmp/ipykernel_9373/3049716656.py:2: FutureWarning: YF.download() has changed argument auto_adjust default to True\n",
      "  data = yf.download(ticker, start_date, end_date)\n",
      "[*********************100%***********************]  1 of 1 completed\n"
     ]
    },
    {
     "name": "stdout",
     "output_type": "stream",
     "text": [
      "Processed ABBV data with 2516 rows.\n"
     ]
    },
    {
     "name": "stderr",
     "output_type": "stream",
     "text": [
      "/tmp/ipykernel_9373/3049716656.py:2: FutureWarning: YF.download() has changed argument auto_adjust default to True\n",
      "  data = yf.download(ticker, start_date, end_date)\n",
      "[*********************100%***********************]  1 of 1 completed\n"
     ]
    },
    {
     "name": "stdout",
     "output_type": "stream",
     "text": [
      "Processed MRK data with 2516 rows.\n"
     ]
    },
    {
     "name": "stderr",
     "output_type": "stream",
     "text": [
      "/tmp/ipykernel_9373/3049716656.py:2: FutureWarning: YF.download() has changed argument auto_adjust default to True\n",
      "  data = yf.download(ticker, start_date, end_date)\n",
      "[*********************100%***********************]  1 of 1 completed\n"
     ]
    },
    {
     "name": "stdout",
     "output_type": "stream",
     "text": [
      "Processed TMO data with 2516 rows.\n"
     ]
    },
    {
     "name": "stderr",
     "output_type": "stream",
     "text": [
      "/tmp/ipykernel_9373/3049716656.py:2: FutureWarning: YF.download() has changed argument auto_adjust default to True\n",
      "  data = yf.download(ticker, start_date, end_date)\n",
      "[*********************100%***********************]  1 of 1 completed\n"
     ]
    },
    {
     "name": "stdout",
     "output_type": "stream",
     "text": [
      "Processed ABT data with 2516 rows.\n"
     ]
    },
    {
     "name": "stderr",
     "output_type": "stream",
     "text": [
      "/tmp/ipykernel_9373/3049716656.py:2: FutureWarning: YF.download() has changed argument auto_adjust default to True\n",
      "  data = yf.download(ticker, start_date, end_date)\n",
      "[*********************100%***********************]  1 of 1 completed\n"
     ]
    },
    {
     "name": "stdout",
     "output_type": "stream",
     "text": [
      "Processed DHR data with 2516 rows.\n"
     ]
    },
    {
     "name": "stderr",
     "output_type": "stream",
     "text": [
      "/tmp/ipykernel_9373/3049716656.py:2: FutureWarning: YF.download() has changed argument auto_adjust default to True\n",
      "  data = yf.download(ticker, start_date, end_date)\n",
      "[*********************100%***********************]  1 of 1 completed\n"
     ]
    },
    {
     "name": "stdout",
     "output_type": "stream",
     "text": [
      "Processed BMY data with 2516 rows.\n"
     ]
    },
    {
     "name": "stderr",
     "output_type": "stream",
     "text": [
      "/tmp/ipykernel_9373/3049716656.py:2: FutureWarning: YF.download() has changed argument auto_adjust default to True\n",
      "  data = yf.download(ticker, start_date, end_date)\n",
      "[*********************100%***********************]  1 of 1 completed\n"
     ]
    },
    {
     "name": "stdout",
     "output_type": "stream",
     "text": [
      "Processed LLY data with 2516 rows.\n"
     ]
    },
    {
     "name": "stderr",
     "output_type": "stream",
     "text": [
      "/tmp/ipykernel_9373/3049716656.py:2: FutureWarning: YF.download() has changed argument auto_adjust default to True\n",
      "  data = yf.download(ticker, start_date, end_date)\n",
      "[*********************100%***********************]  1 of 1 completed\n"
     ]
    },
    {
     "name": "stdout",
     "output_type": "stream",
     "text": [
      "Processed COST data with 2516 rows.\n"
     ]
    },
    {
     "name": "stderr",
     "output_type": "stream",
     "text": [
      "/tmp/ipykernel_9373/3049716656.py:2: FutureWarning: YF.download() has changed argument auto_adjust default to True\n",
      "  data = yf.download(ticker, start_date, end_date)\n",
      "[*********************100%***********************]  1 of 1 completed\n"
     ]
    },
    {
     "name": "stdout",
     "output_type": "stream",
     "text": [
      "Processed PG data with 2516 rows.\n"
     ]
    },
    {
     "name": "stderr",
     "output_type": "stream",
     "text": [
      "/tmp/ipykernel_9373/3049716656.py:2: FutureWarning: YF.download() has changed argument auto_adjust default to True\n",
      "  data = yf.download(ticker, start_date, end_date)\n",
      "[*********************100%***********************]  1 of 1 completed\n"
     ]
    },
    {
     "name": "stdout",
     "output_type": "stream",
     "text": [
      "Processed KO data with 2516 rows.\n"
     ]
    },
    {
     "name": "stderr",
     "output_type": "stream",
     "text": [
      "/tmp/ipykernel_9373/3049716656.py:2: FutureWarning: YF.download() has changed argument auto_adjust default to True\n",
      "  data = yf.download(ticker, start_date, end_date)\n",
      "[*********************100%***********************]  1 of 1 completed\n"
     ]
    },
    {
     "name": "stdout",
     "output_type": "stream",
     "text": [
      "Processed PEP data with 2516 rows.\n"
     ]
    },
    {
     "name": "stderr",
     "output_type": "stream",
     "text": [
      "/tmp/ipykernel_9373/3049716656.py:2: FutureWarning: YF.download() has changed argument auto_adjust default to True\n",
      "  data = yf.download(ticker, start_date, end_date)\n",
      "[*********************100%***********************]  1 of 1 completed\n"
     ]
    },
    {
     "name": "stdout",
     "output_type": "stream",
     "text": [
      "Processed WMT data with 2516 rows.\n"
     ]
    },
    {
     "name": "stderr",
     "output_type": "stream",
     "text": [
      "/tmp/ipykernel_9373/3049716656.py:2: FutureWarning: YF.download() has changed argument auto_adjust default to True\n",
      "  data = yf.download(ticker, start_date, end_date)\n",
      "[*********************100%***********************]  1 of 1 completed\n"
     ]
    },
    {
     "name": "stdout",
     "output_type": "stream",
     "text": [
      "Processed HD data with 2516 rows.\n"
     ]
    },
    {
     "name": "stderr",
     "output_type": "stream",
     "text": [
      "/tmp/ipykernel_9373/3049716656.py:2: FutureWarning: YF.download() has changed argument auto_adjust default to True\n",
      "  data = yf.download(ticker, start_date, end_date)\n",
      "[*********************100%***********************]  1 of 1 completed\n"
     ]
    },
    {
     "name": "stdout",
     "output_type": "stream",
     "text": [
      "Processed MCD data with 2516 rows.\n"
     ]
    },
    {
     "name": "stderr",
     "output_type": "stream",
     "text": [
      "/tmp/ipykernel_9373/3049716656.py:2: FutureWarning: YF.download() has changed argument auto_adjust default to True\n",
      "  data = yf.download(ticker, start_date, end_date)\n",
      "[*********************100%***********************]  1 of 1 completed\n"
     ]
    },
    {
     "name": "stdout",
     "output_type": "stream",
     "text": [
      "Processed DIS data with 2516 rows.\n"
     ]
    },
    {
     "name": "stderr",
     "output_type": "stream",
     "text": [
      "/tmp/ipykernel_9373/3049716656.py:2: FutureWarning: YF.download() has changed argument auto_adjust default to True\n",
      "  data = yf.download(ticker, start_date, end_date)\n",
      "[*********************100%***********************]  1 of 1 completed\n"
     ]
    },
    {
     "name": "stdout",
     "output_type": "stream",
     "text": [
      "Processed NKE data with 2516 rows.\n"
     ]
    },
    {
     "name": "stderr",
     "output_type": "stream",
     "text": [
      "/tmp/ipykernel_9373/3049716656.py:2: FutureWarning: YF.download() has changed argument auto_adjust default to True\n",
      "  data = yf.download(ticker, start_date, end_date)\n",
      "[*********************100%***********************]  1 of 1 completed\n"
     ]
    },
    {
     "name": "stdout",
     "output_type": "stream",
     "text": [
      "Processed SBUX data with 2516 rows.\n"
     ]
    }
   ],
   "source": [
    "os.makedirs(\"data\", exist_ok=True)\n",
    "\n",
    "print(f\"Processing data for {len(tickers)} stocks...\")\n",
    "for ticker in tickers:\n",
    "    try:\n",
    "        # Get enhanced data for this stock\n",
    "        stock_data = get_data(ticker, start_date, end_date)\n",
    "        \n",
    "        # Reset index to make Date a column\n",
    "        stock_data = stock_data.reset_index()\n",
    "\n",
    "        print(f\"Processed {ticker} data with {len(stock_data)} rows.\")\n",
    "        \n",
    "        # Save individual stock data\n",
    "        stock_data.to_csv(f\"data/{ticker}.csv\", index=False)\n",
    "        \n",
    "        # Add a small delay to avoid hitting API limits\n",
    "        time.sleep(2)\n",
    "\n",
    "    except Exception as e:\n",
    "        print(f\"Error processing {ticker}: {str(e)}\")"
   ]
  },
  {
   "cell_type": "markdown",
   "id": "957b86e2",
   "metadata": {},
   "source": [
    "Let us analyze how does the dataframe for one stock look like."
   ]
  },
  {
   "cell_type": "code",
   "execution_count": 6,
   "id": "874b67d1",
   "metadata": {},
   "outputs": [
    {
     "data": {
      "text/plain": [
       "['MCD.csv',\n",
       " 'ABBV.csv',\n",
       " 'SBUX.csv',\n",
       " 'CSCO.csv',\n",
       " 'WMT.csv',\n",
       " 'DHR.csv',\n",
       " 'UNH.csv',\n",
       " 'MSFT.csv',\n",
       " 'AVGO.csv',\n",
       " 'BRK-B.csv',\n",
       " 'BAC.csv',\n",
       " 'ABT.csv',\n",
       " 'AMZN.csv',\n",
       " 'QCOM.csv',\n",
       " 'IBM.csv',\n",
       " 'GOOGL.csv',\n",
       " 'JNJ.csv',\n",
       " 'NFLX.csv',\n",
       " 'ORCL.csv',\n",
       " 'NVDA.csv',\n",
       " 'BMY.csv',\n",
       " 'META.csv',\n",
       " 'INTC.csv',\n",
       " 'JPM.csv',\n",
       " 'DIS.csv',\n",
       " 'C.csv',\n",
       " 'WFC.csv',\n",
       " 'TSLA.csv',\n",
       " 'GS.csv',\n",
       " 'MS.csv',\n",
       " 'MA.csv',\n",
       " 'MRK.csv',\n",
       " 'NKE.csv',\n",
       " 'GOOG.csv',\n",
       " 'AMD.csv',\n",
       " 'TXN.csv',\n",
       " 'KO.csv',\n",
       " 'TMO.csv',\n",
       " 'PFE.csv',\n",
       " 'HD.csv',\n",
       " 'COST.csv',\n",
       " 'PEP.csv',\n",
       " 'AAPL.csv',\n",
       " 'LLY.csv',\n",
       " 'CRM.csv',\n",
       " 'AXP.csv',\n",
       " 'INTU.csv',\n",
       " 'ADBE.csv',\n",
       " 'PG.csv',\n",
       " 'V.csv']"
      ]
     },
     "execution_count": 6,
     "metadata": {},
     "output_type": "execute_result"
    }
   ],
   "source": [
    "files = os.listdir('data') # List of files in the data directory\n",
    "files"
   ]
  },
  {
   "cell_type": "code",
   "execution_count": 7,
   "id": "52962e5f",
   "metadata": {},
   "outputs": [],
   "source": [
    "example_file = 'MSFT.csv'\n",
    "example_file_path = os.path.join('data', example_file)"
   ]
  },
  {
   "cell_type": "code",
   "execution_count": 8,
   "id": "a6cd8341",
   "metadata": {},
   "outputs": [
    {
     "data": {
      "text/html": [
       "<div>\n",
       "<style scoped>\n",
       "    .dataframe tbody tr th:only-of-type {\n",
       "        vertical-align: middle;\n",
       "    }\n",
       "\n",
       "    .dataframe tbody tr th {\n",
       "        vertical-align: top;\n",
       "    }\n",
       "\n",
       "    .dataframe thead th {\n",
       "        text-align: right;\n",
       "    }\n",
       "</style>\n",
       "<table border=\"1\" class=\"dataframe\">\n",
       "  <thead>\n",
       "    <tr style=\"text-align: right;\">\n",
       "      <th></th>\n",
       "      <th>Date</th>\n",
       "      <th>Close</th>\n",
       "      <th>High</th>\n",
       "      <th>Low</th>\n",
       "      <th>Open</th>\n",
       "      <th>Volume</th>\n",
       "      <th>Ticker</th>\n",
       "    </tr>\n",
       "  </thead>\n",
       "  <tbody>\n",
       "    <tr>\n",
       "      <th>0</th>\n",
       "      <td>NaN</td>\n",
       "      <td>MSFT</td>\n",
       "      <td>MSFT</td>\n",
       "      <td>MSFT</td>\n",
       "      <td>MSFT</td>\n",
       "      <td>MSFT</td>\n",
       "      <td>NaN</td>\n",
       "    </tr>\n",
       "    <tr>\n",
       "      <th>1</th>\n",
       "      <td>2015-01-02</td>\n",
       "      <td>39.99870300292969</td>\n",
       "      <td>40.563269701522984</td>\n",
       "      <td>39.81051627880419</td>\n",
       "      <td>39.91316387951886</td>\n",
       "      <td>27913900</td>\n",
       "      <td>MSFT</td>\n",
       "    </tr>\n",
       "    <tr>\n",
       "      <th>2</th>\n",
       "      <td>2015-01-05</td>\n",
       "      <td>39.630882263183594</td>\n",
       "      <td>39.973042020810816</td>\n",
       "      <td>39.56244835379311</td>\n",
       "      <td>39.665095954770436</td>\n",
       "      <td>39673900</td>\n",
       "      <td>MSFT</td>\n",
       "    </tr>\n",
       "    <tr>\n",
       "      <th>3</th>\n",
       "      <td>2015-01-06</td>\n",
       "      <td>39.04921340942383</td>\n",
       "      <td>39.990156974160506</td>\n",
       "      <td>38.955118400328374</td>\n",
       "      <td>39.673658249746744</td>\n",
       "      <td>36447900</td>\n",
       "      <td>MSFT</td>\n",
       "    </tr>\n",
       "    <tr>\n",
       "      <th>4</th>\n",
       "      <td>2015-01-07</td>\n",
       "      <td>39.54534149169922</td>\n",
       "      <td>39.74208409457034</td>\n",
       "      <td>38.91234411952407</td>\n",
       "      <td>39.331490410781676</td>\n",
       "      <td>29114100</td>\n",
       "      <td>MSFT</td>\n",
       "    </tr>\n",
       "  </tbody>\n",
       "</table>\n",
       "</div>"
      ],
      "text/plain": [
       "         Date               Close                High                 Low  \\\n",
       "0         NaN                MSFT                MSFT                MSFT   \n",
       "1  2015-01-02   39.99870300292969  40.563269701522984   39.81051627880419   \n",
       "2  2015-01-05  39.630882263183594  39.973042020810816   39.56244835379311   \n",
       "3  2015-01-06   39.04921340942383  39.990156974160506  38.955118400328374   \n",
       "4  2015-01-07   39.54534149169922   39.74208409457034   38.91234411952407   \n",
       "\n",
       "                 Open    Volume Ticker  \n",
       "0                MSFT      MSFT    NaN  \n",
       "1   39.91316387951886  27913900   MSFT  \n",
       "2  39.665095954770436  39673900   MSFT  \n",
       "3  39.673658249746744  36447900   MSFT  \n",
       "4  39.331490410781676  29114100   MSFT  "
      ]
     },
     "execution_count": 8,
     "metadata": {},
     "output_type": "execute_result"
    }
   ],
   "source": [
    "msft_data = pd.read_csv(example_file_path)\n",
    "msft_data.head()"
   ]
  },
  {
   "cell_type": "markdown",
   "id": "5566d377",
   "metadata": {},
   "source": [
    "As we see, there is a redundant second row(row with index 0), and moreover there is redundant indexes in the dataframe. We want to get rid of them and concatenate dataframes.  "
   ]
  },
  {
   "cell_type": "code",
   "execution_count": 9,
   "id": "917b6e52",
   "metadata": {},
   "outputs": [],
   "source": [
    "dataframes = []\n",
    "for file in files:\n",
    "    file_path = os.path.join('data', file)     \n",
    "    stock_data = pd.read_csv(file_path)\n",
    "    stock_data.drop([0], inplace=True) # Drop row with index 0\n",
    "    dataframes.append(stock_data)\n",
    "if dataframes:\n",
    "    data = pd.concat(dataframes, ignore_index=True)"
   ]
  },
  {
   "cell_type": "code",
   "execution_count": 10,
   "id": "2ed73ad2",
   "metadata": {},
   "outputs": [
    {
     "data": {
      "text/html": [
       "<div>\n",
       "<style scoped>\n",
       "    .dataframe tbody tr th:only-of-type {\n",
       "        vertical-align: middle;\n",
       "    }\n",
       "\n",
       "    .dataframe tbody tr th {\n",
       "        vertical-align: top;\n",
       "    }\n",
       "\n",
       "    .dataframe thead th {\n",
       "        text-align: right;\n",
       "    }\n",
       "</style>\n",
       "<table border=\"1\" class=\"dataframe\">\n",
       "  <thead>\n",
       "    <tr style=\"text-align: right;\">\n",
       "      <th></th>\n",
       "      <th>Date</th>\n",
       "      <th>Close</th>\n",
       "      <th>High</th>\n",
       "      <th>Low</th>\n",
       "      <th>Open</th>\n",
       "      <th>Volume</th>\n",
       "      <th>Ticker</th>\n",
       "    </tr>\n",
       "  </thead>\n",
       "  <tbody>\n",
       "    <tr>\n",
       "      <th>0</th>\n",
       "      <td>2015-01-02</td>\n",
       "      <td>71.4981689453125</td>\n",
       "      <td>72.83214555241732</td>\n",
       "      <td>71.33717227282632</td>\n",
       "      <td>72.16515432431137</td>\n",
       "      <td>6019700</td>\n",
       "      <td>MCD</td>\n",
       "    </tr>\n",
       "    <tr>\n",
       "      <th>1</th>\n",
       "      <td>2015-01-05</td>\n",
       "      <td>70.70852661132812</td>\n",
       "      <td>71.82017297443562</td>\n",
       "      <td>70.70085843080031</td>\n",
       "      <td>71.52884645456604</td>\n",
       "      <td>6211900</td>\n",
       "      <td>MCD</td>\n",
       "    </tr>\n",
       "    <tr>\n",
       "      <th>2</th>\n",
       "      <td>2015-01-06</td>\n",
       "      <td>70.83882904052734</td>\n",
       "      <td>71.9198081126038</td>\n",
       "      <td>70.44016569476011</td>\n",
       "      <td>71.0458230418677</td>\n",
       "      <td>6484100</td>\n",
       "      <td>MCD</td>\n",
       "    </tr>\n",
       "    <tr>\n",
       "      <th>3</th>\n",
       "      <td>2015-01-07</td>\n",
       "      <td>72.07316589355469</td>\n",
       "      <td>72.10383276468738</td>\n",
       "      <td>71.19151235808935</td>\n",
       "      <td>71.49817522030872</td>\n",
       "      <td>6400300</td>\n",
       "      <td>MCD</td>\n",
       "    </tr>\n",
       "    <tr>\n",
       "      <th>4</th>\n",
       "      <td>2015-01-08</td>\n",
       "      <td>72.34149932861328</td>\n",
       "      <td>72.816827094462</td>\n",
       "      <td>72.10383837024294</td>\n",
       "      <td>72.24183637651463</td>\n",
       "      <td>5476700</td>\n",
       "      <td>MCD</td>\n",
       "    </tr>\n",
       "    <tr>\n",
       "      <th>...</th>\n",
       "      <td>...</td>\n",
       "      <td>...</td>\n",
       "      <td>...</td>\n",
       "      <td>...</td>\n",
       "      <td>...</td>\n",
       "      <td>...</td>\n",
       "      <td>...</td>\n",
       "    </tr>\n",
       "    <tr>\n",
       "      <th>125795</th>\n",
       "      <td>2024-12-24</td>\n",
       "      <td>319.5805969238281</td>\n",
       "      <td>320.4676432922445</td>\n",
       "      <td>316.2218410476972</td>\n",
       "      <td>317.10888741611353</td>\n",
       "      <td>2684100</td>\n",
       "      <td>V</td>\n",
       "    </tr>\n",
       "    <tr>\n",
       "      <th>125796</th>\n",
       "      <td>2024-12-26</td>\n",
       "      <td>319.8397521972656</td>\n",
       "      <td>320.37795978575224</td>\n",
       "      <td>318.3945758559628</td>\n",
       "      <td>318.70353955666053</td>\n",
       "      <td>2856000</td>\n",
       "      <td>V</td>\n",
       "    </tr>\n",
       "    <tr>\n",
       "      <th>125797</th>\n",
       "      <td>2024-12-27</td>\n",
       "      <td>317.59722900390625</td>\n",
       "      <td>320.4277535659147</td>\n",
       "      <td>316.5008915710655</td>\n",
       "      <td>318.20517997096465</td>\n",
       "      <td>3489200</td>\n",
       "      <td>V</td>\n",
       "    </tr>\n",
       "    <tr>\n",
       "      <th>125798</th>\n",
       "      <td>2024-12-30</td>\n",
       "      <td>314.2584228515625</td>\n",
       "      <td>316.0524075946733</td>\n",
       "      <td>312.1853731391722</td>\n",
       "      <td>313.6305190667336</td>\n",
       "      <td>3478500</td>\n",
       "      <td>V</td>\n",
       "    </tr>\n",
       "    <tr>\n",
       "      <th>125799</th>\n",
       "      <td>2024-12-31</td>\n",
       "      <td>314.9859924316406</td>\n",
       "      <td>316.600584748832</td>\n",
       "      <td>314.1388211594921</td>\n",
       "      <td>315.06571224294646</td>\n",
       "      <td>3963800</td>\n",
       "      <td>V</td>\n",
       "    </tr>\n",
       "  </tbody>\n",
       "</table>\n",
       "<p>125800 rows × 7 columns</p>\n",
       "</div>"
      ],
      "text/plain": [
       "              Date               Close                High                Low  \\\n",
       "0       2015-01-02    71.4981689453125   72.83214555241732  71.33717227282632   \n",
       "1       2015-01-05   70.70852661132812   71.82017297443562  70.70085843080031   \n",
       "2       2015-01-06   70.83882904052734    71.9198081126038  70.44016569476011   \n",
       "3       2015-01-07   72.07316589355469   72.10383276468738  71.19151235808935   \n",
       "4       2015-01-08   72.34149932861328     72.816827094462  72.10383837024294   \n",
       "...            ...                 ...                 ...                ...   \n",
       "125795  2024-12-24   319.5805969238281   320.4676432922445  316.2218410476972   \n",
       "125796  2024-12-26   319.8397521972656  320.37795978575224  318.3945758559628   \n",
       "125797  2024-12-27  317.59722900390625   320.4277535659147  316.5008915710655   \n",
       "125798  2024-12-30   314.2584228515625   316.0524075946733  312.1853731391722   \n",
       "125799  2024-12-31   314.9859924316406    316.600584748832  314.1388211594921   \n",
       "\n",
       "                      Open   Volume Ticker  \n",
       "0        72.16515432431137  6019700    MCD  \n",
       "1        71.52884645456604  6211900    MCD  \n",
       "2         71.0458230418677  6484100    MCD  \n",
       "3        71.49817522030872  6400300    MCD  \n",
       "4        72.24183637651463  5476700    MCD  \n",
       "...                    ...      ...    ...  \n",
       "125795  317.10888741611353  2684100      V  \n",
       "125796  318.70353955666053  2856000      V  \n",
       "125797  318.20517997096465  3489200      V  \n",
       "125798   313.6305190667336  3478500      V  \n",
       "125799  315.06571224294646  3963800      V  \n",
       "\n",
       "[125800 rows x 7 columns]"
      ]
     },
     "execution_count": 10,
     "metadata": {},
     "output_type": "execute_result"
    }
   ],
   "source": [
    "data"
   ]
  },
  {
   "cell_type": "code",
   "execution_count": 11,
   "id": "14aac889",
   "metadata": {},
   "outputs": [
    {
     "data": {
      "text/plain": [
       "Date      object\n",
       "Close     object\n",
       "High      object\n",
       "Low       object\n",
       "Open      object\n",
       "Volume    object\n",
       "Ticker    object\n",
       "dtype: object"
      ]
     },
     "execution_count": 11,
     "metadata": {},
     "output_type": "execute_result"
    }
   ],
   "source": [
    "data.dtypes"
   ]
  },
  {
   "cell_type": "markdown",
   "id": "07899825",
   "metadata": {},
   "source": [
    "The columns should be converted into appropriate datatype. "
   ]
  },
  {
   "cell_type": "code",
   "execution_count": 12,
   "id": "5f75a1a3",
   "metadata": {},
   "outputs": [],
   "source": [
    "data['Date'] = pd.to_datetime(data['Date'])\n",
    "numeric_columns = ['Close', 'High', 'Low', 'Open', 'Volume']\n",
    "for col in numeric_columns:\n",
    "    data[col] = pd.to_numeric(data[col], errors='coerce')"
   ]
  },
  {
   "cell_type": "code",
   "execution_count": 13,
   "id": "317e05db",
   "metadata": {},
   "outputs": [
    {
     "data": {
      "text/plain": [
       "Date      datetime64[ns]\n",
       "Close            float64\n",
       "High             float64\n",
       "Low              float64\n",
       "Open             float64\n",
       "Volume             int64\n",
       "Ticker            object\n",
       "dtype: object"
      ]
     },
     "execution_count": 13,
     "metadata": {},
     "output_type": "execute_result"
    }
   ],
   "source": [
    "data.dtypes"
   ]
  },
  {
   "cell_type": "code",
   "execution_count": 14,
   "id": "88539f7e",
   "metadata": {},
   "outputs": [],
   "source": [
    "data.columns = data.columns.map(lambda x: x.lower())"
   ]
  },
  {
   "cell_type": "markdown",
   "id": "3baece59",
   "metadata": {},
   "source": [
    "#### Compute Rolling Average Dollar Volume"
   ]
  },
  {
   "cell_type": "code",
   "execution_count": 15,
   "id": "a4d193db",
   "metadata": {},
   "outputs": [],
   "source": [
    "data['dollar_vol'] = data[['close', 'volume']].prod(axis=1)"
   ]
  },
  {
   "cell_type": "code",
   "execution_count": 16,
   "id": "d9826605",
   "metadata": {},
   "outputs": [
    {
     "data": {
      "text/html": [
       "<div>\n",
       "<style scoped>\n",
       "    .dataframe tbody tr th:only-of-type {\n",
       "        vertical-align: middle;\n",
       "    }\n",
       "\n",
       "    .dataframe tbody tr th {\n",
       "        vertical-align: top;\n",
       "    }\n",
       "\n",
       "    .dataframe thead th {\n",
       "        text-align: right;\n",
       "    }\n",
       "</style>\n",
       "<table border=\"1\" class=\"dataframe\">\n",
       "  <thead>\n",
       "    <tr style=\"text-align: right;\">\n",
       "      <th></th>\n",
       "      <th>date</th>\n",
       "      <th>close</th>\n",
       "      <th>high</th>\n",
       "      <th>low</th>\n",
       "      <th>open</th>\n",
       "      <th>volume</th>\n",
       "      <th>ticker</th>\n",
       "      <th>dollar_vol</th>\n",
       "    </tr>\n",
       "  </thead>\n",
       "  <tbody>\n",
       "    <tr>\n",
       "      <th>0</th>\n",
       "      <td>2015-01-02</td>\n",
       "      <td>71.498169</td>\n",
       "      <td>72.832146</td>\n",
       "      <td>71.337172</td>\n",
       "      <td>72.165154</td>\n",
       "      <td>6019700</td>\n",
       "      <td>MCD</td>\n",
       "      <td>4.303975e+08</td>\n",
       "    </tr>\n",
       "    <tr>\n",
       "      <th>1</th>\n",
       "      <td>2015-01-05</td>\n",
       "      <td>70.708527</td>\n",
       "      <td>71.820173</td>\n",
       "      <td>70.700858</td>\n",
       "      <td>71.528846</td>\n",
       "      <td>6211900</td>\n",
       "      <td>MCD</td>\n",
       "      <td>4.392343e+08</td>\n",
       "    </tr>\n",
       "    <tr>\n",
       "      <th>2</th>\n",
       "      <td>2015-01-06</td>\n",
       "      <td>70.838829</td>\n",
       "      <td>71.919808</td>\n",
       "      <td>70.440166</td>\n",
       "      <td>71.045823</td>\n",
       "      <td>6484100</td>\n",
       "      <td>MCD</td>\n",
       "      <td>4.593261e+08</td>\n",
       "    </tr>\n",
       "    <tr>\n",
       "      <th>3</th>\n",
       "      <td>2015-01-07</td>\n",
       "      <td>72.073166</td>\n",
       "      <td>72.103833</td>\n",
       "      <td>71.191512</td>\n",
       "      <td>71.498175</td>\n",
       "      <td>6400300</td>\n",
       "      <td>MCD</td>\n",
       "      <td>4.612899e+08</td>\n",
       "    </tr>\n",
       "    <tr>\n",
       "      <th>4</th>\n",
       "      <td>2015-01-08</td>\n",
       "      <td>72.341499</td>\n",
       "      <td>72.816827</td>\n",
       "      <td>72.103838</td>\n",
       "      <td>72.241836</td>\n",
       "      <td>5476700</td>\n",
       "      <td>MCD</td>\n",
       "      <td>3.961927e+08</td>\n",
       "    </tr>\n",
       "    <tr>\n",
       "      <th>...</th>\n",
       "      <td>...</td>\n",
       "      <td>...</td>\n",
       "      <td>...</td>\n",
       "      <td>...</td>\n",
       "      <td>...</td>\n",
       "      <td>...</td>\n",
       "      <td>...</td>\n",
       "      <td>...</td>\n",
       "    </tr>\n",
       "    <tr>\n",
       "      <th>125795</th>\n",
       "      <td>2024-12-24</td>\n",
       "      <td>319.580597</td>\n",
       "      <td>320.467643</td>\n",
       "      <td>316.221841</td>\n",
       "      <td>317.108887</td>\n",
       "      <td>2684100</td>\n",
       "      <td>V</td>\n",
       "      <td>8.577863e+08</td>\n",
       "    </tr>\n",
       "    <tr>\n",
       "      <th>125796</th>\n",
       "      <td>2024-12-26</td>\n",
       "      <td>319.839752</td>\n",
       "      <td>320.377960</td>\n",
       "      <td>318.394576</td>\n",
       "      <td>318.703540</td>\n",
       "      <td>2856000</td>\n",
       "      <td>V</td>\n",
       "      <td>9.134623e+08</td>\n",
       "    </tr>\n",
       "    <tr>\n",
       "      <th>125797</th>\n",
       "      <td>2024-12-27</td>\n",
       "      <td>317.597229</td>\n",
       "      <td>320.427754</td>\n",
       "      <td>316.500892</td>\n",
       "      <td>318.205180</td>\n",
       "      <td>3489200</td>\n",
       "      <td>V</td>\n",
       "      <td>1.108160e+09</td>\n",
       "    </tr>\n",
       "    <tr>\n",
       "      <th>125798</th>\n",
       "      <td>2024-12-30</td>\n",
       "      <td>314.258423</td>\n",
       "      <td>316.052408</td>\n",
       "      <td>312.185373</td>\n",
       "      <td>313.630519</td>\n",
       "      <td>3478500</td>\n",
       "      <td>V</td>\n",
       "      <td>1.093148e+09</td>\n",
       "    </tr>\n",
       "    <tr>\n",
       "      <th>125799</th>\n",
       "      <td>2024-12-31</td>\n",
       "      <td>314.985992</td>\n",
       "      <td>316.600585</td>\n",
       "      <td>314.138821</td>\n",
       "      <td>315.065712</td>\n",
       "      <td>3963800</td>\n",
       "      <td>V</td>\n",
       "      <td>1.248541e+09</td>\n",
       "    </tr>\n",
       "  </tbody>\n",
       "</table>\n",
       "<p>125800 rows × 8 columns</p>\n",
       "</div>"
      ],
      "text/plain": [
       "             date       close        high         low        open   volume  \\\n",
       "0      2015-01-02   71.498169   72.832146   71.337172   72.165154  6019700   \n",
       "1      2015-01-05   70.708527   71.820173   70.700858   71.528846  6211900   \n",
       "2      2015-01-06   70.838829   71.919808   70.440166   71.045823  6484100   \n",
       "3      2015-01-07   72.073166   72.103833   71.191512   71.498175  6400300   \n",
       "4      2015-01-08   72.341499   72.816827   72.103838   72.241836  5476700   \n",
       "...           ...         ...         ...         ...         ...      ...   \n",
       "125795 2024-12-24  319.580597  320.467643  316.221841  317.108887  2684100   \n",
       "125796 2024-12-26  319.839752  320.377960  318.394576  318.703540  2856000   \n",
       "125797 2024-12-27  317.597229  320.427754  316.500892  318.205180  3489200   \n",
       "125798 2024-12-30  314.258423  316.052408  312.185373  313.630519  3478500   \n",
       "125799 2024-12-31  314.985992  316.600585  314.138821  315.065712  3963800   \n",
       "\n",
       "       ticker    dollar_vol  \n",
       "0         MCD  4.303975e+08  \n",
       "1         MCD  4.392343e+08  \n",
       "2         MCD  4.593261e+08  \n",
       "3         MCD  4.612899e+08  \n",
       "4         MCD  3.961927e+08  \n",
       "...       ...           ...  \n",
       "125795      V  8.577863e+08  \n",
       "125796      V  9.134623e+08  \n",
       "125797      V  1.108160e+09  \n",
       "125798      V  1.093148e+09  \n",
       "125799      V  1.248541e+09  \n",
       "\n",
       "[125800 rows x 8 columns]"
      ]
     },
     "execution_count": 16,
     "metadata": {},
     "output_type": "execute_result"
    }
   ],
   "source": [
    "data"
   ]
  },
  {
   "cell_type": "code",
   "execution_count": 17,
   "id": "87a72792",
   "metadata": {},
   "outputs": [],
   "source": [
    "data['dollar_vol_1m'] = (data.groupby('ticker')['dollar_vol']\n",
    "                           .rolling(window=21)\n",
    "                           .mean()).values"
   ]
  },
  {
   "cell_type": "code",
   "execution_count": 18,
   "id": "f64578e1",
   "metadata": {},
   "outputs": [
    {
     "name": "stdout",
     "output_type": "stream",
     "text": [
      "<class 'pandas.core.frame.DataFrame'>\n",
      "RangeIndex: 125800 entries, 0 to 125799\n",
      "Data columns (total 9 columns):\n",
      " #   Column         Non-Null Count   Dtype         \n",
      "---  ------         --------------   -----         \n",
      " 0   date           125800 non-null  datetime64[ns]\n",
      " 1   close          125800 non-null  float64       \n",
      " 2   high           125800 non-null  float64       \n",
      " 3   low            125800 non-null  float64       \n",
      " 4   open           125800 non-null  float64       \n",
      " 5   volume         125800 non-null  int64         \n",
      " 6   ticker         125800 non-null  object        \n",
      " 7   dollar_vol     125800 non-null  float64       \n",
      " 8   dollar_vol_1m  124800 non-null  float64       \n",
      "dtypes: datetime64[ns](1), float64(6), int64(1), object(1)\n",
      "memory usage: 8.6+ MB\n"
     ]
    }
   ],
   "source": [
    "data.info(show_counts=True)"
   ]
  },
  {
   "cell_type": "code",
   "execution_count": 19,
   "id": "2c53e856",
   "metadata": {},
   "outputs": [],
   "source": [
    "data['dollar_vol_rank'] = (data.groupby('date')\n",
    "                             .dollar_vol_1m\n",
    "                             .rank(ascending=False))"
   ]
  },
  {
   "cell_type": "code",
   "execution_count": 20,
   "id": "f931f9c5",
   "metadata": {},
   "outputs": [
    {
     "name": "stdout",
     "output_type": "stream",
     "text": [
      "<class 'pandas.core.frame.DataFrame'>\n",
      "RangeIndex: 125800 entries, 0 to 125799\n",
      "Data columns (total 10 columns):\n",
      " #   Column           Non-Null Count   Dtype         \n",
      "---  ------           --------------   -----         \n",
      " 0   date             125800 non-null  datetime64[ns]\n",
      " 1   close            125800 non-null  float64       \n",
      " 2   high             125800 non-null  float64       \n",
      " 3   low              125800 non-null  float64       \n",
      " 4   open             125800 non-null  float64       \n",
      " 5   volume           125800 non-null  int64         \n",
      " 6   ticker           125800 non-null  object        \n",
      " 7   dollar_vol       125800 non-null  float64       \n",
      " 8   dollar_vol_1m    124800 non-null  float64       \n",
      " 9   dollar_vol_rank  124800 non-null  float64       \n",
      "dtypes: datetime64[ns](1), float64(7), int64(1), object(1)\n",
      "memory usage: 9.6+ MB\n"
     ]
    }
   ],
   "source": [
    "data.info(show_counts=True)"
   ]
  },
  {
   "cell_type": "markdown",
   "id": "56ac9611",
   "metadata": {},
   "source": [
    "### Add some Basic Factors"
   ]
  },
  {
   "cell_type": "markdown",
   "id": "7b55f5d5",
   "metadata": {},
   "source": [
    "### Compute the Relative Strength Index"
   ]
  },
  {
   "cell_type": "code",
   "execution_count": 21,
   "id": "f118a2d1",
   "metadata": {},
   "outputs": [],
   "source": [
    "data['rsi'] = data.groupby('ticker')['close'].transform(RSI)"
   ]
  },
  {
   "cell_type": "markdown",
   "id": "d835f4d6",
   "metadata": {},
   "source": [
    "### Compute Bollinger Bands"
   ]
  },
  {
   "cell_type": "code",
   "execution_count": 22,
   "id": "17a02728",
   "metadata": {},
   "outputs": [],
   "source": [
    "def compute_bb(close_prices):\n",
    "    \"\"\"\n",
    "    Compute Bollinger Bands for a single ticker's close prices\n",
    "    Returns a DataFrame with bb_high and bb_low columns\n",
    "    \"\"\"\n",
    "    high, mid, low = BBANDS(close_prices, timeperiod=20)\n",
    "    return pd.DataFrame({\n",
    "        'bb_high': high, \n",
    "        'bb_low': low\n",
    "    }, index=close_prices.index)"
   ]
  },
  {
   "cell_type": "code",
   "execution_count": 23,
   "id": "1175e91d",
   "metadata": {},
   "outputs": [],
   "source": [
    "bb_results = data.groupby('ticker')['close'].apply(compute_bb)\n",
    "bb_results = bb_results.reset_index(level=0, drop=True) # Reset index to align with original data\n",
    "data = data.join(bb_results)"
   ]
  },
  {
   "cell_type": "code",
   "execution_count": 24,
   "id": "0c7f2245",
   "metadata": {},
   "outputs": [],
   "source": [
    "data['bb_high'] = data['bb_high'].sub(data['close']).div(data['bb_high']).apply(np.log1p)\n",
    "data['bb_low'] = data['close'].sub(data['bb_low']).div(data['close']).apply(np.log1p)"
   ]
  },
  {
   "cell_type": "markdown",
   "id": "9c494468",
   "metadata": {},
   "source": [
    "### Compute Average True Range"
   ]
  },
  {
   "cell_type": "code",
   "execution_count": 25,
   "id": "9f797dd1",
   "metadata": {},
   "outputs": [],
   "source": [
    "def compute_atr(stock_data):\n",
    "    \"\"\"\n",
    "    Compute normalized ATR for a single ticker\n",
    "    \"\"\"\n",
    "    try:\n",
    "        df = ATR(stock_data['high'], stock_data['low'], \n",
    "                 stock_data['close'], timeperiod=14)\n",
    "        return df.sub(df.mean()).div(df.std())\n",
    "    except:\n",
    "        return pd.Series(np.nan, index=stock_data.index)\n"
   ]
  },
  {
   "cell_type": "code",
   "execution_count": 26,
   "id": "4c694c26",
   "metadata": {},
   "outputs": [],
   "source": [
    "data['atr'] = data.groupby('ticker', group_keys=False).apply(compute_atr, include_groups=False)"
   ]
  },
  {
   "cell_type": "markdown",
   "id": "36f2707e",
   "metadata": {},
   "source": [
    "### Compute Moving Average\n",
    "### Convergance/Divergance"
   ]
  },
  {
   "cell_type": "code",
   "execution_count": 27,
   "id": "ebc1d52c",
   "metadata": {},
   "outputs": [],
   "source": [
    "def compute_macd(close_prices):\n",
    "    \"\"\"\n",
    "    Compute normalized MACD for a single ticker\n",
    "    \"\"\"\n",
    "    try:\n",
    "        macd = MACD(close_prices)[0]  # Get only the MACD line\n",
    "        return (macd - np.mean(macd)) / np.std(macd)\n",
    "    except:\n",
    "        return pd.Series(np.nan, index=close_prices.index)\n"
   ]
  },
  {
   "cell_type": "code",
   "execution_count": 28,
   "id": "ca696fa5",
   "metadata": {},
   "outputs": [],
   "source": [
    "data['macd'] = data.groupby('ticker')['close'].apply(compute_macd).reset_index(level=0, drop=True)"
   ]
  },
  {
   "cell_type": "markdown",
   "id": "9d56d973",
   "metadata": {},
   "source": [
    "### Compute Lagged Returns"
   ]
  },
  {
   "cell_type": "code",
   "execution_count": 29,
   "id": "8604be53",
   "metadata": {},
   "outputs": [],
   "source": [
    "lags = [1, 5, 10, 21, 42, 63]"
   ]
  },
  {
   "cell_type": "code",
   "execution_count": 30,
   "id": "b78c48c9",
   "metadata": {},
   "outputs": [
    {
     "data": {
      "text/html": [
       "<style type=\"text/css\">\n",
       "</style>\n",
       "<table id=\"T_e4ce6\">\n",
       "  <thead>\n",
       "    <tr>\n",
       "      <th class=\"blank level0\" >&nbsp;</th>\n",
       "      <th id=\"T_e4ce6_level0_col0\" class=\"col_heading level0 col0\" >percentiles</th>\n",
       "    </tr>\n",
       "  </thead>\n",
       "  <tbody>\n",
       "    <tr>\n",
       "      <th id=\"T_e4ce6_level0_row0\" class=\"row_heading level0 row0\" >std</th>\n",
       "      <td id=\"T_e4ce6_row0_col0\" class=\"data row0 col0\" >1.92%</td>\n",
       "    </tr>\n",
       "    <tr>\n",
       "      <th id=\"T_e4ce6_level0_row1\" class=\"row_heading level0 row1\" >min</th>\n",
       "      <td id=\"T_e4ce6_row1_col0\" class=\"data row1 col0\" >-35.12%</td>\n",
       "    </tr>\n",
       "    <tr>\n",
       "      <th id=\"T_e4ce6_level0_row2\" class=\"row_heading level0 row2\" >0.01%</th>\n",
       "      <td id=\"T_e4ce6_row2_col0\" class=\"data row2 col0\" >-18.84%</td>\n",
       "    </tr>\n",
       "    <tr>\n",
       "      <th id=\"T_e4ce6_level0_row3\" class=\"row_heading level0 row3\" >0.1%</th>\n",
       "      <td id=\"T_e4ce6_row3_col0\" class=\"data row3 col0\" >-10.88%</td>\n",
       "    </tr>\n",
       "    <tr>\n",
       "      <th id=\"T_e4ce6_level0_row4\" class=\"row_heading level0 row4\" >1%</th>\n",
       "      <td id=\"T_e4ce6_row4_col0\" class=\"data row4 col0\" >-5.23%</td>\n",
       "    </tr>\n",
       "    <tr>\n",
       "      <th id=\"T_e4ce6_level0_row5\" class=\"row_heading level0 row5\" >50%</th>\n",
       "      <td id=\"T_e4ce6_row5_col0\" class=\"data row5 col0\" >0.07%</td>\n",
       "    </tr>\n",
       "    <tr>\n",
       "      <th id=\"T_e4ce6_level0_row6\" class=\"row_heading level0 row6\" >99%</th>\n",
       "      <td id=\"T_e4ce6_row6_col0\" class=\"data row6 col0\" >5.54%</td>\n",
       "    </tr>\n",
       "    <tr>\n",
       "      <th id=\"T_e4ce6_level0_row7\" class=\"row_heading level0 row7\" >99.9%</th>\n",
       "      <td id=\"T_e4ce6_row7_col0\" class=\"data row7 col0\" >12.21%</td>\n",
       "    </tr>\n",
       "    <tr>\n",
       "      <th id=\"T_e4ce6_level0_row8\" class=\"row_heading level0 row8\" >99.99%</th>\n",
       "      <td id=\"T_e4ce6_row8_col0\" class=\"data row8 col0\" >20.36%</td>\n",
       "    </tr>\n",
       "    <tr>\n",
       "      <th id=\"T_e4ce6_level0_row9\" class=\"row_heading level0 row9\" >max</th>\n",
       "      <td id=\"T_e4ce6_row9_col0\" class=\"data row9 col0\" >61.22%</td>\n",
       "    </tr>\n",
       "  </tbody>\n",
       "</table>\n"
      ],
      "text/plain": [
       "<pandas.io.formats.style.Styler at 0x7d96e1210d70>"
      ]
     },
     "execution_count": 30,
     "metadata": {},
     "output_type": "execute_result"
    }
   ],
   "source": [
    "returns = data.groupby('ticker')['close'].pct_change()\n",
    "percentiles=[.0001, .001, .01]\n",
    "percentiles+= [1-p for p in percentiles]\n",
    "returns.describe(percentiles=percentiles).iloc[2:].to_frame('percentiles').style.format(lambda x: f'{x:,.2%}')"
   ]
  },
  {
   "cell_type": "code",
   "execution_count": 31,
   "id": "3818e5a0",
   "metadata": {},
   "outputs": [],
   "source": [
    "q = 0.0001"
   ]
  },
  {
   "cell_type": "markdown",
   "id": "004ec531",
   "metadata": {},
   "source": [
    "### Winsorize outliers"
   ]
  },
  {
   "cell_type": "code",
   "execution_count": 32,
   "id": "6726da15",
   "metadata": {},
   "outputs": [],
   "source": [
    "for lag in lags:\n",
    "    data[f'return_{lag}d'] = (data.groupby('ticker')['close']\n",
    "                                .pct_change(lag)\n",
    "                                .pipe(lambda x: x.clip(lower=x.quantile(q),\n",
    "                                                       upper=x.quantile(1 - q)))\n",
    "                                .add(1)\n",
    "                                .pow(1 / lag)\n",
    "                                .sub(1)\n",
    "                                )"
   ]
  },
  {
   "cell_type": "markdown",
   "id": "3c57d226",
   "metadata": {},
   "source": [
    "### Shift lagged outliers"
   ]
  },
  {
   "cell_type": "code",
   "execution_count": 33,
   "id": "dc8840a6",
   "metadata": {},
   "outputs": [],
   "source": [
    "for t in [1, 2, 3, 4, 5]:\n",
    "    for lag in [1, 5, 10, 21]:\n",
    "        data[f'lag_return_{lag}d'] = (data.groupby('ticker')\n",
    "                                           [f'return_{lag}d'].shift(t * lag))"
   ]
  },
  {
   "cell_type": "markdown",
   "id": "25f9c252",
   "metadata": {},
   "source": [
    "### Compute forward returns"
   ]
  },
  {
   "cell_type": "code",
   "execution_count": 34,
   "id": "6baafb13",
   "metadata": {},
   "outputs": [],
   "source": [
    "for t in [1, 5, 10, 21]:\n",
    "    data[f'target_{t}d'] = data.groupby('ticker')[f'return_{t}d'].shift(-t)"
   ]
  },
  {
   "cell_type": "markdown",
   "id": "06d97b18",
   "metadata": {},
   "source": [
    "### Create year and month columns"
   ]
  },
  {
   "cell_type": "code",
   "execution_count": 35,
   "id": "343166bd",
   "metadata": {},
   "outputs": [],
   "source": [
    "data['year'] = data['date'].dt.year\n",
    "data['month'] = data['date'].dt.month"
   ]
  },
  {
   "cell_type": "code",
   "execution_count": 36,
   "id": "daeb8c45",
   "metadata": {},
   "outputs": [],
   "source": [
    "data = pd.get_dummies(data,\n",
    "                      columns=['year', 'month'],\n",
    "                      prefix=['year', 'month'],\n",
    "                      prefix_sep=['_', '_'],\n",
    "                      drop_first=True)"
   ]
  },
  {
   "cell_type": "code",
   "execution_count": 37,
   "id": "0a1436af",
   "metadata": {},
   "outputs": [
    {
     "data": {
      "text/html": [
       "<div>\n",
       "<style scoped>\n",
       "    .dataframe tbody tr th:only-of-type {\n",
       "        vertical-align: middle;\n",
       "    }\n",
       "\n",
       "    .dataframe tbody tr th {\n",
       "        vertical-align: top;\n",
       "    }\n",
       "\n",
       "    .dataframe thead th {\n",
       "        text-align: right;\n",
       "    }\n",
       "</style>\n",
       "<table border=\"1\" class=\"dataframe\">\n",
       "  <thead>\n",
       "    <tr style=\"text-align: right;\">\n",
       "      <th></th>\n",
       "      <th>date</th>\n",
       "      <th>close</th>\n",
       "      <th>high</th>\n",
       "      <th>low</th>\n",
       "      <th>open</th>\n",
       "      <th>volume</th>\n",
       "      <th>ticker</th>\n",
       "      <th>dollar_vol</th>\n",
       "      <th>dollar_vol_1m</th>\n",
       "      <th>dollar_vol_rank</th>\n",
       "      <th>...</th>\n",
       "      <th>month_3</th>\n",
       "      <th>month_4</th>\n",
       "      <th>month_5</th>\n",
       "      <th>month_6</th>\n",
       "      <th>month_7</th>\n",
       "      <th>month_8</th>\n",
       "      <th>month_9</th>\n",
       "      <th>month_10</th>\n",
       "      <th>month_11</th>\n",
       "      <th>month_12</th>\n",
       "    </tr>\n",
       "  </thead>\n",
       "  <tbody>\n",
       "    <tr>\n",
       "      <th>0</th>\n",
       "      <td>2015-01-02</td>\n",
       "      <td>71.498169</td>\n",
       "      <td>72.832146</td>\n",
       "      <td>71.337172</td>\n",
       "      <td>72.165154</td>\n",
       "      <td>6019700</td>\n",
       "      <td>MCD</td>\n",
       "      <td>4.303975e+08</td>\n",
       "      <td>NaN</td>\n",
       "      <td>NaN</td>\n",
       "      <td>...</td>\n",
       "      <td>False</td>\n",
       "      <td>False</td>\n",
       "      <td>False</td>\n",
       "      <td>False</td>\n",
       "      <td>False</td>\n",
       "      <td>False</td>\n",
       "      <td>False</td>\n",
       "      <td>False</td>\n",
       "      <td>False</td>\n",
       "      <td>False</td>\n",
       "    </tr>\n",
       "    <tr>\n",
       "      <th>1</th>\n",
       "      <td>2015-01-05</td>\n",
       "      <td>70.708527</td>\n",
       "      <td>71.820173</td>\n",
       "      <td>70.700858</td>\n",
       "      <td>71.528846</td>\n",
       "      <td>6211900</td>\n",
       "      <td>MCD</td>\n",
       "      <td>4.392343e+08</td>\n",
       "      <td>NaN</td>\n",
       "      <td>NaN</td>\n",
       "      <td>...</td>\n",
       "      <td>False</td>\n",
       "      <td>False</td>\n",
       "      <td>False</td>\n",
       "      <td>False</td>\n",
       "      <td>False</td>\n",
       "      <td>False</td>\n",
       "      <td>False</td>\n",
       "      <td>False</td>\n",
       "      <td>False</td>\n",
       "      <td>False</td>\n",
       "    </tr>\n",
       "    <tr>\n",
       "      <th>2</th>\n",
       "      <td>2015-01-06</td>\n",
       "      <td>70.838829</td>\n",
       "      <td>71.919808</td>\n",
       "      <td>70.440166</td>\n",
       "      <td>71.045823</td>\n",
       "      <td>6484100</td>\n",
       "      <td>MCD</td>\n",
       "      <td>4.593261e+08</td>\n",
       "      <td>NaN</td>\n",
       "      <td>NaN</td>\n",
       "      <td>...</td>\n",
       "      <td>False</td>\n",
       "      <td>False</td>\n",
       "      <td>False</td>\n",
       "      <td>False</td>\n",
       "      <td>False</td>\n",
       "      <td>False</td>\n",
       "      <td>False</td>\n",
       "      <td>False</td>\n",
       "      <td>False</td>\n",
       "      <td>False</td>\n",
       "    </tr>\n",
       "    <tr>\n",
       "      <th>3</th>\n",
       "      <td>2015-01-07</td>\n",
       "      <td>72.073166</td>\n",
       "      <td>72.103833</td>\n",
       "      <td>71.191512</td>\n",
       "      <td>71.498175</td>\n",
       "      <td>6400300</td>\n",
       "      <td>MCD</td>\n",
       "      <td>4.612899e+08</td>\n",
       "      <td>NaN</td>\n",
       "      <td>NaN</td>\n",
       "      <td>...</td>\n",
       "      <td>False</td>\n",
       "      <td>False</td>\n",
       "      <td>False</td>\n",
       "      <td>False</td>\n",
       "      <td>False</td>\n",
       "      <td>False</td>\n",
       "      <td>False</td>\n",
       "      <td>False</td>\n",
       "      <td>False</td>\n",
       "      <td>False</td>\n",
       "    </tr>\n",
       "    <tr>\n",
       "      <th>4</th>\n",
       "      <td>2015-01-08</td>\n",
       "      <td>72.341499</td>\n",
       "      <td>72.816827</td>\n",
       "      <td>72.103838</td>\n",
       "      <td>72.241836</td>\n",
       "      <td>5476700</td>\n",
       "      <td>MCD</td>\n",
       "      <td>3.961927e+08</td>\n",
       "      <td>NaN</td>\n",
       "      <td>NaN</td>\n",
       "      <td>...</td>\n",
       "      <td>False</td>\n",
       "      <td>False</td>\n",
       "      <td>False</td>\n",
       "      <td>False</td>\n",
       "      <td>False</td>\n",
       "      <td>False</td>\n",
       "      <td>False</td>\n",
       "      <td>False</td>\n",
       "      <td>False</td>\n",
       "      <td>False</td>\n",
       "    </tr>\n",
       "    <tr>\n",
       "      <th>...</th>\n",
       "      <td>...</td>\n",
       "      <td>...</td>\n",
       "      <td>...</td>\n",
       "      <td>...</td>\n",
       "      <td>...</td>\n",
       "      <td>...</td>\n",
       "      <td>...</td>\n",
       "      <td>...</td>\n",
       "      <td>...</td>\n",
       "      <td>...</td>\n",
       "      <td>...</td>\n",
       "      <td>...</td>\n",
       "      <td>...</td>\n",
       "      <td>...</td>\n",
       "      <td>...</td>\n",
       "      <td>...</td>\n",
       "      <td>...</td>\n",
       "      <td>...</td>\n",
       "      <td>...</td>\n",
       "      <td>...</td>\n",
       "      <td>...</td>\n",
       "    </tr>\n",
       "    <tr>\n",
       "      <th>125795</th>\n",
       "      <td>2024-12-24</td>\n",
       "      <td>319.580597</td>\n",
       "      <td>320.467643</td>\n",
       "      <td>316.221841</td>\n",
       "      <td>317.108887</td>\n",
       "      <td>2684100</td>\n",
       "      <td>V</td>\n",
       "      <td>8.577863e+08</td>\n",
       "      <td>1.790341e+09</td>\n",
       "      <td>21.0</td>\n",
       "      <td>...</td>\n",
       "      <td>False</td>\n",
       "      <td>False</td>\n",
       "      <td>False</td>\n",
       "      <td>False</td>\n",
       "      <td>False</td>\n",
       "      <td>False</td>\n",
       "      <td>False</td>\n",
       "      <td>False</td>\n",
       "      <td>False</td>\n",
       "      <td>True</td>\n",
       "    </tr>\n",
       "    <tr>\n",
       "      <th>125796</th>\n",
       "      <td>2024-12-26</td>\n",
       "      <td>319.839752</td>\n",
       "      <td>320.377960</td>\n",
       "      <td>318.394576</td>\n",
       "      <td>318.703540</td>\n",
       "      <td>2856000</td>\n",
       "      <td>V</td>\n",
       "      <td>9.134623e+08</td>\n",
       "      <td>1.732572e+09</td>\n",
       "      <td>20.0</td>\n",
       "      <td>...</td>\n",
       "      <td>False</td>\n",
       "      <td>False</td>\n",
       "      <td>False</td>\n",
       "      <td>False</td>\n",
       "      <td>False</td>\n",
       "      <td>False</td>\n",
       "      <td>False</td>\n",
       "      <td>False</td>\n",
       "      <td>False</td>\n",
       "      <td>True</td>\n",
       "    </tr>\n",
       "    <tr>\n",
       "      <th>125797</th>\n",
       "      <td>2024-12-27</td>\n",
       "      <td>317.597229</td>\n",
       "      <td>320.427754</td>\n",
       "      <td>316.500892</td>\n",
       "      <td>318.205180</td>\n",
       "      <td>3489200</td>\n",
       "      <td>V</td>\n",
       "      <td>1.108160e+09</td>\n",
       "      <td>1.710112e+09</td>\n",
       "      <td>20.0</td>\n",
       "      <td>...</td>\n",
       "      <td>False</td>\n",
       "      <td>False</td>\n",
       "      <td>False</td>\n",
       "      <td>False</td>\n",
       "      <td>False</td>\n",
       "      <td>False</td>\n",
       "      <td>False</td>\n",
       "      <td>False</td>\n",
       "      <td>False</td>\n",
       "      <td>True</td>\n",
       "    </tr>\n",
       "    <tr>\n",
       "      <th>125798</th>\n",
       "      <td>2024-12-30</td>\n",
       "      <td>314.258423</td>\n",
       "      <td>316.052408</td>\n",
       "      <td>312.185373</td>\n",
       "      <td>313.630519</td>\n",
       "      <td>3478500</td>\n",
       "      <td>V</td>\n",
       "      <td>1.093148e+09</td>\n",
       "      <td>1.689756e+09</td>\n",
       "      <td>20.0</td>\n",
       "      <td>...</td>\n",
       "      <td>False</td>\n",
       "      <td>False</td>\n",
       "      <td>False</td>\n",
       "      <td>False</td>\n",
       "      <td>False</td>\n",
       "      <td>False</td>\n",
       "      <td>False</td>\n",
       "      <td>False</td>\n",
       "      <td>False</td>\n",
       "      <td>True</td>\n",
       "    </tr>\n",
       "    <tr>\n",
       "      <th>125799</th>\n",
       "      <td>2024-12-31</td>\n",
       "      <td>314.985992</td>\n",
       "      <td>316.600585</td>\n",
       "      <td>314.138821</td>\n",
       "      <td>315.065712</td>\n",
       "      <td>3963800</td>\n",
       "      <td>V</td>\n",
       "      <td>1.248541e+09</td>\n",
       "      <td>1.689708e+09</td>\n",
       "      <td>20.0</td>\n",
       "      <td>...</td>\n",
       "      <td>False</td>\n",
       "      <td>False</td>\n",
       "      <td>False</td>\n",
       "      <td>False</td>\n",
       "      <td>False</td>\n",
       "      <td>False</td>\n",
       "      <td>False</td>\n",
       "      <td>False</td>\n",
       "      <td>False</td>\n",
       "      <td>True</td>\n",
       "    </tr>\n",
       "  </tbody>\n",
       "</table>\n",
       "<p>125800 rows × 49 columns</p>\n",
       "</div>"
      ],
      "text/plain": [
       "             date       close        high         low        open   volume  \\\n",
       "0      2015-01-02   71.498169   72.832146   71.337172   72.165154  6019700   \n",
       "1      2015-01-05   70.708527   71.820173   70.700858   71.528846  6211900   \n",
       "2      2015-01-06   70.838829   71.919808   70.440166   71.045823  6484100   \n",
       "3      2015-01-07   72.073166   72.103833   71.191512   71.498175  6400300   \n",
       "4      2015-01-08   72.341499   72.816827   72.103838   72.241836  5476700   \n",
       "...           ...         ...         ...         ...         ...      ...   \n",
       "125795 2024-12-24  319.580597  320.467643  316.221841  317.108887  2684100   \n",
       "125796 2024-12-26  319.839752  320.377960  318.394576  318.703540  2856000   \n",
       "125797 2024-12-27  317.597229  320.427754  316.500892  318.205180  3489200   \n",
       "125798 2024-12-30  314.258423  316.052408  312.185373  313.630519  3478500   \n",
       "125799 2024-12-31  314.985992  316.600585  314.138821  315.065712  3963800   \n",
       "\n",
       "       ticker    dollar_vol  dollar_vol_1m  dollar_vol_rank  ...  month_3  \\\n",
       "0         MCD  4.303975e+08            NaN              NaN  ...    False   \n",
       "1         MCD  4.392343e+08            NaN              NaN  ...    False   \n",
       "2         MCD  4.593261e+08            NaN              NaN  ...    False   \n",
       "3         MCD  4.612899e+08            NaN              NaN  ...    False   \n",
       "4         MCD  3.961927e+08            NaN              NaN  ...    False   \n",
       "...       ...           ...            ...              ...  ...      ...   \n",
       "125795      V  8.577863e+08   1.790341e+09             21.0  ...    False   \n",
       "125796      V  9.134623e+08   1.732572e+09             20.0  ...    False   \n",
       "125797      V  1.108160e+09   1.710112e+09             20.0  ...    False   \n",
       "125798      V  1.093148e+09   1.689756e+09             20.0  ...    False   \n",
       "125799      V  1.248541e+09   1.689708e+09             20.0  ...    False   \n",
       "\n",
       "        month_4  month_5  month_6  month_7  month_8  month_9  month_10  \\\n",
       "0         False    False    False    False    False    False     False   \n",
       "1         False    False    False    False    False    False     False   \n",
       "2         False    False    False    False    False    False     False   \n",
       "3         False    False    False    False    False    False     False   \n",
       "4         False    False    False    False    False    False     False   \n",
       "...         ...      ...      ...      ...      ...      ...       ...   \n",
       "125795    False    False    False    False    False    False     False   \n",
       "125796    False    False    False    False    False    False     False   \n",
       "125797    False    False    False    False    False    False     False   \n",
       "125798    False    False    False    False    False    False     False   \n",
       "125799    False    False    False    False    False    False     False   \n",
       "\n",
       "        month_11  month_12  \n",
       "0          False     False  \n",
       "1          False     False  \n",
       "2          False     False  \n",
       "3          False     False  \n",
       "4          False     False  \n",
       "...          ...       ...  \n",
       "125795     False      True  \n",
       "125796     False      True  \n",
       "125797     False      True  \n",
       "125798     False      True  \n",
       "125799     False      True  \n",
       "\n",
       "[125800 rows x 49 columns]"
      ]
     },
     "execution_count": 37,
     "metadata": {},
     "output_type": "execute_result"
    }
   ],
   "source": [
    "data"
   ]
  },
  {
   "cell_type": "code",
   "execution_count": 38,
   "id": "53c898b6",
   "metadata": {},
   "outputs": [
    {
     "data": {
      "text/plain": [
       "(125800, 49)"
      ]
     },
     "execution_count": 38,
     "metadata": {},
     "output_type": "execute_result"
    }
   ],
   "source": [
    "data.shape"
   ]
  },
  {
   "cell_type": "code",
   "execution_count": 39,
   "id": "3726313d",
   "metadata": {},
   "outputs": [
    {
     "data": {
      "text/plain": [
       "date                  0\n",
       "close                 0\n",
       "high                  0\n",
       "low                   0\n",
       "open                  0\n",
       "volume                0\n",
       "ticker                0\n",
       "dollar_vol            0\n",
       "dollar_vol_1m      1000\n",
       "dollar_vol_rank    1000\n",
       "rsi                 700\n",
       "bb_high             950\n",
       "bb_low              950\n",
       "atr                 700\n",
       "macd               1650\n",
       "return_1d            50\n",
       "return_5d           250\n",
       "return_10d          500\n",
       "return_21d         1050\n",
       "return_42d         2100\n",
       "return_63d         3150\n",
       "lag_return_1d       300\n",
       "lag_return_5d      1500\n",
       "lag_return_10d     3000\n",
       "lag_return_21d     6300\n",
       "target_1d            50\n",
       "target_5d           250\n",
       "target_10d          500\n",
       "target_21d         1050\n",
       "year_2016             0\n",
       "year_2017             0\n",
       "year_2018             0\n",
       "year_2019             0\n",
       "year_2020             0\n",
       "year_2021             0\n",
       "year_2022             0\n",
       "year_2023             0\n",
       "year_2024             0\n",
       "month_2               0\n",
       "month_3               0\n",
       "month_4               0\n",
       "month_5               0\n",
       "month_6               0\n",
       "month_7               0\n",
       "month_8               0\n",
       "month_9               0\n",
       "month_10              0\n",
       "month_11              0\n",
       "month_12              0\n",
       "dtype: int64"
      ]
     },
     "execution_count": 39,
     "metadata": {},
     "output_type": "execute_result"
    }
   ],
   "source": [
    "data.isna().sum()"
   ]
  },
  {
   "cell_type": "code",
   "execution_count": 40,
   "id": "f7b8f7ef",
   "metadata": {},
   "outputs": [],
   "source": [
    "data.dropna(inplace=True)"
   ]
  },
  {
   "cell_type": "code",
   "execution_count": 41,
   "id": "874f153c",
   "metadata": {},
   "outputs": [
    {
     "data": {
      "text/plain": [
       "date               0\n",
       "close              0\n",
       "high               0\n",
       "low                0\n",
       "open               0\n",
       "volume             0\n",
       "ticker             0\n",
       "dollar_vol         0\n",
       "dollar_vol_1m      0\n",
       "dollar_vol_rank    0\n",
       "rsi                0\n",
       "bb_high            0\n",
       "bb_low             0\n",
       "atr                0\n",
       "macd               0\n",
       "return_1d          0\n",
       "return_5d          0\n",
       "return_10d         0\n",
       "return_21d         0\n",
       "return_42d         0\n",
       "return_63d         0\n",
       "lag_return_1d      0\n",
       "lag_return_5d      0\n",
       "lag_return_10d     0\n",
       "lag_return_21d     0\n",
       "target_1d          0\n",
       "target_5d          0\n",
       "target_10d         0\n",
       "target_21d         0\n",
       "year_2016          0\n",
       "year_2017          0\n",
       "year_2018          0\n",
       "year_2019          0\n",
       "year_2020          0\n",
       "year_2021          0\n",
       "year_2022          0\n",
       "year_2023          0\n",
       "year_2024          0\n",
       "month_2            0\n",
       "month_3            0\n",
       "month_4            0\n",
       "month_5            0\n",
       "month_6            0\n",
       "month_7            0\n",
       "month_8            0\n",
       "month_9            0\n",
       "month_10           0\n",
       "month_11           0\n",
       "month_12           0\n",
       "dtype: int64"
      ]
     },
     "execution_count": 41,
     "metadata": {},
     "output_type": "execute_result"
    }
   ],
   "source": [
    "data.isna().sum()"
   ]
  },
  {
   "cell_type": "code",
   "execution_count": 42,
   "id": "29220092",
   "metadata": {},
   "outputs": [],
   "source": [
    "data.to_csv('data/stocks.csv', index=False)"
   ]
  }
 ],
 "metadata": {
  "kernelspec": {
   "display_name": "venv",
   "language": "python",
   "name": "python3"
  },
  "language_info": {
   "codemirror_mode": {
    "name": "ipython",
    "version": 3
   },
   "file_extension": ".py",
   "mimetype": "text/x-python",
   "name": "python",
   "nbconvert_exporter": "python",
   "pygments_lexer": "ipython3",
   "version": "3.12.3"
  }
 },
 "nbformat": 4,
 "nbformat_minor": 5
}
