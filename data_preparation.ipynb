{
 "cells": [
  {
   "cell_type": "markdown",
   "id": "6faf57d0",
   "metadata": {},
   "source": [
    "## Imports"
   ]
  },
  {
   "cell_type": "code",
   "execution_count": 99,
   "id": "daa062fd",
   "metadata": {},
   "outputs": [],
   "source": [
    "import numpy as np\n",
    "import pandas as pd\n",
    "import yfinance as yf\n",
    "import os\n",
    "import matplotlib.pyplot as plt\n",
    "import seaborn as sns\n",
    "import time\n",
    "\n",
    "from scipy.stats import spearmanr\n",
    "from talib import RSI, BBANDS, MACD, ATR"
   ]
  },
  {
   "cell_type": "code",
   "execution_count": 100,
   "id": "d6e68830",
   "metadata": {},
   "outputs": [
    {
     "name": "stdout",
     "output_type": "stream",
     "text": [
      "['AAPL', 'MSFT', 'NVDA', 'AMZN', 'GOOGL', 'META']\n"
     ]
    }
   ],
   "source": [
    "tickers = ['AAPL', 'MSFT', 'NVDA', 'AMZN', 'GOOGL', 'META']\n",
    "tickers = [ticker.replace('.', '-') for ticker in tickers]  # Replace dots with hyphens for yfinance compatibility\n",
    "print(tickers)"
   ]
  },
  {
   "cell_type": "code",
   "execution_count": 101,
   "id": "8bc035b0",
   "metadata": {},
   "outputs": [],
   "source": [
    "start_date = '2015-01-01'\n",
    "end_date = '2025-01-01'"
   ]
  },
  {
   "cell_type": "markdown",
   "id": "a0a0b528",
   "metadata": {},
   "source": [
    "The following method is supposed to download data for each ticket."
   ]
  },
  {
   "cell_type": "code",
   "execution_count": 102,
   "id": "8df57d90",
   "metadata": {},
   "outputs": [],
   "source": [
    "def get_data(ticker, start_date, end_date):\n",
    "    data = yf.download(ticker, start_date, end_date)\n",
    "    data[\"Ticker\"] = ticker\n",
    "    return data"
   ]
  },
  {
   "cell_type": "code",
   "execution_count": 103,
   "id": "6e2b982f",
   "metadata": {},
   "outputs": [
    {
     "name": "stderr",
     "output_type": "stream",
     "text": [
      "/tmp/ipykernel_28839/3049716656.py:2: FutureWarning: YF.download() has changed argument auto_adjust default to True\n",
      "  data = yf.download(ticker, start_date, end_date)\n",
      "[*********************100%***********************]  1 of 1 completed"
     ]
    },
    {
     "name": "stdout",
     "output_type": "stream",
     "text": [
      "Processing data for 6 stocks...\n",
      "Processed AAPL data with 2516 rows.\n"
     ]
    },
    {
     "name": "stderr",
     "output_type": "stream",
     "text": [
      "\n",
      "/tmp/ipykernel_28839/3049716656.py:2: FutureWarning: YF.download() has changed argument auto_adjust default to True\n",
      "  data = yf.download(ticker, start_date, end_date)\n",
      "[*********************100%***********************]  1 of 1 completed\n"
     ]
    },
    {
     "name": "stdout",
     "output_type": "stream",
     "text": [
      "Processed MSFT data with 2516 rows.\n"
     ]
    },
    {
     "name": "stderr",
     "output_type": "stream",
     "text": [
      "/tmp/ipykernel_28839/3049716656.py:2: FutureWarning: YF.download() has changed argument auto_adjust default to True\n",
      "  data = yf.download(ticker, start_date, end_date)\n",
      "[*********************100%***********************]  1 of 1 completed\n"
     ]
    },
    {
     "name": "stdout",
     "output_type": "stream",
     "text": [
      "Processed NVDA data with 2516 rows.\n"
     ]
    },
    {
     "name": "stderr",
     "output_type": "stream",
     "text": [
      "/tmp/ipykernel_28839/3049716656.py:2: FutureWarning: YF.download() has changed argument auto_adjust default to True\n",
      "  data = yf.download(ticker, start_date, end_date)\n",
      "[*********************100%***********************]  1 of 1 completed\n"
     ]
    },
    {
     "name": "stdout",
     "output_type": "stream",
     "text": [
      "Processed AMZN data with 2516 rows.\n"
     ]
    },
    {
     "name": "stderr",
     "output_type": "stream",
     "text": [
      "/tmp/ipykernel_28839/3049716656.py:2: FutureWarning: YF.download() has changed argument auto_adjust default to True\n",
      "  data = yf.download(ticker, start_date, end_date)\n",
      "[*********************100%***********************]  1 of 1 completed\n"
     ]
    },
    {
     "name": "stdout",
     "output_type": "stream",
     "text": [
      "Processed GOOGL data with 2516 rows.\n"
     ]
    },
    {
     "name": "stderr",
     "output_type": "stream",
     "text": [
      "/tmp/ipykernel_28839/3049716656.py:2: FutureWarning: YF.download() has changed argument auto_adjust default to True\n",
      "  data = yf.download(ticker, start_date, end_date)\n",
      "[*********************100%***********************]  1 of 1 completed\n"
     ]
    },
    {
     "name": "stdout",
     "output_type": "stream",
     "text": [
      "Processed META data with 2516 rows.\n"
     ]
    }
   ],
   "source": [
    "os.makedirs(\"data\", exist_ok=True)\n",
    "\n",
    "print(f\"Processing data for {len(tickers)} stocks...\")\n",
    "for ticker in tickers:\n",
    "    try:\n",
    "        # Get enhanced data for this stock\n",
    "        stock_data = get_data(ticker, start_date, end_date)\n",
    "        \n",
    "        # Reset index to make Date a column\n",
    "        stock_data = stock_data.reset_index()\n",
    "\n",
    "        print(f\"Processed {ticker} data with {len(stock_data)} rows.\")\n",
    "        \n",
    "        # Save individual stock data\n",
    "        stock_data.to_csv(f\"data/{ticker}.csv\", index=False)\n",
    "        \n",
    "        # Add a small delay to avoid hitting API limits\n",
    "        time.sleep(2)\n",
    "\n",
    "    except Exception as e:\n",
    "        print(f\"Error processing {ticker}: {str(e)}\")"
   ]
  },
  {
   "cell_type": "markdown",
   "id": "957b86e2",
   "metadata": {},
   "source": [
    "Let us analyze how does the dataframe for one stock look like."
   ]
  },
  {
   "cell_type": "code",
   "execution_count": 104,
   "id": "874b67d1",
   "metadata": {},
   "outputs": [
    {
     "data": {
      "text/plain": [
       "['MSFT.csv', 'AMZN.csv', 'GOOGL.csv', 'NVDA.csv', 'META.csv', 'AAPL.csv']"
      ]
     },
     "execution_count": 104,
     "metadata": {},
     "output_type": "execute_result"
    }
   ],
   "source": [
    "files = os.listdir('data') # List of files in the data directory\n",
    "files"
   ]
  },
  {
   "cell_type": "code",
   "execution_count": 105,
   "id": "52962e5f",
   "metadata": {},
   "outputs": [],
   "source": [
    "example_file = 'MSFT.csv'\n",
    "example_file_path = os.path.join('data', example_file)"
   ]
  },
  {
   "cell_type": "code",
   "execution_count": 106,
   "id": "a6cd8341",
   "metadata": {},
   "outputs": [
    {
     "data": {
      "text/html": [
       "<div>\n",
       "<style scoped>\n",
       "    .dataframe tbody tr th:only-of-type {\n",
       "        vertical-align: middle;\n",
       "    }\n",
       "\n",
       "    .dataframe tbody tr th {\n",
       "        vertical-align: top;\n",
       "    }\n",
       "\n",
       "    .dataframe thead th {\n",
       "        text-align: right;\n",
       "    }\n",
       "</style>\n",
       "<table border=\"1\" class=\"dataframe\">\n",
       "  <thead>\n",
       "    <tr style=\"text-align: right;\">\n",
       "      <th></th>\n",
       "      <th>Date</th>\n",
       "      <th>Close</th>\n",
       "      <th>High</th>\n",
       "      <th>Low</th>\n",
       "      <th>Open</th>\n",
       "      <th>Volume</th>\n",
       "      <th>Ticker</th>\n",
       "    </tr>\n",
       "  </thead>\n",
       "  <tbody>\n",
       "    <tr>\n",
       "      <th>0</th>\n",
       "      <td>NaN</td>\n",
       "      <td>MSFT</td>\n",
       "      <td>MSFT</td>\n",
       "      <td>MSFT</td>\n",
       "      <td>MSFT</td>\n",
       "      <td>MSFT</td>\n",
       "      <td>NaN</td>\n",
       "    </tr>\n",
       "    <tr>\n",
       "      <th>1</th>\n",
       "      <td>2015-01-02</td>\n",
       "      <td>39.99870681762695</td>\n",
       "      <td>40.56327357006327</td>\n",
       "      <td>39.81052007555399</td>\n",
       "      <td>39.913167686058216</td>\n",
       "      <td>27913900</td>\n",
       "      <td>MSFT</td>\n",
       "    </tr>\n",
       "    <tr>\n",
       "      <th>2</th>\n",
       "      <td>2015-01-05</td>\n",
       "      <td>39.630882263183594</td>\n",
       "      <td>39.973042020810816</td>\n",
       "      <td>39.56244835379311</td>\n",
       "      <td>39.665095954770436</td>\n",
       "      <td>39673900</td>\n",
       "      <td>MSFT</td>\n",
       "    </tr>\n",
       "    <tr>\n",
       "      <th>3</th>\n",
       "      <td>2015-01-06</td>\n",
       "      <td>39.0492057800293</td>\n",
       "      <td>39.9901491609254</td>\n",
       "      <td>38.95511078931803</td>\n",
       "      <td>39.67365049834883</td>\n",
       "      <td>36447900</td>\n",
       "      <td>MSFT</td>\n",
       "    </tr>\n",
       "    <tr>\n",
       "      <th>4</th>\n",
       "      <td>2015-01-07</td>\n",
       "      <td>39.54533767700195</td>\n",
       "      <td>39.74208026089452</td>\n",
       "      <td>38.91234036588819</td>\n",
       "      <td>39.33148661671331</td>\n",
       "      <td>29114100</td>\n",
       "      <td>MSFT</td>\n",
       "    </tr>\n",
       "  </tbody>\n",
       "</table>\n",
       "</div>"
      ],
      "text/plain": [
       "         Date               Close                High                Low  \\\n",
       "0         NaN                MSFT                MSFT               MSFT   \n",
       "1  2015-01-02   39.99870681762695   40.56327357006327  39.81052007555399   \n",
       "2  2015-01-05  39.630882263183594  39.973042020810816  39.56244835379311   \n",
       "3  2015-01-06    39.0492057800293    39.9901491609254  38.95511078931803   \n",
       "4  2015-01-07   39.54533767700195   39.74208026089452  38.91234036588819   \n",
       "\n",
       "                 Open    Volume Ticker  \n",
       "0                MSFT      MSFT    NaN  \n",
       "1  39.913167686058216  27913900   MSFT  \n",
       "2  39.665095954770436  39673900   MSFT  \n",
       "3   39.67365049834883  36447900   MSFT  \n",
       "4   39.33148661671331  29114100   MSFT  "
      ]
     },
     "execution_count": 106,
     "metadata": {},
     "output_type": "execute_result"
    }
   ],
   "source": [
    "msft_data = pd.read_csv(example_file_path)\n",
    "msft_data.head()"
   ]
  },
  {
   "cell_type": "markdown",
   "id": "5566d377",
   "metadata": {},
   "source": [
    "As we see, there is a redundant second row(row with index 0), and moreover there is redundant indexes in the dataframe. We want to get rid of them and concatenate dataframes.  "
   ]
  },
  {
   "cell_type": "code",
   "execution_count": 107,
   "id": "917b6e52",
   "metadata": {},
   "outputs": [],
   "source": [
    "dataframes = []\n",
    "for file in files:\n",
    "    file_path = os.path.join('data', file)     \n",
    "    stock_data = pd.read_csv(file_path)\n",
    "    stock_data.drop([0], inplace=True) # Drop row with index 0\n",
    "    dataframes.append(stock_data)\n",
    "if dataframes:\n",
    "    data = pd.concat(dataframes, ignore_index=True)"
   ]
  },
  {
   "cell_type": "code",
   "execution_count": 108,
   "id": "2ed73ad2",
   "metadata": {},
   "outputs": [
    {
     "data": {
      "text/html": [
       "<div>\n",
       "<style scoped>\n",
       "    .dataframe tbody tr th:only-of-type {\n",
       "        vertical-align: middle;\n",
       "    }\n",
       "\n",
       "    .dataframe tbody tr th {\n",
       "        vertical-align: top;\n",
       "    }\n",
       "\n",
       "    .dataframe thead th {\n",
       "        text-align: right;\n",
       "    }\n",
       "</style>\n",
       "<table border=\"1\" class=\"dataframe\">\n",
       "  <thead>\n",
       "    <tr style=\"text-align: right;\">\n",
       "      <th></th>\n",
       "      <th>Date</th>\n",
       "      <th>Close</th>\n",
       "      <th>High</th>\n",
       "      <th>Low</th>\n",
       "      <th>Open</th>\n",
       "      <th>Volume</th>\n",
       "      <th>Ticker</th>\n",
       "    </tr>\n",
       "  </thead>\n",
       "  <tbody>\n",
       "    <tr>\n",
       "      <th>0</th>\n",
       "      <td>2015-01-02</td>\n",
       "      <td>39.99870681762695</td>\n",
       "      <td>40.56327357006327</td>\n",
       "      <td>39.81052007555399</td>\n",
       "      <td>39.913167686058216</td>\n",
       "      <td>27913900</td>\n",
       "      <td>MSFT</td>\n",
       "    </tr>\n",
       "    <tr>\n",
       "      <th>1</th>\n",
       "      <td>2015-01-05</td>\n",
       "      <td>39.630882263183594</td>\n",
       "      <td>39.973042020810816</td>\n",
       "      <td>39.56244835379311</td>\n",
       "      <td>39.665095954770436</td>\n",
       "      <td>39673900</td>\n",
       "      <td>MSFT</td>\n",
       "    </tr>\n",
       "    <tr>\n",
       "      <th>2</th>\n",
       "      <td>2015-01-06</td>\n",
       "      <td>39.0492057800293</td>\n",
       "      <td>39.9901491609254</td>\n",
       "      <td>38.95511078931803</td>\n",
       "      <td>39.67365049834883</td>\n",
       "      <td>36447900</td>\n",
       "      <td>MSFT</td>\n",
       "    </tr>\n",
       "    <tr>\n",
       "      <th>3</th>\n",
       "      <td>2015-01-07</td>\n",
       "      <td>39.54533767700195</td>\n",
       "      <td>39.74208026089452</td>\n",
       "      <td>38.91234036588819</td>\n",
       "      <td>39.33148661671331</td>\n",
       "      <td>29114100</td>\n",
       "      <td>MSFT</td>\n",
       "    </tr>\n",
       "    <tr>\n",
       "      <th>4</th>\n",
       "      <td>2015-01-08</td>\n",
       "      <td>40.70869445800781</td>\n",
       "      <td>40.845559027891056</td>\n",
       "      <td>39.964493563211974</td>\n",
       "      <td>39.9901546503436</td>\n",
       "      <td>29645200</td>\n",
       "      <td>MSFT</td>\n",
       "    </tr>\n",
       "    <tr>\n",
       "      <th>...</th>\n",
       "      <td>...</td>\n",
       "      <td>...</td>\n",
       "      <td>...</td>\n",
       "      <td>...</td>\n",
       "      <td>...</td>\n",
       "      <td>...</td>\n",
       "      <td>...</td>\n",
       "    </tr>\n",
       "    <tr>\n",
       "      <th>15091</th>\n",
       "      <td>2024-12-24</td>\n",
       "      <td>257.57867431640625</td>\n",
       "      <td>257.58862955018265</td>\n",
       "      <td>254.67565812568793</td>\n",
       "      <td>254.87518901917565</td>\n",
       "      <td>23234700</td>\n",
       "      <td>AAPL</td>\n",
       "    </tr>\n",
       "    <tr>\n",
       "      <th>15092</th>\n",
       "      <td>2024-12-26</td>\n",
       "      <td>258.39666748046875</td>\n",
       "      <td>259.47408555117545</td>\n",
       "      <td>257.0100282923795</td>\n",
       "      <td>257.56867823862046</td>\n",
       "      <td>27237100</td>\n",
       "      <td>AAPL</td>\n",
       "    </tr>\n",
       "    <tr>\n",
       "      <th>15093</th>\n",
       "      <td>2024-12-27</td>\n",
       "      <td>254.9749298095703</td>\n",
       "      <td>258.0774615569102</td>\n",
       "      <td>252.4510193654514</td>\n",
       "      <td>257.20952960207876</td>\n",
       "      <td>42355300</td>\n",
       "      <td>AAPL</td>\n",
       "    </tr>\n",
       "    <tr>\n",
       "      <th>15094</th>\n",
       "      <td>2024-12-30</td>\n",
       "      <td>251.5930938720703</td>\n",
       "      <td>252.8899685500744</td>\n",
       "      <td>250.14658624824915</td>\n",
       "      <td>251.62302046123375</td>\n",
       "      <td>35557500</td>\n",
       "      <td>AAPL</td>\n",
       "    </tr>\n",
       "    <tr>\n",
       "      <th>15095</th>\n",
       "      <td>2024-12-31</td>\n",
       "      <td>249.8173828125</td>\n",
       "      <td>252.670501064015</td>\n",
       "      <td>248.82975968702823</td>\n",
       "      <td>251.8325261089863</td>\n",
       "      <td>39480700</td>\n",
       "      <td>AAPL</td>\n",
       "    </tr>\n",
       "  </tbody>\n",
       "</table>\n",
       "<p>15096 rows × 7 columns</p>\n",
       "</div>"
      ],
      "text/plain": [
       "             Date               Close                High                 Low  \\\n",
       "0      2015-01-02   39.99870681762695   40.56327357006327   39.81052007555399   \n",
       "1      2015-01-05  39.630882263183594  39.973042020810816   39.56244835379311   \n",
       "2      2015-01-06    39.0492057800293    39.9901491609254   38.95511078931803   \n",
       "3      2015-01-07   39.54533767700195   39.74208026089452   38.91234036588819   \n",
       "4      2015-01-08   40.70869445800781  40.845559027891056  39.964493563211974   \n",
       "...           ...                 ...                 ...                 ...   \n",
       "15091  2024-12-24  257.57867431640625  257.58862955018265  254.67565812568793   \n",
       "15092  2024-12-26  258.39666748046875  259.47408555117545   257.0100282923795   \n",
       "15093  2024-12-27   254.9749298095703   258.0774615569102   252.4510193654514   \n",
       "15094  2024-12-30   251.5930938720703   252.8899685500744  250.14658624824915   \n",
       "15095  2024-12-31      249.8173828125    252.670501064015  248.82975968702823   \n",
       "\n",
       "                     Open    Volume Ticker  \n",
       "0      39.913167686058216  27913900   MSFT  \n",
       "1      39.665095954770436  39673900   MSFT  \n",
       "2       39.67365049834883  36447900   MSFT  \n",
       "3       39.33148661671331  29114100   MSFT  \n",
       "4        39.9901546503436  29645200   MSFT  \n",
       "...                   ...       ...    ...  \n",
       "15091  254.87518901917565  23234700   AAPL  \n",
       "15092  257.56867823862046  27237100   AAPL  \n",
       "15093  257.20952960207876  42355300   AAPL  \n",
       "15094  251.62302046123375  35557500   AAPL  \n",
       "15095   251.8325261089863  39480700   AAPL  \n",
       "\n",
       "[15096 rows x 7 columns]"
      ]
     },
     "execution_count": 108,
     "metadata": {},
     "output_type": "execute_result"
    }
   ],
   "source": [
    "data"
   ]
  },
  {
   "cell_type": "code",
   "execution_count": 109,
   "id": "14aac889",
   "metadata": {},
   "outputs": [
    {
     "data": {
      "text/plain": [
       "Date      object\n",
       "Close     object\n",
       "High      object\n",
       "Low       object\n",
       "Open      object\n",
       "Volume    object\n",
       "Ticker    object\n",
       "dtype: object"
      ]
     },
     "execution_count": 109,
     "metadata": {},
     "output_type": "execute_result"
    }
   ],
   "source": [
    "data.dtypes"
   ]
  },
  {
   "cell_type": "markdown",
   "id": "07899825",
   "metadata": {},
   "source": [
    "The columns should be converted into appropriate datatype. "
   ]
  },
  {
   "cell_type": "code",
   "execution_count": 110,
   "id": "5f75a1a3",
   "metadata": {},
   "outputs": [],
   "source": [
    "data['Date'] = pd.to_datetime(data['Date'])\n",
    "numeric_columns = ['Close', 'High', 'Low', 'Open', 'Volume']\n",
    "for col in numeric_columns:\n",
    "    data[col] = pd.to_numeric(data[col], errors='coerce')"
   ]
  },
  {
   "cell_type": "code",
   "execution_count": 111,
   "id": "317e05db",
   "metadata": {},
   "outputs": [
    {
     "data": {
      "text/plain": [
       "Date      datetime64[ns]\n",
       "Close            float64\n",
       "High             float64\n",
       "Low              float64\n",
       "Open             float64\n",
       "Volume             int64\n",
       "Ticker            object\n",
       "dtype: object"
      ]
     },
     "execution_count": 111,
     "metadata": {},
     "output_type": "execute_result"
    }
   ],
   "source": [
    "data.dtypes"
   ]
  },
  {
   "cell_type": "code",
   "execution_count": 112,
   "id": "88539f7e",
   "metadata": {},
   "outputs": [],
   "source": [
    "data.columns = data.columns.map(lambda x: x.lower())"
   ]
  },
  {
   "cell_type": "markdown",
   "id": "3baece59",
   "metadata": {},
   "source": [
    "#### Compute Rolling Average Dollar Volume"
   ]
  },
  {
   "cell_type": "code",
   "execution_count": 113,
   "id": "a4d193db",
   "metadata": {},
   "outputs": [],
   "source": [
    "data['dollar_vol'] = data[['close', 'volume']].prod(axis=1)"
   ]
  },
  {
   "cell_type": "code",
   "execution_count": 114,
   "id": "d9826605",
   "metadata": {},
   "outputs": [
    {
     "data": {
      "text/html": [
       "<div>\n",
       "<style scoped>\n",
       "    .dataframe tbody tr th:only-of-type {\n",
       "        vertical-align: middle;\n",
       "    }\n",
       "\n",
       "    .dataframe tbody tr th {\n",
       "        vertical-align: top;\n",
       "    }\n",
       "\n",
       "    .dataframe thead th {\n",
       "        text-align: right;\n",
       "    }\n",
       "</style>\n",
       "<table border=\"1\" class=\"dataframe\">\n",
       "  <thead>\n",
       "    <tr style=\"text-align: right;\">\n",
       "      <th></th>\n",
       "      <th>date</th>\n",
       "      <th>close</th>\n",
       "      <th>high</th>\n",
       "      <th>low</th>\n",
       "      <th>open</th>\n",
       "      <th>volume</th>\n",
       "      <th>ticker</th>\n",
       "      <th>dollar_vol</th>\n",
       "    </tr>\n",
       "  </thead>\n",
       "  <tbody>\n",
       "    <tr>\n",
       "      <th>0</th>\n",
       "      <td>2015-01-02</td>\n",
       "      <td>39.998707</td>\n",
       "      <td>40.563274</td>\n",
       "      <td>39.810520</td>\n",
       "      <td>39.913168</td>\n",
       "      <td>27913900</td>\n",
       "      <td>MSFT</td>\n",
       "      <td>1.116520e+09</td>\n",
       "    </tr>\n",
       "    <tr>\n",
       "      <th>1</th>\n",
       "      <td>2015-01-05</td>\n",
       "      <td>39.630882</td>\n",
       "      <td>39.973042</td>\n",
       "      <td>39.562448</td>\n",
       "      <td>39.665096</td>\n",
       "      <td>39673900</td>\n",
       "      <td>MSFT</td>\n",
       "      <td>1.572312e+09</td>\n",
       "    </tr>\n",
       "    <tr>\n",
       "      <th>2</th>\n",
       "      <td>2015-01-06</td>\n",
       "      <td>39.049206</td>\n",
       "      <td>39.990149</td>\n",
       "      <td>38.955111</td>\n",
       "      <td>39.673650</td>\n",
       "      <td>36447900</td>\n",
       "      <td>MSFT</td>\n",
       "      <td>1.423262e+09</td>\n",
       "    </tr>\n",
       "    <tr>\n",
       "      <th>3</th>\n",
       "      <td>2015-01-07</td>\n",
       "      <td>39.545338</td>\n",
       "      <td>39.742080</td>\n",
       "      <td>38.912340</td>\n",
       "      <td>39.331487</td>\n",
       "      <td>29114100</td>\n",
       "      <td>MSFT</td>\n",
       "      <td>1.151327e+09</td>\n",
       "    </tr>\n",
       "    <tr>\n",
       "      <th>4</th>\n",
       "      <td>2015-01-08</td>\n",
       "      <td>40.708694</td>\n",
       "      <td>40.845559</td>\n",
       "      <td>39.964494</td>\n",
       "      <td>39.990155</td>\n",
       "      <td>29645200</td>\n",
       "      <td>MSFT</td>\n",
       "      <td>1.206817e+09</td>\n",
       "    </tr>\n",
       "    <tr>\n",
       "      <th>...</th>\n",
       "      <td>...</td>\n",
       "      <td>...</td>\n",
       "      <td>...</td>\n",
       "      <td>...</td>\n",
       "      <td>...</td>\n",
       "      <td>...</td>\n",
       "      <td>...</td>\n",
       "      <td>...</td>\n",
       "    </tr>\n",
       "    <tr>\n",
       "      <th>15091</th>\n",
       "      <td>2024-12-24</td>\n",
       "      <td>257.578674</td>\n",
       "      <td>257.588630</td>\n",
       "      <td>254.675658</td>\n",
       "      <td>254.875189</td>\n",
       "      <td>23234700</td>\n",
       "      <td>AAPL</td>\n",
       "      <td>5.984763e+09</td>\n",
       "    </tr>\n",
       "    <tr>\n",
       "      <th>15092</th>\n",
       "      <td>2024-12-26</td>\n",
       "      <td>258.396667</td>\n",
       "      <td>259.474086</td>\n",
       "      <td>257.010028</td>\n",
       "      <td>257.568678</td>\n",
       "      <td>27237100</td>\n",
       "      <td>AAPL</td>\n",
       "      <td>7.037976e+09</td>\n",
       "    </tr>\n",
       "    <tr>\n",
       "      <th>15093</th>\n",
       "      <td>2024-12-27</td>\n",
       "      <td>254.974930</td>\n",
       "      <td>258.077462</td>\n",
       "      <td>252.451019</td>\n",
       "      <td>257.209530</td>\n",
       "      <td>42355300</td>\n",
       "      <td>AAPL</td>\n",
       "      <td>1.079954e+10</td>\n",
       "    </tr>\n",
       "    <tr>\n",
       "      <th>15094</th>\n",
       "      <td>2024-12-30</td>\n",
       "      <td>251.593094</td>\n",
       "      <td>252.889969</td>\n",
       "      <td>250.146586</td>\n",
       "      <td>251.623020</td>\n",
       "      <td>35557500</td>\n",
       "      <td>AAPL</td>\n",
       "      <td>8.946021e+09</td>\n",
       "    </tr>\n",
       "    <tr>\n",
       "      <th>15095</th>\n",
       "      <td>2024-12-31</td>\n",
       "      <td>249.817383</td>\n",
       "      <td>252.670501</td>\n",
       "      <td>248.829760</td>\n",
       "      <td>251.832526</td>\n",
       "      <td>39480700</td>\n",
       "      <td>AAPL</td>\n",
       "      <td>9.862965e+09</td>\n",
       "    </tr>\n",
       "  </tbody>\n",
       "</table>\n",
       "<p>15096 rows × 8 columns</p>\n",
       "</div>"
      ],
      "text/plain": [
       "            date       close        high         low        open    volume  \\\n",
       "0     2015-01-02   39.998707   40.563274   39.810520   39.913168  27913900   \n",
       "1     2015-01-05   39.630882   39.973042   39.562448   39.665096  39673900   \n",
       "2     2015-01-06   39.049206   39.990149   38.955111   39.673650  36447900   \n",
       "3     2015-01-07   39.545338   39.742080   38.912340   39.331487  29114100   \n",
       "4     2015-01-08   40.708694   40.845559   39.964494   39.990155  29645200   \n",
       "...          ...         ...         ...         ...         ...       ...   \n",
       "15091 2024-12-24  257.578674  257.588630  254.675658  254.875189  23234700   \n",
       "15092 2024-12-26  258.396667  259.474086  257.010028  257.568678  27237100   \n",
       "15093 2024-12-27  254.974930  258.077462  252.451019  257.209530  42355300   \n",
       "15094 2024-12-30  251.593094  252.889969  250.146586  251.623020  35557500   \n",
       "15095 2024-12-31  249.817383  252.670501  248.829760  251.832526  39480700   \n",
       "\n",
       "      ticker    dollar_vol  \n",
       "0       MSFT  1.116520e+09  \n",
       "1       MSFT  1.572312e+09  \n",
       "2       MSFT  1.423262e+09  \n",
       "3       MSFT  1.151327e+09  \n",
       "4       MSFT  1.206817e+09  \n",
       "...      ...           ...  \n",
       "15091   AAPL  5.984763e+09  \n",
       "15092   AAPL  7.037976e+09  \n",
       "15093   AAPL  1.079954e+10  \n",
       "15094   AAPL  8.946021e+09  \n",
       "15095   AAPL  9.862965e+09  \n",
       "\n",
       "[15096 rows x 8 columns]"
      ]
     },
     "execution_count": 114,
     "metadata": {},
     "output_type": "execute_result"
    }
   ],
   "source": [
    "data"
   ]
  },
  {
   "cell_type": "code",
   "execution_count": 115,
   "id": "87a72792",
   "metadata": {},
   "outputs": [],
   "source": [
    "data['dollar_vol_1m'] = (data.groupby('ticker')['dollar_vol']\n",
    "                           .rolling(window=21)\n",
    "                           .mean()).values"
   ]
  },
  {
   "cell_type": "code",
   "execution_count": 116,
   "id": "f64578e1",
   "metadata": {},
   "outputs": [
    {
     "name": "stdout",
     "output_type": "stream",
     "text": [
      "<class 'pandas.core.frame.DataFrame'>\n",
      "RangeIndex: 15096 entries, 0 to 15095\n",
      "Data columns (total 9 columns):\n",
      " #   Column         Non-Null Count  Dtype         \n",
      "---  ------         --------------  -----         \n",
      " 0   date           15096 non-null  datetime64[ns]\n",
      " 1   close          15096 non-null  float64       \n",
      " 2   high           15096 non-null  float64       \n",
      " 3   low            15096 non-null  float64       \n",
      " 4   open           15096 non-null  float64       \n",
      " 5   volume         15096 non-null  int64         \n",
      " 6   ticker         15096 non-null  object        \n",
      " 7   dollar_vol     15096 non-null  float64       \n",
      " 8   dollar_vol_1m  14976 non-null  float64       \n",
      "dtypes: datetime64[ns](1), float64(6), int64(1), object(1)\n",
      "memory usage: 1.0+ MB\n"
     ]
    }
   ],
   "source": [
    "data.info(show_counts=True)"
   ]
  },
  {
   "cell_type": "code",
   "execution_count": 117,
   "id": "2c53e856",
   "metadata": {},
   "outputs": [],
   "source": [
    "data['dollar_vol_rank'] = (data.groupby('date')\n",
    "                             .dollar_vol_1m\n",
    "                             .rank(ascending=False))"
   ]
  },
  {
   "cell_type": "code",
   "execution_count": 118,
   "id": "f931f9c5",
   "metadata": {},
   "outputs": [
    {
     "name": "stdout",
     "output_type": "stream",
     "text": [
      "<class 'pandas.core.frame.DataFrame'>\n",
      "RangeIndex: 15096 entries, 0 to 15095\n",
      "Data columns (total 10 columns):\n",
      " #   Column           Non-Null Count  Dtype         \n",
      "---  ------           --------------  -----         \n",
      " 0   date             15096 non-null  datetime64[ns]\n",
      " 1   close            15096 non-null  float64       \n",
      " 2   high             15096 non-null  float64       \n",
      " 3   low              15096 non-null  float64       \n",
      " 4   open             15096 non-null  float64       \n",
      " 5   volume           15096 non-null  int64         \n",
      " 6   ticker           15096 non-null  object        \n",
      " 7   dollar_vol       15096 non-null  float64       \n",
      " 8   dollar_vol_1m    14976 non-null  float64       \n",
      " 9   dollar_vol_rank  14976 non-null  float64       \n",
      "dtypes: datetime64[ns](1), float64(7), int64(1), object(1)\n",
      "memory usage: 1.2+ MB\n"
     ]
    }
   ],
   "source": [
    "data.info(show_counts=True)"
   ]
  },
  {
   "cell_type": "markdown",
   "id": "56ac9611",
   "metadata": {},
   "source": [
    "### Add some Basic Factors"
   ]
  },
  {
   "cell_type": "markdown",
   "id": "7b55f5d5",
   "metadata": {},
   "source": [
    "### Compute the Relative Strength Index"
   ]
  },
  {
   "cell_type": "code",
   "execution_count": 119,
   "id": "f118a2d1",
   "metadata": {},
   "outputs": [],
   "source": [
    "data['rsi'] = data.groupby('ticker')['close'].transform(RSI)"
   ]
  },
  {
   "cell_type": "markdown",
   "id": "d835f4d6",
   "metadata": {},
   "source": [
    "### Compute Bollinger Bands"
   ]
  },
  {
   "cell_type": "code",
   "execution_count": 120,
   "id": "17a02728",
   "metadata": {},
   "outputs": [],
   "source": [
    "def compute_bb(close_prices):\n",
    "    \"\"\"\n",
    "    Compute Bollinger Bands for a single ticker's close prices\n",
    "    Returns a DataFrame with bb_high and bb_low columns\n",
    "    \"\"\"\n",
    "    high, mid, low = BBANDS(close_prices, timeperiod=20)\n",
    "    return pd.DataFrame({\n",
    "        'bb_high': high, \n",
    "        'bb_low': low\n",
    "    }, index=close_prices.index)"
   ]
  },
  {
   "cell_type": "code",
   "execution_count": 121,
   "id": "1175e91d",
   "metadata": {},
   "outputs": [],
   "source": [
    "bb_results = data.groupby('ticker')['close'].apply(compute_bb)\n",
    "bb_results = bb_results.reset_index(level=0, drop=True) # Reset index to align with original data\n",
    "data = data.join(bb_results)"
   ]
  },
  {
   "cell_type": "code",
   "execution_count": 122,
   "id": "0c7f2245",
   "metadata": {},
   "outputs": [],
   "source": [
    "data['bb_high'] = data['bb_high'].sub(data['close']).div(data['bb_high']).apply(np.log1p)\n",
    "data['bb_low'] = data['close'].sub(data['bb_low']).div(data['close']).apply(np.log1p)"
   ]
  },
  {
   "cell_type": "markdown",
   "id": "9c494468",
   "metadata": {},
   "source": [
    "### Compute Average True Range"
   ]
  },
  {
   "cell_type": "code",
   "execution_count": 123,
   "id": "9f797dd1",
   "metadata": {},
   "outputs": [],
   "source": [
    "def compute_atr(stock_data):\n",
    "    \"\"\"\n",
    "    Compute normalized ATR for a single ticker\n",
    "    \"\"\"\n",
    "    try:\n",
    "        df = ATR(stock_data['high'], stock_data['low'], \n",
    "                 stock_data['close'], timeperiod=14)\n",
    "        return df.sub(df.mean()).div(df.std())\n",
    "    except:\n",
    "        return pd.Series(np.nan, index=stock_data.index)\n"
   ]
  },
  {
   "cell_type": "code",
   "execution_count": 124,
   "id": "4c694c26",
   "metadata": {},
   "outputs": [],
   "source": [
    "data['atr'] = data.groupby('ticker', group_keys=False).apply(compute_atr, include_groups=False)"
   ]
  },
  {
   "cell_type": "markdown",
   "id": "36f2707e",
   "metadata": {},
   "source": [
    "### Compute Moving Average\n",
    "### Convergance/Divergance"
   ]
  },
  {
   "cell_type": "code",
   "execution_count": 125,
   "id": "ebc1d52c",
   "metadata": {},
   "outputs": [],
   "source": [
    "def compute_macd(close_prices):\n",
    "    \"\"\"\n",
    "    Compute normalized MACD for a single ticker\n",
    "    \"\"\"\n",
    "    try:\n",
    "        macd = MACD(close_prices)[0]  # Get only the MACD line\n",
    "        return (macd - np.mean(macd)) / np.std(macd)\n",
    "    except:\n",
    "        return pd.Series(np.nan, index=close_prices.index)\n"
   ]
  },
  {
   "cell_type": "code",
   "execution_count": 126,
   "id": "ca696fa5",
   "metadata": {},
   "outputs": [],
   "source": [
    "data['macd'] = data.groupby('ticker')['close'].apply(compute_macd).reset_index(level=0, drop=True)"
   ]
  },
  {
   "cell_type": "markdown",
   "id": "9d56d973",
   "metadata": {},
   "source": [
    "### Compute Lagged Returns"
   ]
  },
  {
   "cell_type": "code",
   "execution_count": 127,
   "id": "8604be53",
   "metadata": {},
   "outputs": [],
   "source": [
    "lags = [1, 5, 10, 21, 42, 63]"
   ]
  },
  {
   "cell_type": "code",
   "execution_count": 128,
   "id": "b78c48c9",
   "metadata": {},
   "outputs": [
    {
     "data": {
      "text/html": [
       "<style type=\"text/css\">\n",
       "</style>\n",
       "<table id=\"T_540be\">\n",
       "  <thead>\n",
       "    <tr>\n",
       "      <th class=\"blank level0\" >&nbsp;</th>\n",
       "      <th id=\"T_540be_level0_col0\" class=\"col_heading level0 col0\" >percentiles</th>\n",
       "    </tr>\n",
       "  </thead>\n",
       "  <tbody>\n",
       "    <tr>\n",
       "      <th id=\"T_540be_level0_row0\" class=\"row_heading level0 row0\" >std</th>\n",
       "      <td id=\"T_540be_row0_col0\" class=\"data row0 col0\" >2.18%</td>\n",
       "    </tr>\n",
       "    <tr>\n",
       "      <th id=\"T_540be_level0_row1\" class=\"row_heading level0 row1\" >min</th>\n",
       "      <td id=\"T_540be_row1_col0\" class=\"data row1 col0\" >-26.39%</td>\n",
       "    </tr>\n",
       "    <tr>\n",
       "      <th id=\"T_540be_level0_row2\" class=\"row_heading level0 row2\" >0.01%</th>\n",
       "      <td id=\"T_540be_row2_col0\" class=\"data row2 col0\" >-21.71%</td>\n",
       "    </tr>\n",
       "    <tr>\n",
       "      <th id=\"T_540be_level0_row3\" class=\"row_heading level0 row3\" >0.1%</th>\n",
       "      <td id=\"T_540be_row3_col0\" class=\"data row3 col0\" >-9.95%</td>\n",
       "    </tr>\n",
       "    <tr>\n",
       "      <th id=\"T_540be_level0_row4\" class=\"row_heading level0 row4\" >1%</th>\n",
       "      <td id=\"T_540be_row4_col0\" class=\"data row4 col0\" >-5.74%</td>\n",
       "    </tr>\n",
       "    <tr>\n",
       "      <th id=\"T_540be_level0_row5\" class=\"row_heading level0 row5\" >50%</th>\n",
       "      <td id=\"T_540be_row5_col0\" class=\"data row5 col0\" >0.12%</td>\n",
       "    </tr>\n",
       "    <tr>\n",
       "      <th id=\"T_540be_level0_row6\" class=\"row_heading level0 row6\" >99%</th>\n",
       "      <td id=\"T_540be_row6_col0\" class=\"data row6 col0\" >6.41%</td>\n",
       "    </tr>\n",
       "    <tr>\n",
       "      <th id=\"T_540be_level0_row7\" class=\"row_heading level0 row7\" >99.9%</th>\n",
       "      <td id=\"T_540be_row7_col0\" class=\"data row7 col0\" >13.92%</td>\n",
       "    </tr>\n",
       "    <tr>\n",
       "      <th id=\"T_540be_level0_row8\" class=\"row_heading level0 row8\" >99.99%</th>\n",
       "      <td id=\"T_540be_row8_col0\" class=\"data row8 col0\" >23.82%</td>\n",
       "    </tr>\n",
       "    <tr>\n",
       "      <th id=\"T_540be_level0_row9\" class=\"row_heading level0 row9\" >max</th>\n",
       "      <td id=\"T_540be_row9_col0\" class=\"data row9 col0\" >29.81%</td>\n",
       "    </tr>\n",
       "  </tbody>\n",
       "</table>\n"
      ],
      "text/plain": [
       "<pandas.io.formats.style.Styler at 0x7b07c9026c30>"
      ]
     },
     "execution_count": 128,
     "metadata": {},
     "output_type": "execute_result"
    }
   ],
   "source": [
    "returns = data.groupby('ticker')['close'].pct_change()\n",
    "percentiles=[.0001, .001, .01]\n",
    "percentiles+= [1-p for p in percentiles]\n",
    "returns.describe(percentiles=percentiles).iloc[2:].to_frame('percentiles').style.format(lambda x: f'{x:,.2%}')"
   ]
  },
  {
   "cell_type": "code",
   "execution_count": 129,
   "id": "3818e5a0",
   "metadata": {},
   "outputs": [],
   "source": [
    "q = 0.0001"
   ]
  },
  {
   "cell_type": "markdown",
   "id": "004ec531",
   "metadata": {},
   "source": [
    "### Winsorize outliers"
   ]
  },
  {
   "cell_type": "code",
   "execution_count": 130,
   "id": "6726da15",
   "metadata": {},
   "outputs": [],
   "source": [
    "for lag in lags:\n",
    "    data[f'return_{lag}d'] = (data.groupby('ticker')['close']\n",
    "                                .pct_change(lag)\n",
    "                                .pipe(lambda x: x.clip(lower=x.quantile(q),\n",
    "                                                       upper=x.quantile(1 - q)))\n",
    "                                .add(1)\n",
    "                                .pow(1 / lag)\n",
    "                                .sub(1)\n",
    "                                )"
   ]
  },
  {
   "cell_type": "markdown",
   "id": "3c57d226",
   "metadata": {},
   "source": [
    "### Shift lagged outliers"
   ]
  },
  {
   "cell_type": "code",
   "execution_count": 131,
   "id": "dc8840a6",
   "metadata": {},
   "outputs": [],
   "source": [
    "for t in [1, 2, 3, 4, 5]:\n",
    "    for lag in [1, 5, 10, 21]:\n",
    "        data[f'return_{lag}d_lag{t}'] = (data.groupby('ticker')\n",
    "                                           [f'return_{lag}d'].shift(t * lag))"
   ]
  },
  {
   "cell_type": "markdown",
   "id": "25f9c252",
   "metadata": {},
   "source": [
    "### Compute forward returns"
   ]
  },
  {
   "cell_type": "code",
   "execution_count": 132,
   "id": "6baafb13",
   "metadata": {},
   "outputs": [],
   "source": [
    "for t in [1, 5, 10, 21]:\n",
    "    data[f'target_{t}d'] = data.groupby('ticker')[f'return_{t}d'].shift(-t)"
   ]
  },
  {
   "cell_type": "markdown",
   "id": "06d97b18",
   "metadata": {},
   "source": [
    "### Create year and month columns"
   ]
  },
  {
   "cell_type": "code",
   "execution_count": 133,
   "id": "343166bd",
   "metadata": {},
   "outputs": [],
   "source": [
    "data['year'] = data['date'].dt.year\n",
    "data['month'] = data['date'].dt.month"
   ]
  },
  {
   "cell_type": "code",
   "execution_count": 134,
   "id": "daeb8c45",
   "metadata": {},
   "outputs": [],
   "source": [
    "data = pd.get_dummies(data,\n",
    "                      columns=['year', 'month'],\n",
    "                      prefix=['year', 'month'],\n",
    "                      prefix_sep=['_', '_'],\n",
    "                      drop_first=True)"
   ]
  },
  {
   "cell_type": "code",
   "execution_count": 137,
   "id": "3726313d",
   "metadata": {},
   "outputs": [
    {
     "name": "stdout",
     "output_type": "stream",
     "text": [
      "date        0\n",
      "close       0\n",
      "high        0\n",
      "low         0\n",
      "open        0\n",
      "           ..\n",
      "month_8     0\n",
      "month_9     0\n",
      "month_10    0\n",
      "month_11    0\n",
      "month_12    0\n",
      "Length: 65, dtype: int64\n"
     ]
    }
   ],
   "source": [
    "print(data.isnull().sum())"
   ]
  }
 ],
 "metadata": {
  "kernelspec": {
   "display_name": "venv",
   "language": "python",
   "name": "python3"
  },
  "language_info": {
   "codemirror_mode": {
    "name": "ipython",
    "version": 3
   },
   "file_extension": ".py",
   "mimetype": "text/x-python",
   "name": "python",
   "nbconvert_exporter": "python",
   "pygments_lexer": "ipython3",
   "version": "3.12.3"
  }
 },
 "nbformat": 4,
 "nbformat_minor": 5
}
