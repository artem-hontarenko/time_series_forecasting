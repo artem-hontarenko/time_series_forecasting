{
 "cells": [
  {
   "cell_type": "code",
   "execution_count": 31,
   "id": "9524865f",
   "metadata": {},
   "outputs": [],
   "source": [
    "from time import time\n",
    "import pandas as pd\n",
    "import numpy as np\n",
    "\n",
    "from sklearn.ensemble import RandomForestRegressor\n",
    "from scipy.stats import spearmanr\n",
    "from sklearn.metrics import mean_squared_error\n",
    "import matplotlib.pyplot as plt\n",
    "from sklearn.model_selection import GridSearchCV\n",
    "from sklearn.metrics import make_scorer\n",
    "from matplotlib.ticker import FuncFormatter\n",
    "from xgboost import XGBRegressor  "
   ]
  },
  {
   "cell_type": "code",
   "execution_count": 32,
   "id": "60f3afb9",
   "metadata": {},
   "outputs": [],
   "source": [
    "df = pd.read_csv('data/stocks.csv')"
   ]
  },
  {
   "cell_type": "code",
   "execution_count": 33,
   "id": "3d4a5ccd",
   "metadata": {},
   "outputs": [
    {
     "data": {
      "text/html": [
       "<div>\n",
       "<style scoped>\n",
       "    .dataframe tbody tr th:only-of-type {\n",
       "        vertical-align: middle;\n",
       "    }\n",
       "\n",
       "    .dataframe tbody tr th {\n",
       "        vertical-align: top;\n",
       "    }\n",
       "\n",
       "    .dataframe thead th {\n",
       "        text-align: right;\n",
       "    }\n",
       "</style>\n",
       "<table border=\"1\" class=\"dataframe\">\n",
       "  <thead>\n",
       "    <tr style=\"text-align: right;\">\n",
       "      <th></th>\n",
       "      <th>date</th>\n",
       "      <th>close</th>\n",
       "      <th>high</th>\n",
       "      <th>low</th>\n",
       "      <th>open</th>\n",
       "      <th>volume</th>\n",
       "      <th>ticker</th>\n",
       "      <th>dollar_vol</th>\n",
       "      <th>dollar_vol_1m</th>\n",
       "      <th>dollar_vol_rank</th>\n",
       "      <th>...</th>\n",
       "      <th>month_3</th>\n",
       "      <th>month_4</th>\n",
       "      <th>month_5</th>\n",
       "      <th>month_6</th>\n",
       "      <th>month_7</th>\n",
       "      <th>month_8</th>\n",
       "      <th>month_9</th>\n",
       "      <th>month_10</th>\n",
       "      <th>month_11</th>\n",
       "      <th>month_12</th>\n",
       "    </tr>\n",
       "  </thead>\n",
       "  <tbody>\n",
       "    <tr>\n",
       "      <th>0</th>\n",
       "      <td>2015-07-06</td>\n",
       "      <td>38.426975</td>\n",
       "      <td>38.504885</td>\n",
       "      <td>38.046083</td>\n",
       "      <td>38.054738</td>\n",
       "      <td>23034000</td>\n",
       "      <td>MSFT</td>\n",
       "      <td>8.851269e+08</td>\n",
       "      <td>4.491610e+09</td>\n",
       "      <td>1.0</td>\n",
       "      <td>...</td>\n",
       "      <td>False</td>\n",
       "      <td>False</td>\n",
       "      <td>False</td>\n",
       "      <td>False</td>\n",
       "      <td>True</td>\n",
       "      <td>False</td>\n",
       "      <td>False</td>\n",
       "      <td>False</td>\n",
       "      <td>False</td>\n",
       "      <td>False</td>\n",
       "    </tr>\n",
       "    <tr>\n",
       "      <th>1</th>\n",
       "      <td>2015-07-07</td>\n",
       "      <td>38.349068</td>\n",
       "      <td>38.513547</td>\n",
       "      <td>37.500714</td>\n",
       "      <td>38.383695</td>\n",
       "      <td>36435800</td>\n",
       "      <td>MSFT</td>\n",
       "      <td>1.397279e+09</td>\n",
       "      <td>4.547745e+09</td>\n",
       "      <td>1.0</td>\n",
       "      <td>...</td>\n",
       "      <td>False</td>\n",
       "      <td>False</td>\n",
       "      <td>False</td>\n",
       "      <td>False</td>\n",
       "      <td>True</td>\n",
       "      <td>False</td>\n",
       "      <td>False</td>\n",
       "      <td>False</td>\n",
       "      <td>False</td>\n",
       "      <td>False</td>\n",
       "    </tr>\n",
       "    <tr>\n",
       "      <th>2</th>\n",
       "      <td>2015-07-08</td>\n",
       "      <td>38.297127</td>\n",
       "      <td>38.868467</td>\n",
       "      <td>38.115334</td>\n",
       "      <td>38.470258</td>\n",
       "      <td>39785900</td>\n",
       "      <td>MSFT</td>\n",
       "      <td>1.523686e+09</td>\n",
       "      <td>4.578243e+09</td>\n",
       "      <td>1.0</td>\n",
       "      <td>...</td>\n",
       "      <td>False</td>\n",
       "      <td>False</td>\n",
       "      <td>False</td>\n",
       "      <td>False</td>\n",
       "      <td>True</td>\n",
       "      <td>False</td>\n",
       "      <td>False</td>\n",
       "      <td>False</td>\n",
       "      <td>False</td>\n",
       "      <td>False</td>\n",
       "    </tr>\n",
       "    <tr>\n",
       "      <th>3</th>\n",
       "      <td>2015-07-09</td>\n",
       "      <td>38.539524</td>\n",
       "      <td>39.145492</td>\n",
       "      <td>38.522210</td>\n",
       "      <td>38.738627</td>\n",
       "      <td>32424700</td>\n",
       "      <td>MSFT</td>\n",
       "      <td>1.249633e+09</td>\n",
       "      <td>4.675900e+09</td>\n",
       "      <td>1.0</td>\n",
       "      <td>...</td>\n",
       "      <td>False</td>\n",
       "      <td>False</td>\n",
       "      <td>False</td>\n",
       "      <td>False</td>\n",
       "      <td>True</td>\n",
       "      <td>False</td>\n",
       "      <td>False</td>\n",
       "      <td>False</td>\n",
       "      <td>False</td>\n",
       "      <td>False</td>\n",
       "    </tr>\n",
       "    <tr>\n",
       "      <th>4</th>\n",
       "      <td>2015-07-10</td>\n",
       "      <td>38.617428</td>\n",
       "      <td>39.076231</td>\n",
       "      <td>38.582800</td>\n",
       "      <td>38.963693</td>\n",
       "      <td>25465800</td>\n",
       "      <td>MSFT</td>\n",
       "      <td>9.834237e+08</td>\n",
       "      <td>4.783547e+09</td>\n",
       "      <td>1.0</td>\n",
       "      <td>...</td>\n",
       "      <td>False</td>\n",
       "      <td>False</td>\n",
       "      <td>False</td>\n",
       "      <td>False</td>\n",
       "      <td>True</td>\n",
       "      <td>False</td>\n",
       "      <td>False</td>\n",
       "      <td>False</td>\n",
       "      <td>False</td>\n",
       "      <td>False</td>\n",
       "    </tr>\n",
       "    <tr>\n",
       "      <th>...</th>\n",
       "      <td>...</td>\n",
       "      <td>...</td>\n",
       "      <td>...</td>\n",
       "      <td>...</td>\n",
       "      <td>...</td>\n",
       "      <td>...</td>\n",
       "      <td>...</td>\n",
       "      <td>...</td>\n",
       "      <td>...</td>\n",
       "      <td>...</td>\n",
       "      <td>...</td>\n",
       "      <td>...</td>\n",
       "      <td>...</td>\n",
       "      <td>...</td>\n",
       "      <td>...</td>\n",
       "      <td>...</td>\n",
       "      <td>...</td>\n",
       "      <td>...</td>\n",
       "      <td>...</td>\n",
       "      <td>...</td>\n",
       "      <td>...</td>\n",
       "    </tr>\n",
       "    <tr>\n",
       "      <th>21316</th>\n",
       "      <td>2024-11-22</td>\n",
       "      <td>229.056870</td>\n",
       "      <td>229.903869</td>\n",
       "      <td>227.253275</td>\n",
       "      <td>227.253275</td>\n",
       "      <td>38168300</td>\n",
       "      <td>AAPL</td>\n",
       "      <td>8.742711e+09</td>\n",
       "      <td>3.370178e+10</td>\n",
       "      <td>1.0</td>\n",
       "      <td>...</td>\n",
       "      <td>False</td>\n",
       "      <td>False</td>\n",
       "      <td>False</td>\n",
       "      <td>False</td>\n",
       "      <td>False</td>\n",
       "      <td>False</td>\n",
       "      <td>False</td>\n",
       "      <td>False</td>\n",
       "      <td>True</td>\n",
       "      <td>False</td>\n",
       "    </tr>\n",
       "    <tr>\n",
       "      <th>21317</th>\n",
       "      <td>2024-11-25</td>\n",
       "      <td>232.046249</td>\n",
       "      <td>232.424910</td>\n",
       "      <td>228.927332</td>\n",
       "      <td>230.641249</td>\n",
       "      <td>90152800</td>\n",
       "      <td>AAPL</td>\n",
       "      <td>2.091962e+10</td>\n",
       "      <td>3.317622e+10</td>\n",
       "      <td>1.0</td>\n",
       "      <td>...</td>\n",
       "      <td>False</td>\n",
       "      <td>False</td>\n",
       "      <td>False</td>\n",
       "      <td>False</td>\n",
       "      <td>False</td>\n",
       "      <td>False</td>\n",
       "      <td>False</td>\n",
       "      <td>False</td>\n",
       "      <td>True</td>\n",
       "      <td>False</td>\n",
       "    </tr>\n",
       "    <tr>\n",
       "      <th>21318</th>\n",
       "      <td>2024-11-26</td>\n",
       "      <td>234.228500</td>\n",
       "      <td>234.736706</td>\n",
       "      <td>232.504624</td>\n",
       "      <td>232.504624</td>\n",
       "      <td>45986200</td>\n",
       "      <td>AAPL</td>\n",
       "      <td>1.077128e+10</td>\n",
       "      <td>3.283385e+10</td>\n",
       "      <td>1.0</td>\n",
       "      <td>...</td>\n",
       "      <td>False</td>\n",
       "      <td>False</td>\n",
       "      <td>False</td>\n",
       "      <td>False</td>\n",
       "      <td>False</td>\n",
       "      <td>False</td>\n",
       "      <td>False</td>\n",
       "      <td>False</td>\n",
       "      <td>True</td>\n",
       "      <td>False</td>\n",
       "    </tr>\n",
       "    <tr>\n",
       "      <th>21319</th>\n",
       "      <td>2024-11-27</td>\n",
       "      <td>234.098953</td>\n",
       "      <td>234.856275</td>\n",
       "      <td>232.982920</td>\n",
       "      <td>233.640589</td>\n",
       "      <td>33498400</td>\n",
       "      <td>AAPL</td>\n",
       "      <td>7.841940e+09</td>\n",
       "      <td>3.275652e+10</td>\n",
       "      <td>1.0</td>\n",
       "      <td>...</td>\n",
       "      <td>False</td>\n",
       "      <td>False</td>\n",
       "      <td>False</td>\n",
       "      <td>False</td>\n",
       "      <td>False</td>\n",
       "      <td>False</td>\n",
       "      <td>False</td>\n",
       "      <td>False</td>\n",
       "      <td>True</td>\n",
       "      <td>False</td>\n",
       "    </tr>\n",
       "    <tr>\n",
       "      <th>21320</th>\n",
       "      <td>2024-11-29</td>\n",
       "      <td>236.490479</td>\n",
       "      <td>236.968776</td>\n",
       "      <td>233.142363</td>\n",
       "      <td>233.979388</td>\n",
       "      <td>28481400</td>\n",
       "      <td>AAPL</td>\n",
       "      <td>6.735580e+09</td>\n",
       "      <td>3.270522e+10</td>\n",
       "      <td>1.0</td>\n",
       "      <td>...</td>\n",
       "      <td>False</td>\n",
       "      <td>False</td>\n",
       "      <td>False</td>\n",
       "      <td>False</td>\n",
       "      <td>False</td>\n",
       "      <td>False</td>\n",
       "      <td>False</td>\n",
       "      <td>False</td>\n",
       "      <td>True</td>\n",
       "      <td>False</td>\n",
       "    </tr>\n",
       "  </tbody>\n",
       "</table>\n",
       "<p>21321 rows × 49 columns</p>\n",
       "</div>"
      ],
      "text/plain": [
       "             date       close        high         low        open    volume  \\\n",
       "0      2015-07-06   38.426975   38.504885   38.046083   38.054738  23034000   \n",
       "1      2015-07-07   38.349068   38.513547   37.500714   38.383695  36435800   \n",
       "2      2015-07-08   38.297127   38.868467   38.115334   38.470258  39785900   \n",
       "3      2015-07-09   38.539524   39.145492   38.522210   38.738627  32424700   \n",
       "4      2015-07-10   38.617428   39.076231   38.582800   38.963693  25465800   \n",
       "...           ...         ...         ...         ...         ...       ...   \n",
       "21316  2024-11-22  229.056870  229.903869  227.253275  227.253275  38168300   \n",
       "21317  2024-11-25  232.046249  232.424910  228.927332  230.641249  90152800   \n",
       "21318  2024-11-26  234.228500  234.736706  232.504624  232.504624  45986200   \n",
       "21319  2024-11-27  234.098953  234.856275  232.982920  233.640589  33498400   \n",
       "21320  2024-11-29  236.490479  236.968776  233.142363  233.979388  28481400   \n",
       "\n",
       "      ticker    dollar_vol  dollar_vol_1m  dollar_vol_rank  ...  month_3  \\\n",
       "0       MSFT  8.851269e+08   4.491610e+09              1.0  ...    False   \n",
       "1       MSFT  1.397279e+09   4.547745e+09              1.0  ...    False   \n",
       "2       MSFT  1.523686e+09   4.578243e+09              1.0  ...    False   \n",
       "3       MSFT  1.249633e+09   4.675900e+09              1.0  ...    False   \n",
       "4       MSFT  9.834237e+08   4.783547e+09              1.0  ...    False   \n",
       "...      ...           ...            ...              ...  ...      ...   \n",
       "21316   AAPL  8.742711e+09   3.370178e+10              1.0  ...    False   \n",
       "21317   AAPL  2.091962e+10   3.317622e+10              1.0  ...    False   \n",
       "21318   AAPL  1.077128e+10   3.283385e+10              1.0  ...    False   \n",
       "21319   AAPL  7.841940e+09   3.275652e+10              1.0  ...    False   \n",
       "21320   AAPL  6.735580e+09   3.270522e+10              1.0  ...    False   \n",
       "\n",
       "       month_4  month_5  month_6  month_7  month_8  month_9  month_10  \\\n",
       "0        False    False    False     True    False    False     False   \n",
       "1        False    False    False     True    False    False     False   \n",
       "2        False    False    False     True    False    False     False   \n",
       "3        False    False    False     True    False    False     False   \n",
       "4        False    False    False     True    False    False     False   \n",
       "...        ...      ...      ...      ...      ...      ...       ...   \n",
       "21316    False    False    False    False    False    False     False   \n",
       "21317    False    False    False    False    False    False     False   \n",
       "21318    False    False    False    False    False    False     False   \n",
       "21319    False    False    False    False    False    False     False   \n",
       "21320    False    False    False    False    False    False     False   \n",
       "\n",
       "       month_11  month_12  \n",
       "0         False     False  \n",
       "1         False     False  \n",
       "2         False     False  \n",
       "3         False     False  \n",
       "4         False     False  \n",
       "...         ...       ...  \n",
       "21316      True     False  \n",
       "21317      True     False  \n",
       "21318      True     False  \n",
       "21319      True     False  \n",
       "21320      True     False  \n",
       "\n",
       "[21321 rows x 49 columns]"
      ]
     },
     "execution_count": 33,
     "metadata": {},
     "output_type": "execute_result"
    }
   ],
   "source": [
    "df"
   ]
  },
  {
   "cell_type": "code",
   "execution_count": 34,
   "id": "24c0f7d6",
   "metadata": {},
   "outputs": [
    {
     "data": {
      "text/plain": [
       "Index(['date', 'close', 'high', 'low', 'open', 'volume', 'ticker',\n",
       "       'dollar_vol', 'dollar_vol_1m', 'dollar_vol_rank', 'rsi', 'bb_high',\n",
       "       'bb_low', 'atr', 'macd', 'return_1d', 'return_5d', 'return_10d',\n",
       "       'return_21d', 'return_42d', 'return_63d', 'lag_return_1d',\n",
       "       'lag_return_5d', 'lag_return_10d', 'lag_return_21d', 'target_1d',\n",
       "       'target_5d', 'target_10d', 'target_21d', 'year_2016', 'year_2017',\n",
       "       'year_2018', 'year_2019', 'year_2020', 'year_2021', 'year_2022',\n",
       "       'year_2023', 'year_2024', 'month_2', 'month_3', 'month_4', 'month_5',\n",
       "       'month_6', 'month_7', 'month_8', 'month_9', 'month_10', 'month_11',\n",
       "       'month_12'],\n",
       "      dtype='object')"
      ]
     },
     "execution_count": 34,
     "metadata": {},
     "output_type": "execute_result"
    }
   ],
   "source": [
    "df.columns"
   ]
  },
  {
   "cell_type": "code",
   "execution_count": 35,
   "id": "63e3e4e5",
   "metadata": {},
   "outputs": [
    {
     "name": "stdout",
     "output_type": "stream",
     "text": [
      "Columns to drop: ['lag_return_1d', 'lag_return_5d', 'lag_return_10d', 'lag_return_21d', 'open', 'close', 'high', 'low', 'dollar_vol', 'dollar_vol_rank', 'volume', 'year_2016', 'year_2017', 'year_2018', 'year_2019', 'year_2020', 'year_2021', 'year_2022', 'year_2023', 'year_2024', 'month_2', 'month_3', 'month_4', 'month_5', 'month_6', 'month_7', 'month_8', 'month_9', 'month_10', 'month_11', 'month_12']\n",
      "Available columns: ['date', 'close', 'high', 'low', 'open', 'volume', 'ticker', 'dollar_vol', 'dollar_vol_1m', 'dollar_vol_rank', 'rsi', 'bb_high', 'bb_low', 'atr', 'macd', 'return_1d', 'return_5d', 'return_10d', 'return_21d', 'return_42d', 'return_63d', 'lag_return_1d', 'lag_return_5d', 'lag_return_10d', 'lag_return_21d', 'target_1d', 'target_5d', 'target_10d', 'target_21d', 'year_2016', 'year_2017', 'year_2018', 'year_2019', 'year_2020', 'year_2021', 'year_2022', 'year_2023', 'year_2024', 'month_2', 'month_3', 'month_4', 'month_5', 'month_6', 'month_7', 'month_8', 'month_9', 'month_10', 'month_11', 'month_12']\n",
      "Dropped 31 columns\n"
     ]
    }
   ],
   "source": [
    "columns_to_drop = [c for c in df.columns if 'lag' in c] + ['open', 'close', 'high', 'low', 'dollar_vol', 'dollar_vol_rank', 'volume'] + [c for c in df.columns if 'year' in c] + [c for c in df.columns if 'month' in c]\n",
    "print(f\"Columns to drop: {columns_to_drop}\")\n",
    "print(f\"Available columns: {list(df.columns)}\")\n",
    "\n",
    "# Only drop columns that actually exist\n",
    "existing_lag_columns = [c for c in columns_to_drop if c in df.columns]\n",
    "if existing_lag_columns:\n",
    "    df = df.drop(existing_lag_columns, axis=1)\n",
    "    print(f\"Dropped {len(existing_lag_columns)} columns\")\n",
    "else:\n",
    "    print(\"No lag columns found to drop\")"
   ]
  },
  {
   "cell_type": "code",
   "execution_count": 36,
   "id": "ac126071",
   "metadata": {},
   "outputs": [
    {
     "data": {
      "text/plain": [
       "Index(['date', 'ticker', 'dollar_vol_1m', 'rsi', 'bb_high', 'bb_low', 'atr',\n",
       "       'macd', 'return_1d', 'return_5d', 'return_10d', 'return_21d',\n",
       "       'return_42d', 'return_63d', 'target_1d', 'target_5d', 'target_10d',\n",
       "       'target_21d'],\n",
       "      dtype='object')"
      ]
     },
     "execution_count": 36,
     "metadata": {},
     "output_type": "execute_result"
    }
   ],
   "source": [
    "df.columns"
   ]
  },
  {
   "cell_type": "code",
   "execution_count": 37,
   "id": "7c293c1f",
   "metadata": {},
   "outputs": [],
   "source": [
    "df.set_index(['ticker', 'date'], inplace=True)"
   ]
  },
  {
   "cell_type": "markdown",
   "id": "3e608dce",
   "metadata": {},
   "source": [
    "### Split data"
   ]
  },
  {
   "cell_type": "code",
   "execution_count": 38,
   "id": "483cbc49",
   "metadata": {},
   "outputs": [
    {
     "data": {
      "text/plain": [
       "Index(['2015-07-06', '2015-07-07', '2015-07-08', '2015-07-09', '2015-07-10',\n",
       "       '2015-07-13', '2015-07-14', '2015-07-15', '2015-07-16', '2015-07-17',\n",
       "       ...\n",
       "       '2024-11-15', '2024-11-18', '2024-11-19', '2024-11-20', '2024-11-21',\n",
       "       '2024-11-22', '2024-11-25', '2024-11-26', '2024-11-27', '2024-11-29'],\n",
       "      dtype='object', name='date', length=2369)"
      ]
     },
     "execution_count": 38,
     "metadata": {},
     "output_type": "execute_result"
    }
   ],
   "source": [
    "dates_available = df.index.get_level_values('date').unique()\n",
    "dates_available"
   ]
  },
  {
   "cell_type": "code",
   "execution_count": 39,
   "id": "545c2ff0",
   "metadata": {},
   "outputs": [
    {
     "data": {
      "text/plain": [
       "1895"
      ]
     },
     "execution_count": 39,
     "metadata": {},
     "output_type": "execute_result"
    }
   ],
   "source": [
    "split_index_id = int(np.floor(len(dates_available) * 0.8))\n",
    "split_index_id"
   ]
  },
  {
   "cell_type": "markdown",
   "id": "f2ef33db",
   "metadata": {},
   "source": [
    "split_index_id = int(np.floor(len(dates_available) * 0.8))\n",
    "split_index_id"
   ]
  },
  {
   "cell_type": "code",
   "execution_count": 40,
   "id": "44fcacfa",
   "metadata": {},
   "outputs": [
    {
     "data": {
      "text/plain": [
       "'2023-01-12'"
      ]
     },
     "execution_count": 40,
     "metadata": {},
     "output_type": "execute_result"
    }
   ],
   "source": [
    "split_date = dates_available[split_index_id]\n",
    "split_date"
   ]
  },
  {
   "cell_type": "code",
   "execution_count": 41,
   "id": "5325606b",
   "metadata": {},
   "outputs": [],
   "source": [
    "train_df = df[df.index.get_level_values('date') < split_date]\n",
    "test_df = df[df.index.get_level_values('date') >= split_date]"
   ]
  },
  {
   "cell_type": "code",
   "execution_count": 42,
   "id": "c476b40f",
   "metadata": {},
   "outputs": [
    {
     "name": "stdout",
     "output_type": "stream",
     "text": [
      "(17055, 16)\n",
      "(4266, 16)\n"
     ]
    }
   ],
   "source": [
    "print(train_df.shape)\n",
    "print(test_df.shape)"
   ]
  },
  {
   "cell_type": "code",
   "execution_count": 43,
   "id": "250dcb5f",
   "metadata": {},
   "outputs": [],
   "source": [
    "y_train = train_df.filter(like='target')\n",
    "y_test = test_df.filter(like='target')\n",
    "X_train = train_df.drop(y_train.columns, axis=1)\n",
    "X_test = test_df.drop(y_test.columns, axis=1)"
   ]
  },
  {
   "cell_type": "code",
   "execution_count": 44,
   "id": "e6d8ff50",
   "metadata": {},
   "outputs": [
    {
     "name": "stdout",
     "output_type": "stream",
     "text": [
      "(17055, 12)\n",
      "(4266, 12)\n",
      "(17055, 4)\n",
      "(4266, 4)\n"
     ]
    }
   ],
   "source": [
    "print(X_train.shape)\n",
    "print(X_test.shape)\n",
    "print(y_train.shape)\n",
    "print(y_test.shape)"
   ]
  },
  {
   "cell_type": "code",
   "execution_count": 45,
   "id": "c486a79c",
   "metadata": {},
   "outputs": [],
   "source": [
    "class CV:\n",
    "    \"\"\"Generate tuples of train-idx, test_idx pairs\"\"\"\n",
    "    def __init__(self,\n",
    "            n_splits=3,\n",
    "            train_period_length=63,\n",
    "            test_period_length=10,\n",
    "            lookahead=None):\n",
    "        self.n_splits = n_splits\n",
    "        self.train_length = train_period_length\n",
    "        self.test_length = test_period_length\n",
    "        self.lookahead = lookahead\n",
    "\n",
    "    def split(self, X, y=None, groups=None):   # <-- added groups\n",
    "        unique_dates = X.index.get_level_values('date').unique()\n",
    "        dates_df = X.reset_index()[['date']]\n",
    "        days = sorted(unique_dates, reverse=True)\n",
    "\n",
    "        split_idx = []\n",
    "        for i in range(self.n_splits):\n",
    "            test_end_idx = i * self.test_length\n",
    "            test_start_idx = test_end_idx + self.test_length\n",
    "            train_end_idx = test_start_idx + self.lookahead - 1\n",
    "            train_start_idx = train_end_idx + self.train_length + self.lookahead - 1\n",
    "            split_idx.append([train_start_idx, train_end_idx,\n",
    "                              test_start_idx, test_end_idx])\n",
    "\n",
    "        for train_start, train_end, test_start, test_end in split_idx:\n",
    "            if train_start >= len(days) or test_end < 0:\n",
    "                continue\n",
    "            train_idx = dates_df[(dates_df.date > days[train_start])\n",
    "                                 & (dates_df.date <= days[train_end])].index\n",
    "            test_idx = dates_df[(dates_df.date > days[test_start])\n",
    "                                & (dates_df.date <= days[test_end])].index\n",
    "            if len(train_idx) > 0 and len(test_idx) > 0:\n",
    "                yield train_idx, test_idx"
   ]
  },
  {
   "cell_type": "code",
   "execution_count": 46,
   "id": "8f268cf3",
   "metadata": {},
   "outputs": [],
   "source": [
    "train_period_length = 63\n",
    "test_period_length = 10\n",
    "n_splits = int(len(X_train.index.get_level_values('date').unique()) / test_period_length) \n",
    "lookahead = 1\n",
    "\n",
    "cv = CV(n_splits=n_splits,\n",
    "        train_period_length=train_period_length,  \n",
    "        test_period_length=test_period_length,    \n",
    "        lookahead=lookahead)"
   ]
  },
  {
   "cell_type": "code",
   "execution_count": 47,
   "id": "9e64cad4",
   "metadata": {},
   "outputs": [
    {
     "name": "stdout",
     "output_type": "stream",
     "text": [
      "Split 1: 63 2022-09-28 to 2022-12-27, 10 2022-12-28 to 2023-01-11\n",
      "Split 2: 63 2022-09-14 to 2022-12-12, 10 2022-12-13 to 2022-12-27\n",
      "Split 3: 63 2022-08-30 to 2022-11-28, 10 2022-11-29 to 2022-12-12\n"
     ]
    },
    {
     "name": "stdout",
     "output_type": "stream",
     "text": [
      "Split 4: 63 2022-08-16 to 2022-11-11, 10 2022-11-14 to 2022-11-28\n",
      "Split 5: 63 2022-08-02 to 2022-10-28, 10 2022-10-31 to 2022-11-11\n",
      "Split 6: 63 2022-07-19 to 2022-10-14, 10 2022-10-17 to 2022-10-28\n",
      "Split 7: 63 2022-07-05 to 2022-09-30, 10 2022-10-03 to 2022-10-14\n",
      "Split 8: 63 2022-06-17 to 2022-09-16, 10 2022-09-19 to 2022-09-30\n",
      "Split 9: 63 2022-06-03 to 2022-09-01, 10 2022-09-02 to 2022-09-16\n",
      "Split 10: 63 2022-05-19 to 2022-08-18, 10 2022-08-19 to 2022-09-01\n"
     ]
    }
   ],
   "source": [
    "i = 0\n",
    "for train_idx, test_idx in cv.split(X=X_train):\n",
    "    train = X_train.iloc[train_idx]\n",
    "    test = X_train.iloc[test_idx]\n",
    "    \n",
    "    # Get actual date values\n",
    "    train_dates = train.reset_index()['date']\n",
    "    test_dates = test.reset_index()['date']\n",
    "    \n",
    "    # Count stocks per period and show date ranges\n",
    "    train_stock_count = len(train['ticker'].unique()) if 'ticker' in train.columns else len(train)\n",
    "    test_stock_count = len(test['ticker'].unique()) if 'ticker' in test.columns else len(test)\n",
    "    \n",
    "    print(f\"Split {i+1}: 63 {train_dates.min()} to {train_dates.max()}, \"\n",
    "          f\"10 {test_dates.min()} to {test_dates.max()}\")\n",
    "    \n",
    "    i += 1\n",
    "    if i == 10:\n",
    "        break"
   ]
  },
  {
   "cell_type": "code",
   "execution_count": 48,
   "id": "cc0e8679",
   "metadata": {},
   "outputs": [
    {
     "data": {
      "text/plain": [
       "'target_1d'"
      ]
     },
     "execution_count": 48,
     "metadata": {},
     "output_type": "execute_result"
    }
   ],
   "source": [
    "target = f'target_{lookahead}d'\n",
    "target"
   ]
  },
  {
   "cell_type": "code",
   "execution_count": 91,
   "id": "aa4a5b21",
   "metadata": {},
   "outputs": [
    {
     "name": "stdout",
     "output_type": "stream",
     "text": [
      "Training rows (with target): 17055 | Features: 12\n",
      "Fitting 183 folds for each of 4 candidates, totalling 732 fits\n"
     ]
    },
    {
     "data": {
      "text/html": [
       "<div>\n",
       "<style scoped>\n",
       "    .dataframe tbody tr th:only-of-type {\n",
       "        vertical-align: middle;\n",
       "    }\n",
       "\n",
       "    .dataframe tbody tr th {\n",
       "        vertical-align: top;\n",
       "    }\n",
       "\n",
       "    .dataframe thead th {\n",
       "        text-align: right;\n",
       "    }\n",
       "</style>\n",
       "<table border=\"1\" class=\"dataframe\">\n",
       "  <thead>\n",
       "    <tr style=\"text-align: right;\">\n",
       "      <th></th>\n",
       "      <th>mean_fit_time</th>\n",
       "      <th>std_fit_time</th>\n",
       "      <th>mean_score_time</th>\n",
       "      <th>std_score_time</th>\n",
       "      <th>param_colsample_bytree</th>\n",
       "      <th>param_learning_rate</th>\n",
       "      <th>param_max_depth</th>\n",
       "      <th>param_min_child_weight</th>\n",
       "      <th>param_subsample</th>\n",
       "      <th>params</th>\n",
       "      <th>...</th>\n",
       "      <th>split176_test_score</th>\n",
       "      <th>split177_test_score</th>\n",
       "      <th>split178_test_score</th>\n",
       "      <th>split179_test_score</th>\n",
       "      <th>split180_test_score</th>\n",
       "      <th>split181_test_score</th>\n",
       "      <th>split182_test_score</th>\n",
       "      <th>mean_test_score</th>\n",
       "      <th>std_test_score</th>\n",
       "      <th>rank_test_score</th>\n",
       "    </tr>\n",
       "  </thead>\n",
       "  <tbody>\n",
       "    <tr>\n",
       "      <th>0</th>\n",
       "      <td>3.369855</td>\n",
       "      <td>0.047849</td>\n",
       "      <td>0.027390</td>\n",
       "      <td>0.004646</td>\n",
       "      <td>0.7</td>\n",
       "      <td>0.10</td>\n",
       "      <td>4</td>\n",
       "      <td>3</td>\n",
       "      <td>0.7</td>\n",
       "      <td>{'colsample_bytree': 0.7, 'learning_rate': 0.1...</td>\n",
       "      <td>...</td>\n",
       "      <td>0.237486</td>\n",
       "      <td>0.051554</td>\n",
       "      <td>0.051340</td>\n",
       "      <td>0.140058</td>\n",
       "      <td>-0.033148</td>\n",
       "      <td>0.054978</td>\n",
       "      <td>0.079936</td>\n",
       "      <td>0.048139</td>\n",
       "      <td>0.125808</td>\n",
       "      <td>1</td>\n",
       "    </tr>\n",
       "    <tr>\n",
       "      <th>1</th>\n",
       "      <td>4.414004</td>\n",
       "      <td>0.049276</td>\n",
       "      <td>0.029583</td>\n",
       "      <td>0.004139</td>\n",
       "      <td>0.7</td>\n",
       "      <td>0.03</td>\n",
       "      <td>6</td>\n",
       "      <td>3</td>\n",
       "      <td>0.7</td>\n",
       "      <td>{'colsample_bytree': 0.7, 'learning_rate': 0.0...</td>\n",
       "      <td>...</td>\n",
       "      <td>0.207902</td>\n",
       "      <td>-0.000305</td>\n",
       "      <td>0.044442</td>\n",
       "      <td>0.139219</td>\n",
       "      <td>0.016702</td>\n",
       "      <td>0.010396</td>\n",
       "      <td>-0.008289</td>\n",
       "      <td>0.038925</td>\n",
       "      <td>0.132714</td>\n",
       "      <td>2</td>\n",
       "    </tr>\n",
       "    <tr>\n",
       "      <th>2</th>\n",
       "      <td>4.342878</td>\n",
       "      <td>0.390629</td>\n",
       "      <td>0.029022</td>\n",
       "      <td>0.006101</td>\n",
       "      <td>0.7</td>\n",
       "      <td>0.10</td>\n",
       "      <td>6</td>\n",
       "      <td>3</td>\n",
       "      <td>0.7</td>\n",
       "      <td>{'colsample_bytree': 0.7, 'learning_rate': 0.1...</td>\n",
       "      <td>...</td>\n",
       "      <td>0.173956</td>\n",
       "      <td>0.048640</td>\n",
       "      <td>-0.104449</td>\n",
       "      <td>0.161773</td>\n",
       "      <td>-0.025493</td>\n",
       "      <td>0.007729</td>\n",
       "      <td>-0.013179</td>\n",
       "      <td>0.037212</td>\n",
       "      <td>0.133683</td>\n",
       "      <td>3</td>\n",
       "    </tr>\n",
       "    <tr>\n",
       "      <th>3</th>\n",
       "      <td>3.562446</td>\n",
       "      <td>0.672217</td>\n",
       "      <td>0.027183</td>\n",
       "      <td>0.005267</td>\n",
       "      <td>0.7</td>\n",
       "      <td>0.03</td>\n",
       "      <td>4</td>\n",
       "      <td>3</td>\n",
       "      <td>0.7</td>\n",
       "      <td>{'colsample_bytree': 0.7, 'learning_rate': 0.0...</td>\n",
       "      <td>...</td>\n",
       "      <td>0.277656</td>\n",
       "      <td>0.000469</td>\n",
       "      <td>0.130345</td>\n",
       "      <td>0.083912</td>\n",
       "      <td>-0.080331</td>\n",
       "      <td>-0.002642</td>\n",
       "      <td>-0.142496</td>\n",
       "      <td>0.036784</td>\n",
       "      <td>0.134582</td>\n",
       "      <td>4</td>\n",
       "    </tr>\n",
       "  </tbody>\n",
       "</table>\n",
       "<p>4 rows × 196 columns</p>\n",
       "</div>"
      ],
      "text/plain": [
       "   mean_fit_time  std_fit_time  mean_score_time  std_score_time  \\\n",
       "0       3.369855      0.047849         0.027390        0.004646   \n",
       "1       4.414004      0.049276         0.029583        0.004139   \n",
       "2       4.342878      0.390629         0.029022        0.006101   \n",
       "3       3.562446      0.672217         0.027183        0.005267   \n",
       "\n",
       "   param_colsample_bytree  param_learning_rate  param_max_depth  \\\n",
       "0                     0.7                 0.10                4   \n",
       "1                     0.7                 0.03                6   \n",
       "2                     0.7                 0.10                6   \n",
       "3                     0.7                 0.03                4   \n",
       "\n",
       "   param_min_child_weight  param_subsample  \\\n",
       "0                       3              0.7   \n",
       "1                       3              0.7   \n",
       "2                       3              0.7   \n",
       "3                       3              0.7   \n",
       "\n",
       "                                              params  ...  \\\n",
       "0  {'colsample_bytree': 0.7, 'learning_rate': 0.1...  ...   \n",
       "1  {'colsample_bytree': 0.7, 'learning_rate': 0.0...  ...   \n",
       "2  {'colsample_bytree': 0.7, 'learning_rate': 0.1...  ...   \n",
       "3  {'colsample_bytree': 0.7, 'learning_rate': 0.0...  ...   \n",
       "\n",
       "   split176_test_score  split177_test_score  split178_test_score  \\\n",
       "0             0.237486             0.051554             0.051340   \n",
       "1             0.207902            -0.000305             0.044442   \n",
       "2             0.173956             0.048640            -0.104449   \n",
       "3             0.277656             0.000469             0.130345   \n",
       "\n",
       "   split179_test_score  split180_test_score  split181_test_score  \\\n",
       "0             0.140058            -0.033148             0.054978   \n",
       "1             0.139219             0.016702             0.010396   \n",
       "2             0.161773            -0.025493             0.007729   \n",
       "3             0.083912            -0.080331            -0.002642   \n",
       "\n",
       "   split182_test_score  mean_test_score  std_test_score  rank_test_score  \n",
       "0             0.079936         0.048139        0.125808                1  \n",
       "1            -0.008289         0.038925        0.132714                2  \n",
       "2            -0.013179         0.037212        0.133683                3  \n",
       "3            -0.142496         0.036784        0.134582                4  \n",
       "\n",
       "[4 rows x 196 columns]"
      ]
     },
     "metadata": {},
     "output_type": "display_data"
    },
    {
     "name": "stdout",
     "output_type": "stream",
     "text": [
      "Best (overall IC scorer) params: {'colsample_bytree': 0.7, 'learning_rate': 0.1, 'max_depth': 4, 'min_child_weight': 3, 'subsample': 0.7}\n"
     ]
    }
   ],
   "source": [
    "outcome_data = (X_train\n",
    "                .join(y_train[[target]])\n",
    "                .dropna())\n",
    "print(f\"Training rows (with target): {outcome_data.shape[0]} | Features: {X_train.shape[1]}\")\n",
    "\n",
    "def spearman_ic(y_true, y_pred):\n",
    "    return spearmanr(y_true, y_pred)[0]\n",
    "\n",
    "spearman_scorer = make_scorer(spearman_ic, greater_is_better=True)\n",
    "\n",
    "xgb_grid = {\n",
    "    \"learning_rate\":     [0.03, 0.1],\n",
    "    \"max_depth\":         [4, 6],\n",
    "    \"min_child_weight\":  [3],\n",
    "    \"subsample\":         [0.7],\n",
    "    \"colsample_bytree\":  [0.7],\n",
    "}\n",
    "\n",
    "# 'max_depth': 4, 'subsample': 0.7, 'colsample_bytree': 0.7, 'min_child_weight': 3, 'learning_rate': 0.1\n",
    "\n",
    "X_for_cv = outcome_data.drop(columns=[target])\n",
    "precomputed_splits = list(cv.split(X_for_cv))  # reuse existing custom CV indices\n",
    "\n",
    "xgb_base = XGBRegressor(\n",
    "    objective='reg:squarederror',\n",
    "    booster='gbtree',\n",
    "    tree_method='gpu_hist',      # change to 'gpu_hist' if GPU available\n",
    "    n_jobs=-1,\n",
    "    random_state=42,\n",
    "    verbosity=0\n",
    ")\n",
    "\n",
    "gcv = GridSearchCV(\n",
    "    estimator=xgb_base,\n",
    "    param_grid=xgb_grid,\n",
    "    scoring=spearman_scorer,\n",
    "    cv=precomputed_splits,\n",
    "    n_jobs=-1,\n",
    "    refit=False,\n",
    "    verbose=1\n",
    ")\n",
    "gcv.fit(X_for_cv, outcome_data[target])\n",
    "\n",
    "cv_results_df = (pd.DataFrame(gcv.cv_results_)\n",
    "                 .sort_values(\"rank_test_score\")\n",
    "                 .reset_index(drop=True))\n",
    "display(cv_results_df.head(10))\n",
    "print(\"Best (overall IC scorer) params:\", cv_results_df.iloc[0].params)"
   ]
  },
  {
   "cell_type": "code",
   "execution_count": 92,
   "id": "025f4e6d",
   "metadata": {},
   "outputs": [
    {
     "name": "stdout",
     "output_type": "stream",
     "text": [
      "Best Params: {'max_depth': 4, 'subsample': 0.7, 'colsample_bytree': 0.7, 'min_child_weight': 3, 'learning_rate': 0.1}\n"
     ]
    }
   ],
   "source": [
    "best_params = cv_results_df.iloc[0].params\n",
    "best_params_model = {\n",
    "    k: best_params[k] for k in [\n",
    "        \"max_depth\",\n",
    "        \"subsample\",\n",
    "        \"colsample_bytree\",\n",
    "        \"min_child_weight\",\n",
    "        \"learning_rate\",\n",
    "\n",
    "    ]\n",
    "}\n",
    "print(\"Best Params:\", best_params_model)"
   ]
  },
  {
   "cell_type": "code",
   "execution_count": 93,
   "id": "2072803c",
   "metadata": {},
   "outputs": [
    {
     "name": "stdout",
     "output_type": "stream",
     "text": [
      "Best iteration: 2 Best score: 0.03117931034057459\n"
     ]
    }
   ],
   "source": [
    "val_days = int(len(dates_available) * 0.08)\n",
    "all_dates = sorted(X_train.index.get_level_values('date').unique())\n",
    "val_start = all_dates[-val_days]\n",
    "\n",
    "X_tr_in = X_train[X_train.index.get_level_values('date') < val_start]\n",
    "y_tr_in = y_train.loc[X_tr_in.index][target]\n",
    "X_val = X_train[X_train.index.get_level_values('date') >= val_start]\n",
    "y_val = y_train.loc[X_val.index][target]\n",
    "\n",
    "best_params = cv_results_df.iloc[0].params\n",
    "# Allow many trees; early stopping will cut\n",
    "final_es = XGBRegressor(\n",
    "    objective='reg:squarederror',\n",
    "    booster='gbtree',\n",
    "    tree_method='hist',\n",
    "    n_jobs=-1,\n",
    "    random_state=42,\n",
    "    n_estimators=2000,\n",
    "    eval_metric='rmse',\n",
    "    early_stopping_rounds=100,\n",
    "    **best_params\n",
    ")\n",
    "final_es.fit(\n",
    "    X_tr_in, y_tr_in,\n",
    "    eval_set=[(X_val, y_val)],\n",
    "    verbose=False\n",
    ")\n",
    "print(\"Best iteration:\", final_es.best_iteration, \"Best score:\", final_es.best_score)\n",
    "\n",
    "# Refit on full training with optimal trees\n",
    "best_n = final_es.best_iteration + 1\n",
    "refit_model = XGBRegressor(\n",
    "    objective='reg:squarederror',\n",
    "    booster='gbtree',\n",
    "    tree_method='hist',\n",
    "    n_jobs=-1,\n",
    "    random_state=42,\n",
    "    n_estimators=best_n,\n",
    "    **best_params\n",
    ")\n",
    "refit_model.fit(X_train, y_train[target])\n",
    "y_test_pred = refit_model.predict(X_test)\n",
    "y_test_pred = refit_model.predict(X_test)"
   ]
  },
  {
   "cell_type": "code",
   "execution_count": 94,
   "id": "f702c106",
   "metadata": {},
   "outputs": [],
   "source": [
    "# Predict on test\n",
    "y_test_pred = final_model.predict(X_test)"
   ]
  },
  {
   "cell_type": "code",
   "execution_count": 95,
   "id": "e8d9c636",
   "metadata": {},
   "outputs": [],
   "source": [
    "# Assemble test predictions\n",
    "test_predictions = y_test[[target]].copy()\n",
    "test_predictions['predicted'] = y_test_pred\n",
    "test_predictions.columns = ['actuals', 'predicted']"
   ]
  },
  {
   "cell_type": "code",
   "execution_count": 96,
   "id": "31de3b25",
   "metadata": {},
   "outputs": [
    {
     "name": "stdout",
     "output_type": "stream",
     "text": [
      "Test Mean Daily IC: 2.48%\n",
      "Test Overall IC: 2.61%\n",
      "Test Mean Daily RMSE: 0.021224798061760367\n"
     ]
    }
   ],
   "source": [
    "# Compute per-day IC & RMSE on test\n",
    "test_day_groups = test_predictions.groupby(level='date')\n",
    "test_daily_ic = test_day_groups.apply(lambda df: spearmanr(df.actuals, df.predicted)[0]).to_frame('ic')\n",
    "test_daily_rmse = test_day_groups.apply(lambda df: np.sqrt(mean_squared_error(df.actuals, df.predicted))).to_frame('rmse')\n",
    "print(\"Test Mean Daily IC: {:.2%}\".format(test_daily_ic.ic.mean()))\n",
    "print(\"Test Overall IC: {:.2%}\".format(spearmanr(test_predictions.actuals, test_predictions.predicted)[0]))\n",
    "print(\"Test Mean Daily RMSE:\", test_daily_rmse.rmse.mean())"
   ]
  },
  {
   "cell_type": "code",
   "execution_count": 97,
   "id": "1615f2a1",
   "metadata": {},
   "outputs": [],
   "source": [
    "# Portfolio construction (long/short)\n",
    "predictions_unstacked = test_predictions['predicted'].unstack('ticker')\n",
    "actuals_unstacked = test_predictions['actuals'].unstack('ticker')"
   ]
  },
  {
   "cell_type": "code",
   "execution_count": 98,
   "id": "84a62ccf",
   "metadata": {},
   "outputs": [],
   "source": [
    "N_LONG = 1\n",
    "N_SHORT = 1"
   ]
  },
  {
   "cell_type": "code",
   "execution_count": 76,
   "id": "7a5d4be5",
   "metadata": {},
   "outputs": [],
   "source": [
    "long_signals = ((predictions_unstacked\n",
    "                 .where(predictions_unstacked > 0)\n",
    "                 .rank(axis=1, ascending=False) <= N_LONG).astype(int))\n",
    "short_signals = ((predictions_unstacked\n",
    "                  .where(predictions_unstacked < 0)\n",
    "                  .rank(axis=1, ascending=True) <= N_SHORT).astype(int))"
   ]
  },
  {
   "cell_type": "code",
   "execution_count": 77,
   "id": "3f5c458c",
   "metadata": {},
   "outputs": [],
   "source": [
    "long_returns = (long_signals * actuals_unstacked).sum(axis=1) / long_signals.sum(axis=1)\n",
    "short_returns = (short_signals * (-actuals_unstacked)).sum(axis=1) / short_signals.sum(axis=1)"
   ]
  },
  {
   "cell_type": "code",
   "execution_count": 78,
   "id": "ce78c129",
   "metadata": {},
   "outputs": [],
   "source": [
    "strategy_returns = long_returns.fillna(0) + short_returns.fillna(0)\n",
    "market_returns = actuals_unstacked.mean(axis=1)"
   ]
  },
  {
   "cell_type": "code",
   "execution_count": 79,
   "id": "709d1d37",
   "metadata": {},
   "outputs": [],
   "source": [
    "cumulative_strategy_returns = (1 + strategy_returns).cumprod() - 1\n",
    "cumulative_market_returns = (1 + market_returns).cumprod() - 1"
   ]
  },
  {
   "cell_type": "code",
   "execution_count": 80,
   "id": "800a63c2",
   "metadata": {},
   "outputs": [
    {
     "data": {
      "image/png": "[encoded data removed]",
      "text/plain": [
       "<Figure size 1200x600 with 1 Axes>"
      ]
     },
     "metadata": {},
     "output_type": "display_data"
    }
   ],
   "source": [
    "plt.figure(figsize=(12,6))\n",
    "cumulative_strategy_returns.plot(label='RF Strategy', linewidth=2)\n",
    "cumulative_market_returns.plot(label='Market (Equal-Weighted)', linewidth=2, alpha=0.7)\n",
    "plt.title('Cumulative Returns: XGBoost Strategy vs Market')\n",
    "plt.ylabel('Cumulative Return')\n",
    "plt.xlabel('Date')\n",
    "plt.gca().yaxis.set_major_formatter(FuncFormatter(lambda y, _: '{:.1%}'.format(y)))\n",
    "plt.legend()\n",
    "plt.grid(alpha=0.3)\n",
    "plt.tight_layout()\n",
    "plt.show()"
   ]
  },
  {
   "cell_type": "code",
   "execution_count": 81,
   "id": "c31a5279",
   "metadata": {},
   "outputs": [
    {
     "name": "stdout",
     "output_type": "stream",
     "text": [
      "Strategy Total Return: 19.48%\n",
      "Market Total Return: 192.46%\n",
      "Strategy Sharpe Ratio: 0.44\n",
      "Market Sharpe Ratio: 2.43\n"
     ]
    }
   ],
   "source": [
    "sharpe_strategy = strategy_returns.mean() / strategy_returns.std() * np.sqrt(252) if strategy_returns.std()!=0 else np.nan\n",
    "sharpe_market = market_returns.mean() / market_returns.std() * np.sqrt(252) if market_returns.std()!=0 else np.nan\n",
    "\n",
    "print(f\"Strategy Total Return: {cumulative_strategy_returns.iloc[-1]:.2%}\")\n",
    "print(f\"Market Total Return: {cumulative_market_returns.iloc[-1]:.2%}\")\n",
    "print(f\"Strategy Sharpe Ratio: {sharpe_strategy:.2f}\")\n",
    "print(f\"Market Sharpe Ratio: {sharpe_market:.2f}\")"
   ]
  }
 ],
 "metadata": {
  "kernelspec": {
   "display_name": "venv",
   "language": "python",
   "name": "python3"
  },
  "language_info": {
   "codemirror_mode": {
    "name": "ipython",
    "version": 3
   },
   "file_extension": ".py",
   "mimetype": "text/x-python",
   "name": "python",
   "nbconvert_exporter": "python",
   "pygments_lexer": "ipython3",
   "version": "3.12.3"
  }
 },
 "nbformat": 4,
 "nbformat_minor": 5
}
